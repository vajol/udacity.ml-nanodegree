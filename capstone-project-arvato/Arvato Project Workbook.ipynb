{
 "cells": [
  {
   "cell_type": "markdown",
   "metadata": {},
   "source": [
    "# Capstone Project: Create a Customer Segmentation Report for Arvato Financial Services\n",
    "\n",
    "In this project, you will analyze demographics data for customers of a mail-order sales company in Germany, comparing it against demographics information for the general population. You'll use unsupervised learning techniques to perform customer segmentation, identifying the parts of the population that best describe the core customer base of the company. Then, you'll apply what you've learned on a third dataset with demographics information for targets of a marketing campaign for the company, and use a model to predict which individuals are most likely to convert into becoming customers for the company. The data that you will use has been provided by our partners at Bertelsmann Arvato Analytics, and represents a real-life data science task.\n",
    "\n",
    "If you completed the first term of this program, you will be familiar with the first part of this project, from the unsupervised learning project. The versions of those two datasets used in this project will include many more features and has not been pre-cleaned. You are also free to choose whatever approach you'd like to analyzing the data rather than follow pre-determined steps. In your work on this project, make sure that you carefully document your steps and decisions, since your main deliverable for this project will be a blog post reporting your findings."
   ]
  },
  {
   "cell_type": "code",
   "execution_count": 1,
   "metadata": {
    "scrolled": true
   },
   "outputs": [],
   "source": [
    "# import libraries here; add more as necessary\n",
    "import numpy as np\n",
    "import pandas as pd\n",
    "import matplotlib.pyplot as plt\n",
    "import seaborn as sns\n",
    "import pickle\n",
    "import math\n",
    "from sklearn.preprocessing import StandardScaler, OneHotEncoder\n",
    "from sklearn.decomposition import PCA\n",
    "from sklearn.cluster import KMeans\n",
    "from sklearn.model_selection import train_test_split, GridSearchCV\n",
    "from sklearn.ensemble import GradientBoostingClassifier, AdaBoostClassifier, RandomForestClassifier \n",
    "from sklearn.linear_model import LogisticRegression\n",
    "from sklearn.neighbors import KNeighborsClassifier\n",
    "from xgboost import XGBClassifier\n",
    "from sklearn.naive_bayes import GaussianNB\n",
    "from sklearn import model_selection\n",
    "from sklearn.utils import class_weight\n",
    "from sklearn.metrics import classification_report\n",
    "from sklearn.metrics import confusion_matrix\n",
    "from sklearn.metrics import roc_curve\n",
    "from sklearn.metrics import roc_auc_score\n",
    "from sklearn.model_selection import train_test_split, GridSearchCV\n",
    "import warnings\n",
    "\n",
    "# magic word for producing visualizations in notebook\n",
    "%matplotlib inline"
   ]
  },
  {
   "cell_type": "code",
   "execution_count": 2,
   "metadata": {
    "scrolled": true
   },
   "outputs": [],
   "source": [
    "def show_distinct_column_values(df, columns_list):\n",
    "    '''\n",
    "    Show distinct values for each column in the list.\n",
    "    \n",
    "    Input:\n",
    "        df: data frame to process\n",
    "        column_list: list of columns to analyze\n",
    "    \n",
    "    '''\n",
    "    for column in columns_list:\n",
    "        print(column)\n",
    "        values_list = df[column].unique() \n",
    "    \n",
    "        print(values_list)"
   ]
  },
  {
   "cell_type": "code",
   "execution_count": 3,
   "metadata": {
    "scrolled": true
   },
   "outputs": [],
   "source": [
    "def show_mixed_values(df, column_list):\n",
    "    '''\n",
    "    Show all columns and their values, if a column contains mixed data types.\n",
    "    \n",
    "    Input:\n",
    "        df: data frame to process\n",
    "        column_list: list of columns to analyze\n",
    "    '''\n",
    "    for column_name in column_list:\n",
    "        values_list = df[column_name].unique() \n",
    "    \n",
    "    print(\"{}, values: {}.\".format(column_name, values_list))"
   ]
  },
  {
   "cell_type": "code",
   "execution_count": 4,
   "metadata": {
    "scrolled": true
   },
   "outputs": [],
   "source": [
    "def clean_individual_columns(df):\n",
    "    '''\n",
    "    Clean individual columns of a data frame.\n",
    "    \n",
    "    Input:\n",
    "        - df: data frame to be cleaned\n",
    "    '''\n",
    "    df['OST_WEST_KZ'].replace(['W', 'O'], [1, 0], inplace = True)\n",
    "    df['OST_WEST_KZ'] = pd.to_numeric(df['OST_WEST_KZ'])\n",
    "    df['GEBURTSJAHR'].replace(0, np.nan, inplace = True)\n",
    "    df['VERS_TYP'].replace([2.0, 1.0], [1, 0], inplace = True)\n",
    "    df['ANREDE_KZ'].replace([2, 1], [1, 0], inplace = True)\n",
    "    df['CAMEO_DEUG_2015'] = pd.to_numeric(df['CAMEO_DEUG_2015'],errors = 'coerce')\n",
    "    df['CAMEO_INTL_2015'] = pd.to_numeric(df['CAMEO_INTL_2015'],errors = 'coerce')"
   ]
  },
  {
   "cell_type": "code",
   "execution_count": 5,
   "metadata": {
    "scrolled": true
   },
   "outputs": [],
   "source": [
    "def convert_unknown_to_nan(df, unknown_values_dict):\n",
    "    \"\"\"\n",
    "    Convert string values like \"unknown\" to \"NaN\" for all columns \n",
    "    in the data frame that can be found in the dictionary.\n",
    "    \n",
    "    Input:\n",
    "        df: a data frame to be converted\n",
    "        unknown_values_dict: a map with columns names and values to be converted to NaN\n",
    "        \n",
    "    Output:\n",
    "        A converted data frame.\n",
    "    \"\"\"\n",
    "    for attribute in unknown_values_dict:\n",
    "        if attribute in df.columns:\n",
    "            values_list = unknown_values_dict[attribute]\n",
    "            \n",
    "            for value in values_list:\n",
    "                df[attribute] = df[attribute].apply(lambda x: np.nan if x == int(value) else x)\n",
    "    return df"
   ]
  },
  {
   "cell_type": "code",
   "execution_count": 6,
   "metadata": {
    "scrolled": true
   },
   "outputs": [],
   "source": [
    "def prepare_categorical_to_process(df, drop_list, nominal_list):\n",
    "    '''\n",
    "    Produce lists of object, nominal and binary columns for the provided data frame.\n",
    "    \n",
    "    Input:\n",
    "        df: data frame to process\n",
    "        drop_list: list of columns to drop for the same data frame\n",
    "        nominal_list: list of nominal columns from the same data frame\n",
    "        \n",
    "    Output:\n",
    "        nominal_to_process: list of nominal columns reduced by columns to drop\n",
    "        binary_to_process: list of binary columns reduced by columns to drop\n",
    "        object_to_process: list of object columns reduced by columns to drop\n",
    "    '''\n",
    "    nominal_to_process = list(set(nominal_list) - set(drop_list))\n",
    "    \n",
    "    binary_columns = list(df.loc[:, df.nunique() == 2].columns)\n",
    "    binary_to_process = list(set(binary_columns) - set(drop_list))\n",
    "    \n",
    "    object_columns = list(df.select_dtypes(['object']).columns)\n",
    "    object_to_process = list(set(object_columns) - set(drop_list))\n",
    "    \n",
    "    return nominal_to_process, binary_to_process, object_to_process"
   ]
  },
  {
   "cell_type": "code",
   "execution_count": 7,
   "metadata": {
    "scrolled": true
   },
   "outputs": [],
   "source": [
    "def prepare_numerical_to_process(df, categorical_list):\n",
    "    '''\n",
    "    Produce a list of numerical columns from the provided data frame.\n",
    "    \n",
    "    Input:\n",
    "        df: data frame to process\n",
    "        categorical_list: list of categorical columns from the same data frame\n",
    "        \n",
    "    Output:\n",
    "        numerical_to_process: list of numerical columns reduced by categorical columns\n",
    "    '''\n",
    "    numerical_to_process = list(set(df.columns) - set(categorical_list))\n",
    "    \n",
    "    return numerical_to_process"
   ]
  },
  {
   "cell_type": "code",
   "execution_count": 8,
   "metadata": {
    "scrolled": true
   },
   "outputs": [],
   "source": [
    "def replace_xx_with_nan(df):\n",
    "    '''\n",
    "    Replace values like 'X' and 'XX' witn NaNs for all object type columns of the data frame.\n",
    "    \n",
    "    Input:\n",
    "        df: data frame to process\n",
    "    '''\n",
    "    column_list = list(df.select_dtypes('object').isin(['X', 'XX']).any().loc[lambda x: x == True].index)\n",
    "    for column in column_list:\n",
    "        df[column] = df[column].apply(lambda x: np.nan if x in ('X','XX') else x)"
   ]
  },
  {
   "cell_type": "code",
   "execution_count": 9,
   "metadata": {
    "scrolled": true
   },
   "outputs": [],
   "source": [
    "def impute_missing_values(df, categorical_list, numerical_list):\n",
    "    '''\n",
    "    Impute missing values of categorical and numerical columns for a given data frame.\n",
    "    \n",
    "    Input:\n",
    "        df: data frame to process\n",
    "        categorical_list: list of categorical columns of a given data frame\n",
    "        numerical_list: list of numerical columns of a given data frame\n",
    "    '''\n",
    "    df[categorical_list] = df[categorical_list].fillna(df.mode().iloc[0])\n",
    "    df[numerical_list] = df[numerical_list].fillna(df.median().iloc[0])"
   ]
  },
  {
   "cell_type": "code",
   "execution_count": 10,
   "metadata": {
    "scrolled": true
   },
   "outputs": [],
   "source": [
    "def report_skewness (df, column_list, dataset_name):\n",
    "    '''\n",
    "    Analyze and report skewness of a given column list and data frame.\n",
    "    \n",
    "    Input:\n",
    "        df: data frame to process\n",
    "        column_list: list of columns to be analyzed for skewness\n",
    "        dataset_name: a name of a data set to be used as a label for a report.\n",
    "    '''\n",
    "    df_skew = df[column_list].skew(axis = 0)\n",
    "    num_of_skewed_cols = df_skew[abs(df_skew) > 0.5].count()\n",
    "    min_skew = round(df_skew.min(), 2)\n",
    "    max_skew = round(df_skew.max() , 2)\n",
    "    \n",
    "    print(\"The dataset {} has min skew of {} and max skew of {}.\".format(dataset_name, min_skew, max_skew))\n",
    "    print(\"The dataset {} has {} columns with abs(skew) greater than 0.5.\".format(dataset_name, num_of_skewed_cols))"
   ]
  },
  {
   "cell_type": "code",
   "execution_count": 11,
   "metadata": {
    "scrolled": true
   },
   "outputs": [],
   "source": [
    "def plot_component_weights_and_features(component_number, pca_model, df):\n",
    "    '''\n",
    "    Produce a bar plot to show distribution of component weights and their features.\n",
    "    \n",
    "    Input:\n",
    "        component_number: a single component to be analyzed\n",
    "        pca_model: a PCA model whose component will be analyzed\n",
    "        df: a data frame to process\n",
    "        \n",
    "    Output:\n",
    "        wf_data: a data frame with weights and features to be used as a basis for a bar plot\n",
    "    '''\n",
    "    component = pca_model.components_[component_number]\n",
    "    wf = pd.DataFrame(list(zip(component, df.columns)), columns=['Weights', 'Features'])\n",
    "    wf['abs_weights'] = wf['Weights'].apply(lambda x: np.abs(x))\n",
    "    wf_data = wf.sort_values('abs_weights', ascending = False).head(10)\n",
    "    ax = sns.barplot(data = wf_data, x = 'Weights', y = 'Features', palette = 'rocket')\n",
    "    \n",
    "    ax.set_title('PCA Component number: ' + str(component_number))\n",
    "    plt.show()\n",
    "    \n",
    "    return wf_data"
   ]
  },
  {
   "cell_type": "code",
   "execution_count": 12,
   "metadata": {
    "scrolled": true
   },
   "outputs": [],
   "source": [
    "def find_rows_to_drop(df, percent):\n",
    "    '''\n",
    "    Find rows based on criteria and mark them for drop.\n",
    "    \n",
    "    Input:\n",
    "        df: data frame to process\n",
    "        percent: a percent of missing values in the row determining whether row should be dropped\n",
    "        \n",
    "    Output: a lisy of row number which are to be dropped    \n",
    "    '''\n",
    "    no_of_nan = df.isnull().sum(axis=1)\n",
    "    perc_of_nan = (no_of_nan / len(df.columns)) * 100\n",
    "    to_drop = perc_of_nan[(perc_of_nan.values > percent )].index\n",
    "    \n",
    "    return to_drop"
   ]
  },
  {
   "cell_type": "code",
   "execution_count": 13,
   "metadata": {
    "scrolled": true
   },
   "outputs": [],
   "source": [
    "def perform_pca(df, components_number):\n",
    "    '''\n",
    "    Build a PCA model for a given data set and a number of components.\n",
    "    \n",
    "    Input:\n",
    "        df: data set to process\n",
    "        component_number: number of components to model\n",
    "        \n",
    "    Output:\n",
    "        pca_model: a PCA model\n",
    "        transformed_df: a transformed dataset\n",
    "    '''\n",
    "    pca_model = PCA(components_number)\n",
    "    transformed_df = pca_model.fit_transform(df)\n",
    "    \n",
    "    return pca_model, transformed_df"
   ]
  },
  {
   "cell_type": "code",
   "execution_count": 14,
   "metadata": {
    "scrolled": true
   },
   "outputs": [],
   "source": [
    "def log_transform_skewed_columns(df, column_list):\n",
    "    '''\n",
    "    Perform log transform on the list of skewed columns for a given list and a data frame.\n",
    "    \n",
    "    Input:\n",
    "        df: data frame to process\n",
    "        column_list: a list of columns to be log transformed\n",
    "        \n",
    "    Output: a new data frame with log transformed columns\n",
    "    '''\n",
    "    transformed_df = np.log1p(df[column_list])\n",
    "    \n",
    "    return transformed_df"
   ]
  },
  {
   "cell_type": "code",
   "execution_count": 15,
   "metadata": {
    "scrolled": true
   },
   "outputs": [],
   "source": [
    "def log_transform_skewed_data_frame(df):\n",
    "    '''\n",
    "    Perform log transform on the given data frame.\n",
    "    \n",
    "    Input:\n",
    "        df: data frame to process\n",
    "        \n",
    "    Output: a new data frame with log transformed columns\n",
    "    '''\n",
    "    transformed_df = np.log1p(df)\n",
    "    \n",
    "    return transformed_df"
   ]
  },
  {
   "cell_type": "code",
   "execution_count": 220,
   "metadata": {
    "scrolled": true
   },
   "outputs": [],
   "source": [
    "def plot_cluster_details(cluster_number, pca_model, kmeans_model, df, attribute_details):\n",
    "    '''\n",
    "    Produce a bar plot to show cluster features and their values for a given cluster\n",
    "    \n",
    "    Input:\n",
    "        cluster_number: a single cluster to be analyzed\n",
    "        pca_model: a PCA model which will be analyzed\n",
    "        kmeans_model: kmeans model to be abalyzed\n",
    "        df: a data frame to process\n",
    "        attribute_details: data frame with attribute details such as description, meaning etc.\n",
    "        \n",
    "    Output:\n",
    "        cluster_data: a data frame with features which contribute to cluster the most\n",
    "    '''\n",
    "    \n",
    "    cluster_values = pca_model.inverse_transform(kmeans_model.cluster_centers_[cluster_number])\n",
    "    cluster_df = pd.DataFrame(list(zip(cluster_values, df.columns)), columns=['Values', 'Features'])\n",
    "    \n",
    "    cluster_head = cluster_df.sort_values('Values', ascending = False).head(5)\n",
    "    cluster_data = cluster_head.append(cluster_df.sort_values('Values', ascending = False).tail(5))\n",
    "    \n",
    "    desc = []\n",
    "\n",
    "    for feature in cluster_data.Features:\n",
    "        if feature in attribute_details.Attribute.values:\n",
    "            desc.append(attribute_values[attribute_details.Attribute == feature].Description.values[0])\n",
    "        else:\n",
    "            desc.append('Description missing')\n",
    "\n",
    "    description_df = pd.DataFrame({'Descriptions':desc})\n",
    "    cluster_data['Descriptions'] = description_df.Descriptions.values\n",
    "\n",
    "    ax = sns.barplot(data = cluster_data, x = 'Values', y = 'Features', palette = 'flare')\n",
    "    ax.set_title('Cluster number: ' + str(cluster_number))\n",
    "    plt.show()\n",
    "    \n",
    "    return cluster_data"
   ]
  },
  {
   "cell_type": "code",
   "execution_count": 210,
   "metadata": {
    "scrolled": true
   },
   "outputs": [],
   "source": [
    "def clean_mailout_data(df, unknown_values, drop_list, hidden_list):\n",
    "    '''\n",
    "    Clean mailout data set by removing incorrect data and dropping columns.\n",
    "    \n",
    "    Input:\n",
    "        df: data frame to process\n",
    "        unknow_values: the list of values that are aliases for missing values\n",
    "        drop_list: the list of column names to drop\n",
    "        hidden_list: the list of \"hidden\" columns with a. lot of missing data\n",
    "        \n",
    "    Output: a new data frame with cleaned data\n",
    "    '''\n",
    "    replace_xx_with_nan(df)\n",
    "    clean_individual_columns(df)\n",
    "    df_conv = convert_unknown_to_nan(df, unknown_values)\n",
    "    \n",
    "    df_reduced = df_conv.drop(columns = drop_list, axis = 1)\n",
    "    df_reduced = df_reduced.drop(columns = hidden_list, axis = 1)\n",
    "    \n",
    "    return df_reduced"
   ]
  },
  {
   "cell_type": "code",
   "execution_count": 211,
   "metadata": {
    "scrolled": true
   },
   "outputs": [],
   "source": [
    "def impute_mailout_data(df, drop_list, nominal_list):\n",
    "    '''\n",
    "    Perform data imputation on the given data frame.\n",
    "    \n",
    "    Input:\n",
    "        df: data frame to process\n",
    "        drop_list: list of columns to drop\n",
    "        nominal_list: list of nominal columns\n",
    "        \n",
    "    Output: a new data frame imputed data and list of categorical columns\n",
    "    '''\n",
    "    temp_df = df\n",
    "    mail_nominal, mail_binary, mail_object = prepare_categorical_to_process(temp_df, \n",
    "                                                                            drop_list,\n",
    "                                                                            nominal_list)\n",
    "\n",
    "    mail_categorical = mail_nominal + mail_binary + mail_object\n",
    "    mail_categorical = list(dict.fromkeys(mail_categorical))\n",
    "    mail_numerical = prepare_numerical_to_process(temp_df, mail_categorical)\n",
    "    \n",
    "    impute_missing_values(temp_df, mail_categorical, mail_numerical)\n",
    "    \n",
    "    return temp_df, mail_categorical"
   ]
  },
  {
   "cell_type": "code",
   "execution_count": 212,
   "metadata": {
    "scrolled": true
   },
   "outputs": [],
   "source": [
    "def encode_and_scale_mailout_data(df, categorical_list):\n",
    "    '''\n",
    "    Perform encoding and scaling on the given data frame.\n",
    "    \n",
    "    Input:\n",
    "        df: data frame to process\n",
    "        categorical_list: list of categorical columns in the data frame\n",
    "        \n",
    "    Output: a new data frame with encoded and scaled data\n",
    "    '''\n",
    "    encoded_df = pd.get_dummies(df, drop_first = True, columns = categorical_list)\n",
    "    log_transformed_df = log_transform_skewed_data_frame(encoded_df)\n",
    "    \n",
    "    scaler = StandardScaler()\n",
    "    scaled_data = scaler.fit_transform(log_transformed_df)\n",
    "    scaled_df = pd.DataFrame(scaled_data, columns = encoded_df.columns)\n",
    "    \n",
    "    return scaled_df"
   ]
  },
  {
   "cell_type": "markdown",
   "metadata": {},
   "source": [
    "## Part 0: Get to Know the Data\n",
    "\n",
    "There are four data files associated with this project:\n",
    "\n",
    "- `Udacity_AZDIAS_052018.csv`: Demographics data for the general population of Germany; 891 211 persons (rows) x 366 features (columns).\n",
    "- `Udacity_CUSTOMERS_052018.csv`: Demographics data for customers of a mail-order company; 191 652 persons (rows) x 369 features (columns).\n",
    "- `Udacity_MAILOUT_052018_TRAIN.csv`: Demographics data for individuals who were targets of a marketing campaign; 42 982 persons (rows) x 367 (columns).\n",
    "- `Udacity_MAILOUT_052018_TEST.csv`: Demographics data for individuals who were targets of a marketing campaign; 42 833 persons (rows) x 366 (columns).\n",
    "\n",
    "Each row of the demographics files represents a single person, but also includes information outside of individuals, including information about their household, building, and neighborhood. Use the information from the first two files to figure out how customers (\"CUSTOMERS\") are similar to or differ from the general population at large (\"AZDIAS\"), then use your analysis to make predictions on the other two files (\"MAILOUT\"), predicting which recipients are most likely to become a customer for the mail-order company.\n",
    "\n",
    "The \"CUSTOMERS\" file contains three extra columns ('CUSTOMER_GROUP', 'ONLINE_PURCHASE', and 'PRODUCT_GROUP'), which provide broad information about the customers depicted in the file. The original \"MAILOUT\" file included one additional column, \"RESPONSE\", which indicated whether or not each recipient became a customer of the company. For the \"TRAIN\" subset, this column has been retained, but in the \"TEST\" subset it has been removed; it is against that withheld column that your final predictions will be assessed in the Kaggle competition.\n",
    "\n",
    "Otherwise, all of the remaining columns are the same between the three data files. For more information about the columns depicted in the files, you can refer to two Excel spreadsheets provided in the workspace. [One of them](./DIAS Information Levels - Attributes 2017.xlsx) is a top-level list of attributes and descriptions, organized by informational category. [The other](./DIAS Attributes - Values 2017.xlsx) is a detailed mapping of data values for each feature in alphabetical order.\n",
    "\n",
    "In the below cell, we've provided some initial code to load in the first two datasets. Note for all of the `.csv` data files in this project that they're semicolon (`;`) delimited, so an additional argument in the [`read_csv()`](https://pandas.pydata.org/pandas-docs/stable/generated/pandas.read_csv.html) call has been included to read in the data properly. Also, considering the size of the datasets, it may take some time for them to load completely.\n",
    "\n",
    "You'll notice when the data is loaded in that a warning message will immediately pop up. Before you really start digging into the modeling and analysis, you're going to need to perform some cleaning. Take some time to browse the structure of the data and look over the informational spreadsheets to understand the data values. Make some decisions on which features to keep, which features to drop, and if any revisions need to be made on data formats. It'll be a good idea to create a function with pre-processing steps, since you'll need to clean all of the datasets before you work with them."
   ]
  },
  {
   "cell_type": "code",
   "execution_count": 16,
   "metadata": {
    "scrolled": true
   },
   "outputs": [
    {
     "name": "stderr",
     "output_type": "stream",
     "text": [
      "/Users/vajolukic/anaconda3/lib/python3.7/site-packages/IPython/core/interactiveshell.py:3170: DtypeWarning: Columns (18,19) have mixed types.Specify dtype option on import or set low_memory=False.\n",
      "  interactivity=interactivity, compiler=compiler, result=result)\n"
     ]
    }
   ],
   "source": [
    "# load in the data\n",
    "azdias = pd.read_csv('data/Udacity_AZDIAS_052018.csv', sep=';')\n",
    "customers = pd.read_csv('data/Udacity_CUSTOMERS_052018.csv', sep=';')"
   ]
  },
  {
   "cell_type": "code",
   "execution_count": 17,
   "metadata": {
    "scrolled": true
   },
   "outputs": [],
   "source": [
    "# load pickled data\n",
    "#azdias = pd.read_pickle('azdias.pickle')\n",
    "#customers = pd.read_pickle('customers.pickle')"
   ]
  },
  {
   "cell_type": "markdown",
   "metadata": {},
   "source": [
    "## Exploring the data"
   ]
  },
  {
   "cell_type": "markdown",
   "metadata": {},
   "source": [
    "### Head and shape of the data sets"
   ]
  },
  {
   "cell_type": "code",
   "execution_count": 18,
   "metadata": {
    "scrolled": false
   },
   "outputs": [
    {
     "data": {
      "text/html": [
       "<div>\n",
       "<style scoped>\n",
       "    .dataframe tbody tr th:only-of-type {\n",
       "        vertical-align: middle;\n",
       "    }\n",
       "\n",
       "    .dataframe tbody tr th {\n",
       "        vertical-align: top;\n",
       "    }\n",
       "\n",
       "    .dataframe thead th {\n",
       "        text-align: right;\n",
       "    }\n",
       "</style>\n",
       "<table border=\"1\" class=\"dataframe\">\n",
       "  <thead>\n",
       "    <tr style=\"text-align: right;\">\n",
       "      <th></th>\n",
       "      <th>LNR</th>\n",
       "      <th>AGER_TYP</th>\n",
       "      <th>AKT_DAT_KL</th>\n",
       "      <th>ALTER_HH</th>\n",
       "      <th>ALTER_KIND1</th>\n",
       "      <th>ALTER_KIND2</th>\n",
       "      <th>ALTER_KIND3</th>\n",
       "      <th>ALTER_KIND4</th>\n",
       "      <th>ALTERSKATEGORIE_FEIN</th>\n",
       "      <th>ANZ_HAUSHALTE_AKTIV</th>\n",
       "      <th>...</th>\n",
       "      <th>VHN</th>\n",
       "      <th>VK_DHT4A</th>\n",
       "      <th>VK_DISTANZ</th>\n",
       "      <th>VK_ZG11</th>\n",
       "      <th>W_KEIT_KIND_HH</th>\n",
       "      <th>WOHNDAUER_2008</th>\n",
       "      <th>WOHNLAGE</th>\n",
       "      <th>ZABEOTYP</th>\n",
       "      <th>ANREDE_KZ</th>\n",
       "      <th>ALTERSKATEGORIE_GROB</th>\n",
       "    </tr>\n",
       "  </thead>\n",
       "  <tbody>\n",
       "    <tr>\n",
       "      <th>0</th>\n",
       "      <td>910215</td>\n",
       "      <td>-1</td>\n",
       "      <td>NaN</td>\n",
       "      <td>NaN</td>\n",
       "      <td>NaN</td>\n",
       "      <td>NaN</td>\n",
       "      <td>NaN</td>\n",
       "      <td>NaN</td>\n",
       "      <td>NaN</td>\n",
       "      <td>NaN</td>\n",
       "      <td>...</td>\n",
       "      <td>NaN</td>\n",
       "      <td>NaN</td>\n",
       "      <td>NaN</td>\n",
       "      <td>NaN</td>\n",
       "      <td>NaN</td>\n",
       "      <td>NaN</td>\n",
       "      <td>NaN</td>\n",
       "      <td>3</td>\n",
       "      <td>1</td>\n",
       "      <td>2</td>\n",
       "    </tr>\n",
       "    <tr>\n",
       "      <th>1</th>\n",
       "      <td>910220</td>\n",
       "      <td>-1</td>\n",
       "      <td>9.0</td>\n",
       "      <td>0.0</td>\n",
       "      <td>NaN</td>\n",
       "      <td>NaN</td>\n",
       "      <td>NaN</td>\n",
       "      <td>NaN</td>\n",
       "      <td>21.0</td>\n",
       "      <td>11.0</td>\n",
       "      <td>...</td>\n",
       "      <td>4.0</td>\n",
       "      <td>8.0</td>\n",
       "      <td>11.0</td>\n",
       "      <td>10.0</td>\n",
       "      <td>3.0</td>\n",
       "      <td>9.0</td>\n",
       "      <td>4.0</td>\n",
       "      <td>5</td>\n",
       "      <td>2</td>\n",
       "      <td>1</td>\n",
       "    </tr>\n",
       "    <tr>\n",
       "      <th>2</th>\n",
       "      <td>910225</td>\n",
       "      <td>-1</td>\n",
       "      <td>9.0</td>\n",
       "      <td>17.0</td>\n",
       "      <td>NaN</td>\n",
       "      <td>NaN</td>\n",
       "      <td>NaN</td>\n",
       "      <td>NaN</td>\n",
       "      <td>17.0</td>\n",
       "      <td>10.0</td>\n",
       "      <td>...</td>\n",
       "      <td>2.0</td>\n",
       "      <td>9.0</td>\n",
       "      <td>9.0</td>\n",
       "      <td>6.0</td>\n",
       "      <td>3.0</td>\n",
       "      <td>9.0</td>\n",
       "      <td>2.0</td>\n",
       "      <td>5</td>\n",
       "      <td>2</td>\n",
       "      <td>3</td>\n",
       "    </tr>\n",
       "    <tr>\n",
       "      <th>3</th>\n",
       "      <td>910226</td>\n",
       "      <td>2</td>\n",
       "      <td>1.0</td>\n",
       "      <td>13.0</td>\n",
       "      <td>NaN</td>\n",
       "      <td>NaN</td>\n",
       "      <td>NaN</td>\n",
       "      <td>NaN</td>\n",
       "      <td>13.0</td>\n",
       "      <td>1.0</td>\n",
       "      <td>...</td>\n",
       "      <td>0.0</td>\n",
       "      <td>7.0</td>\n",
       "      <td>10.0</td>\n",
       "      <td>11.0</td>\n",
       "      <td>NaN</td>\n",
       "      <td>9.0</td>\n",
       "      <td>7.0</td>\n",
       "      <td>3</td>\n",
       "      <td>2</td>\n",
       "      <td>4</td>\n",
       "    </tr>\n",
       "    <tr>\n",
       "      <th>4</th>\n",
       "      <td>910241</td>\n",
       "      <td>-1</td>\n",
       "      <td>1.0</td>\n",
       "      <td>20.0</td>\n",
       "      <td>NaN</td>\n",
       "      <td>NaN</td>\n",
       "      <td>NaN</td>\n",
       "      <td>NaN</td>\n",
       "      <td>14.0</td>\n",
       "      <td>3.0</td>\n",
       "      <td>...</td>\n",
       "      <td>2.0</td>\n",
       "      <td>3.0</td>\n",
       "      <td>5.0</td>\n",
       "      <td>4.0</td>\n",
       "      <td>2.0</td>\n",
       "      <td>9.0</td>\n",
       "      <td>3.0</td>\n",
       "      <td>4</td>\n",
       "      <td>1</td>\n",
       "      <td>3</td>\n",
       "    </tr>\n",
       "  </tbody>\n",
       "</table>\n",
       "<p>5 rows × 366 columns</p>\n",
       "</div>"
      ],
      "text/plain": [
       "      LNR  AGER_TYP  AKT_DAT_KL  ALTER_HH  ALTER_KIND1  ALTER_KIND2  \\\n",
       "0  910215        -1         NaN       NaN          NaN          NaN   \n",
       "1  910220        -1         9.0       0.0          NaN          NaN   \n",
       "2  910225        -1         9.0      17.0          NaN          NaN   \n",
       "3  910226         2         1.0      13.0          NaN          NaN   \n",
       "4  910241        -1         1.0      20.0          NaN          NaN   \n",
       "\n",
       "   ALTER_KIND3  ALTER_KIND4  ALTERSKATEGORIE_FEIN  ANZ_HAUSHALTE_AKTIV  ...  \\\n",
       "0          NaN          NaN                   NaN                  NaN  ...   \n",
       "1          NaN          NaN                  21.0                 11.0  ...   \n",
       "2          NaN          NaN                  17.0                 10.0  ...   \n",
       "3          NaN          NaN                  13.0                  1.0  ...   \n",
       "4          NaN          NaN                  14.0                  3.0  ...   \n",
       "\n",
       "   VHN  VK_DHT4A  VK_DISTANZ  VK_ZG11  W_KEIT_KIND_HH  WOHNDAUER_2008  \\\n",
       "0  NaN       NaN         NaN      NaN             NaN             NaN   \n",
       "1  4.0       8.0        11.0     10.0             3.0             9.0   \n",
       "2  2.0       9.0         9.0      6.0             3.0             9.0   \n",
       "3  0.0       7.0        10.0     11.0             NaN             9.0   \n",
       "4  2.0       3.0         5.0      4.0             2.0             9.0   \n",
       "\n",
       "   WOHNLAGE ZABEOTYP ANREDE_KZ ALTERSKATEGORIE_GROB  \n",
       "0       NaN        3         1                    2  \n",
       "1       4.0        5         2                    1  \n",
       "2       2.0        5         2                    3  \n",
       "3       7.0        3         2                    4  \n",
       "4       3.0        4         1                    3  \n",
       "\n",
       "[5 rows x 366 columns]"
      ]
     },
     "execution_count": 18,
     "metadata": {},
     "output_type": "execute_result"
    }
   ],
   "source": [
    "azdias.head()"
   ]
  },
  {
   "cell_type": "code",
   "execution_count": 19,
   "metadata": {
    "scrolled": false
   },
   "outputs": [
    {
     "data": {
      "text/html": [
       "<div>\n",
       "<style scoped>\n",
       "    .dataframe tbody tr th:only-of-type {\n",
       "        vertical-align: middle;\n",
       "    }\n",
       "\n",
       "    .dataframe tbody tr th {\n",
       "        vertical-align: top;\n",
       "    }\n",
       "\n",
       "    .dataframe thead th {\n",
       "        text-align: right;\n",
       "    }\n",
       "</style>\n",
       "<table border=\"1\" class=\"dataframe\">\n",
       "  <thead>\n",
       "    <tr style=\"text-align: right;\">\n",
       "      <th></th>\n",
       "      <th>LNR</th>\n",
       "      <th>AGER_TYP</th>\n",
       "      <th>AKT_DAT_KL</th>\n",
       "      <th>ALTER_HH</th>\n",
       "      <th>ALTER_KIND1</th>\n",
       "      <th>ALTER_KIND2</th>\n",
       "      <th>ALTER_KIND3</th>\n",
       "      <th>ALTER_KIND4</th>\n",
       "      <th>ALTERSKATEGORIE_FEIN</th>\n",
       "      <th>ANZ_HAUSHALTE_AKTIV</th>\n",
       "      <th>...</th>\n",
       "      <th>VK_ZG11</th>\n",
       "      <th>W_KEIT_KIND_HH</th>\n",
       "      <th>WOHNDAUER_2008</th>\n",
       "      <th>WOHNLAGE</th>\n",
       "      <th>ZABEOTYP</th>\n",
       "      <th>PRODUCT_GROUP</th>\n",
       "      <th>CUSTOMER_GROUP</th>\n",
       "      <th>ONLINE_PURCHASE</th>\n",
       "      <th>ANREDE_KZ</th>\n",
       "      <th>ALTERSKATEGORIE_GROB</th>\n",
       "    </tr>\n",
       "  </thead>\n",
       "  <tbody>\n",
       "    <tr>\n",
       "      <th>0</th>\n",
       "      <td>9626</td>\n",
       "      <td>2</td>\n",
       "      <td>1.0</td>\n",
       "      <td>10.0</td>\n",
       "      <td>NaN</td>\n",
       "      <td>NaN</td>\n",
       "      <td>NaN</td>\n",
       "      <td>NaN</td>\n",
       "      <td>10.0</td>\n",
       "      <td>1.0</td>\n",
       "      <td>...</td>\n",
       "      <td>2.0</td>\n",
       "      <td>6.0</td>\n",
       "      <td>9.0</td>\n",
       "      <td>7.0</td>\n",
       "      <td>3</td>\n",
       "      <td>COSMETIC_AND_FOOD</td>\n",
       "      <td>MULTI_BUYER</td>\n",
       "      <td>0</td>\n",
       "      <td>1</td>\n",
       "      <td>4</td>\n",
       "    </tr>\n",
       "    <tr>\n",
       "      <th>1</th>\n",
       "      <td>9628</td>\n",
       "      <td>-1</td>\n",
       "      <td>9.0</td>\n",
       "      <td>11.0</td>\n",
       "      <td>NaN</td>\n",
       "      <td>NaN</td>\n",
       "      <td>NaN</td>\n",
       "      <td>NaN</td>\n",
       "      <td>NaN</td>\n",
       "      <td>NaN</td>\n",
       "      <td>...</td>\n",
       "      <td>3.0</td>\n",
       "      <td>0.0</td>\n",
       "      <td>9.0</td>\n",
       "      <td>NaN</td>\n",
       "      <td>3</td>\n",
       "      <td>FOOD</td>\n",
       "      <td>SINGLE_BUYER</td>\n",
       "      <td>0</td>\n",
       "      <td>1</td>\n",
       "      <td>4</td>\n",
       "    </tr>\n",
       "    <tr>\n",
       "      <th>2</th>\n",
       "      <td>143872</td>\n",
       "      <td>-1</td>\n",
       "      <td>1.0</td>\n",
       "      <td>6.0</td>\n",
       "      <td>NaN</td>\n",
       "      <td>NaN</td>\n",
       "      <td>NaN</td>\n",
       "      <td>NaN</td>\n",
       "      <td>0.0</td>\n",
       "      <td>1.0</td>\n",
       "      <td>...</td>\n",
       "      <td>11.0</td>\n",
       "      <td>6.0</td>\n",
       "      <td>9.0</td>\n",
       "      <td>2.0</td>\n",
       "      <td>3</td>\n",
       "      <td>COSMETIC_AND_FOOD</td>\n",
       "      <td>MULTI_BUYER</td>\n",
       "      <td>0</td>\n",
       "      <td>2</td>\n",
       "      <td>4</td>\n",
       "    </tr>\n",
       "    <tr>\n",
       "      <th>3</th>\n",
       "      <td>143873</td>\n",
       "      <td>1</td>\n",
       "      <td>1.0</td>\n",
       "      <td>8.0</td>\n",
       "      <td>NaN</td>\n",
       "      <td>NaN</td>\n",
       "      <td>NaN</td>\n",
       "      <td>NaN</td>\n",
       "      <td>8.0</td>\n",
       "      <td>0.0</td>\n",
       "      <td>...</td>\n",
       "      <td>2.0</td>\n",
       "      <td>NaN</td>\n",
       "      <td>9.0</td>\n",
       "      <td>7.0</td>\n",
       "      <td>1</td>\n",
       "      <td>COSMETIC</td>\n",
       "      <td>MULTI_BUYER</td>\n",
       "      <td>0</td>\n",
       "      <td>1</td>\n",
       "      <td>4</td>\n",
       "    </tr>\n",
       "    <tr>\n",
       "      <th>4</th>\n",
       "      <td>143874</td>\n",
       "      <td>-1</td>\n",
       "      <td>1.0</td>\n",
       "      <td>20.0</td>\n",
       "      <td>NaN</td>\n",
       "      <td>NaN</td>\n",
       "      <td>NaN</td>\n",
       "      <td>NaN</td>\n",
       "      <td>14.0</td>\n",
       "      <td>7.0</td>\n",
       "      <td>...</td>\n",
       "      <td>4.0</td>\n",
       "      <td>2.0</td>\n",
       "      <td>9.0</td>\n",
       "      <td>3.0</td>\n",
       "      <td>1</td>\n",
       "      <td>FOOD</td>\n",
       "      <td>MULTI_BUYER</td>\n",
       "      <td>0</td>\n",
       "      <td>1</td>\n",
       "      <td>3</td>\n",
       "    </tr>\n",
       "  </tbody>\n",
       "</table>\n",
       "<p>5 rows × 369 columns</p>\n",
       "</div>"
      ],
      "text/plain": [
       "      LNR  AGER_TYP  AKT_DAT_KL  ALTER_HH  ALTER_KIND1  ALTER_KIND2  \\\n",
       "0    9626         2         1.0      10.0          NaN          NaN   \n",
       "1    9628        -1         9.0      11.0          NaN          NaN   \n",
       "2  143872        -1         1.0       6.0          NaN          NaN   \n",
       "3  143873         1         1.0       8.0          NaN          NaN   \n",
       "4  143874        -1         1.0      20.0          NaN          NaN   \n",
       "\n",
       "   ALTER_KIND3  ALTER_KIND4  ALTERSKATEGORIE_FEIN  ANZ_HAUSHALTE_AKTIV  ...  \\\n",
       "0          NaN          NaN                  10.0                  1.0  ...   \n",
       "1          NaN          NaN                   NaN                  NaN  ...   \n",
       "2          NaN          NaN                   0.0                  1.0  ...   \n",
       "3          NaN          NaN                   8.0                  0.0  ...   \n",
       "4          NaN          NaN                  14.0                  7.0  ...   \n",
       "\n",
       "   VK_ZG11  W_KEIT_KIND_HH  WOHNDAUER_2008  WOHNLAGE  ZABEOTYP  \\\n",
       "0      2.0             6.0             9.0       7.0         3   \n",
       "1      3.0             0.0             9.0       NaN         3   \n",
       "2     11.0             6.0             9.0       2.0         3   \n",
       "3      2.0             NaN             9.0       7.0         1   \n",
       "4      4.0             2.0             9.0       3.0         1   \n",
       "\n",
       "       PRODUCT_GROUP  CUSTOMER_GROUP ONLINE_PURCHASE ANREDE_KZ  \\\n",
       "0  COSMETIC_AND_FOOD     MULTI_BUYER               0         1   \n",
       "1               FOOD    SINGLE_BUYER               0         1   \n",
       "2  COSMETIC_AND_FOOD     MULTI_BUYER               0         2   \n",
       "3           COSMETIC     MULTI_BUYER               0         1   \n",
       "4               FOOD     MULTI_BUYER               0         1   \n",
       "\n",
       "  ALTERSKATEGORIE_GROB  \n",
       "0                    4  \n",
       "1                    4  \n",
       "2                    4  \n",
       "3                    4  \n",
       "4                    3  \n",
       "\n",
       "[5 rows x 369 columns]"
      ]
     },
     "execution_count": 19,
     "metadata": {},
     "output_type": "execute_result"
    }
   ],
   "source": [
    "customers.head()"
   ]
  },
  {
   "cell_type": "markdown",
   "metadata": {},
   "source": [
    "Some columns have a lot of missing values in both datasets. To explore that further, we need to study the description of attributes in the file 'DIAS Attributes - Values 2017.xlsx'."
   ]
  },
  {
   "cell_type": "code",
   "execution_count": 20,
   "metadata": {
    "scrolled": true
   },
   "outputs": [
    {
     "name": "stdout",
     "output_type": "stream",
     "text": [
      "(891221, 366)\n"
     ]
    }
   ],
   "source": [
    "print(azdias.shape)"
   ]
  },
  {
   "cell_type": "markdown",
   "metadata": {},
   "source": [
    "Azdias (general population) dataset has 891221 observations and 366 features."
   ]
  },
  {
   "cell_type": "code",
   "execution_count": 21,
   "metadata": {
    "scrolled": true
   },
   "outputs": [
    {
     "name": "stdout",
     "output_type": "stream",
     "text": [
      "(191652, 369)\n"
     ]
    }
   ],
   "source": [
    "print(customers.shape)"
   ]
  },
  {
   "cell_type": "markdown",
   "metadata": {},
   "source": [
    "Customers dataset has 191652 observations and 369 features, 3 features more than in Azdias datset."
   ]
  },
  {
   "cell_type": "code",
   "execution_count": 22,
   "metadata": {
    "scrolled": true
   },
   "outputs": [
    {
     "name": "stdout",
     "output_type": "stream",
     "text": [
      "The columns that exist in Customers dataset which cannot be found in Azdias dataset: ['CUSTOMER_GROUP', 'ONLINE_PURCHASE', 'PRODUCT_GROUP']\n"
     ]
    }
   ],
   "source": [
    "customers_columns_difference = list(azdias.columns.symmetric_difference(customers.columns))\n",
    "print(\"The columns that exist in Customers dataset which cannot be found in Azdias dataset: {}\"\n",
    "      .format(customers_columns_difference))"
   ]
  },
  {
   "cell_type": "markdown",
   "metadata": {},
   "source": [
    "### Statistics of the data sets"
   ]
  },
  {
   "cell_type": "code",
   "execution_count": 23,
   "metadata": {
    "scrolled": true
   },
   "outputs": [
    {
     "data": {
      "text/html": [
       "<div>\n",
       "<style scoped>\n",
       "    .dataframe tbody tr th:only-of-type {\n",
       "        vertical-align: middle;\n",
       "    }\n",
       "\n",
       "    .dataframe tbody tr th {\n",
       "        vertical-align: top;\n",
       "    }\n",
       "\n",
       "    .dataframe thead th {\n",
       "        text-align: right;\n",
       "    }\n",
       "</style>\n",
       "<table border=\"1\" class=\"dataframe\">\n",
       "  <thead>\n",
       "    <tr style=\"text-align: right;\">\n",
       "      <th></th>\n",
       "      <th>LNR</th>\n",
       "      <th>AGER_TYP</th>\n",
       "      <th>AKT_DAT_KL</th>\n",
       "      <th>ALTER_HH</th>\n",
       "      <th>ALTER_KIND1</th>\n",
       "      <th>ALTER_KIND2</th>\n",
       "      <th>ALTER_KIND3</th>\n",
       "      <th>ALTER_KIND4</th>\n",
       "      <th>ALTERSKATEGORIE_FEIN</th>\n",
       "      <th>ANZ_HAUSHALTE_AKTIV</th>\n",
       "      <th>...</th>\n",
       "      <th>VHN</th>\n",
       "      <th>VK_DHT4A</th>\n",
       "      <th>VK_DISTANZ</th>\n",
       "      <th>VK_ZG11</th>\n",
       "      <th>W_KEIT_KIND_HH</th>\n",
       "      <th>WOHNDAUER_2008</th>\n",
       "      <th>WOHNLAGE</th>\n",
       "      <th>ZABEOTYP</th>\n",
       "      <th>ANREDE_KZ</th>\n",
       "      <th>ALTERSKATEGORIE_GROB</th>\n",
       "    </tr>\n",
       "  </thead>\n",
       "  <tbody>\n",
       "    <tr>\n",
       "      <th>count</th>\n",
       "      <td>8.912210e+05</td>\n",
       "      <td>891221.000000</td>\n",
       "      <td>817722.000000</td>\n",
       "      <td>817722.000000</td>\n",
       "      <td>81058.000000</td>\n",
       "      <td>29499.000000</td>\n",
       "      <td>6170.000000</td>\n",
       "      <td>1205.000000</td>\n",
       "      <td>628274.000000</td>\n",
       "      <td>798073.000000</td>\n",
       "      <td>...</td>\n",
       "      <td>770025.000000</td>\n",
       "      <td>815304.000000</td>\n",
       "      <td>815304.000000</td>\n",
       "      <td>815304.000000</td>\n",
       "      <td>783619.000000</td>\n",
       "      <td>817722.000000</td>\n",
       "      <td>798073.000000</td>\n",
       "      <td>891221.000000</td>\n",
       "      <td>891221.000000</td>\n",
       "      <td>891221.000000</td>\n",
       "    </tr>\n",
       "    <tr>\n",
       "      <th>mean</th>\n",
       "      <td>6.372630e+05</td>\n",
       "      <td>-0.358435</td>\n",
       "      <td>4.421928</td>\n",
       "      <td>10.864126</td>\n",
       "      <td>11.745392</td>\n",
       "      <td>13.402658</td>\n",
       "      <td>14.476013</td>\n",
       "      <td>15.089627</td>\n",
       "      <td>13.700717</td>\n",
       "      <td>8.287263</td>\n",
       "      <td>...</td>\n",
       "      <td>2.417322</td>\n",
       "      <td>6.001214</td>\n",
       "      <td>7.532130</td>\n",
       "      <td>5.945972</td>\n",
       "      <td>3.933406</td>\n",
       "      <td>7.908791</td>\n",
       "      <td>4.052836</td>\n",
       "      <td>3.362438</td>\n",
       "      <td>1.522098</td>\n",
       "      <td>2.777398</td>\n",
       "    </tr>\n",
       "    <tr>\n",
       "      <th>std</th>\n",
       "      <td>2.572735e+05</td>\n",
       "      <td>1.198724</td>\n",
       "      <td>3.638805</td>\n",
       "      <td>7.639683</td>\n",
       "      <td>4.097660</td>\n",
       "      <td>3.243300</td>\n",
       "      <td>2.712427</td>\n",
       "      <td>2.452932</td>\n",
       "      <td>5.079849</td>\n",
       "      <td>15.628087</td>\n",
       "      <td>...</td>\n",
       "      <td>1.166572</td>\n",
       "      <td>2.856091</td>\n",
       "      <td>3.247789</td>\n",
       "      <td>2.771464</td>\n",
       "      <td>1.964701</td>\n",
       "      <td>1.923137</td>\n",
       "      <td>1.949539</td>\n",
       "      <td>1.352704</td>\n",
       "      <td>0.499512</td>\n",
       "      <td>1.068775</td>\n",
       "    </tr>\n",
       "    <tr>\n",
       "      <th>min</th>\n",
       "      <td>1.916530e+05</td>\n",
       "      <td>-1.000000</td>\n",
       "      <td>1.000000</td>\n",
       "      <td>0.000000</td>\n",
       "      <td>2.000000</td>\n",
       "      <td>2.000000</td>\n",
       "      <td>4.000000</td>\n",
       "      <td>7.000000</td>\n",
       "      <td>0.000000</td>\n",
       "      <td>0.000000</td>\n",
       "      <td>...</td>\n",
       "      <td>0.000000</td>\n",
       "      <td>1.000000</td>\n",
       "      <td>1.000000</td>\n",
       "      <td>1.000000</td>\n",
       "      <td>0.000000</td>\n",
       "      <td>1.000000</td>\n",
       "      <td>0.000000</td>\n",
       "      <td>1.000000</td>\n",
       "      <td>1.000000</td>\n",
       "      <td>1.000000</td>\n",
       "    </tr>\n",
       "    <tr>\n",
       "      <th>25%</th>\n",
       "      <td>4.144580e+05</td>\n",
       "      <td>-1.000000</td>\n",
       "      <td>1.000000</td>\n",
       "      <td>0.000000</td>\n",
       "      <td>8.000000</td>\n",
       "      <td>11.000000</td>\n",
       "      <td>13.000000</td>\n",
       "      <td>14.000000</td>\n",
       "      <td>11.000000</td>\n",
       "      <td>1.000000</td>\n",
       "      <td>...</td>\n",
       "      <td>2.000000</td>\n",
       "      <td>3.000000</td>\n",
       "      <td>5.000000</td>\n",
       "      <td>4.000000</td>\n",
       "      <td>2.000000</td>\n",
       "      <td>8.000000</td>\n",
       "      <td>3.000000</td>\n",
       "      <td>3.000000</td>\n",
       "      <td>1.000000</td>\n",
       "      <td>2.000000</td>\n",
       "    </tr>\n",
       "    <tr>\n",
       "      <th>50%</th>\n",
       "      <td>6.372630e+05</td>\n",
       "      <td>-1.000000</td>\n",
       "      <td>3.000000</td>\n",
       "      <td>13.000000</td>\n",
       "      <td>12.000000</td>\n",
       "      <td>14.000000</td>\n",
       "      <td>15.000000</td>\n",
       "      <td>15.000000</td>\n",
       "      <td>14.000000</td>\n",
       "      <td>4.000000</td>\n",
       "      <td>...</td>\n",
       "      <td>2.000000</td>\n",
       "      <td>6.000000</td>\n",
       "      <td>8.000000</td>\n",
       "      <td>6.000000</td>\n",
       "      <td>4.000000</td>\n",
       "      <td>9.000000</td>\n",
       "      <td>3.000000</td>\n",
       "      <td>3.000000</td>\n",
       "      <td>2.000000</td>\n",
       "      <td>3.000000</td>\n",
       "    </tr>\n",
       "    <tr>\n",
       "      <th>75%</th>\n",
       "      <td>8.600680e+05</td>\n",
       "      <td>-1.000000</td>\n",
       "      <td>9.000000</td>\n",
       "      <td>17.000000</td>\n",
       "      <td>15.000000</td>\n",
       "      <td>16.000000</td>\n",
       "      <td>17.000000</td>\n",
       "      <td>17.000000</td>\n",
       "      <td>17.000000</td>\n",
       "      <td>9.000000</td>\n",
       "      <td>...</td>\n",
       "      <td>3.000000</td>\n",
       "      <td>9.000000</td>\n",
       "      <td>10.000000</td>\n",
       "      <td>8.000000</td>\n",
       "      <td>6.000000</td>\n",
       "      <td>9.000000</td>\n",
       "      <td>5.000000</td>\n",
       "      <td>4.000000</td>\n",
       "      <td>2.000000</td>\n",
       "      <td>4.000000</td>\n",
       "    </tr>\n",
       "    <tr>\n",
       "      <th>max</th>\n",
       "      <td>1.082873e+06</td>\n",
       "      <td>3.000000</td>\n",
       "      <td>9.000000</td>\n",
       "      <td>21.000000</td>\n",
       "      <td>18.000000</td>\n",
       "      <td>18.000000</td>\n",
       "      <td>18.000000</td>\n",
       "      <td>18.000000</td>\n",
       "      <td>25.000000</td>\n",
       "      <td>595.000000</td>\n",
       "      <td>...</td>\n",
       "      <td>4.000000</td>\n",
       "      <td>11.000000</td>\n",
       "      <td>13.000000</td>\n",
       "      <td>11.000000</td>\n",
       "      <td>6.000000</td>\n",
       "      <td>9.000000</td>\n",
       "      <td>8.000000</td>\n",
       "      <td>6.000000</td>\n",
       "      <td>2.000000</td>\n",
       "      <td>9.000000</td>\n",
       "    </tr>\n",
       "  </tbody>\n",
       "</table>\n",
       "<p>8 rows × 360 columns</p>\n",
       "</div>"
      ],
      "text/plain": [
       "                LNR       AGER_TYP     AKT_DAT_KL       ALTER_HH  \\\n",
       "count  8.912210e+05  891221.000000  817722.000000  817722.000000   \n",
       "mean   6.372630e+05      -0.358435       4.421928      10.864126   \n",
       "std    2.572735e+05       1.198724       3.638805       7.639683   \n",
       "min    1.916530e+05      -1.000000       1.000000       0.000000   \n",
       "25%    4.144580e+05      -1.000000       1.000000       0.000000   \n",
       "50%    6.372630e+05      -1.000000       3.000000      13.000000   \n",
       "75%    8.600680e+05      -1.000000       9.000000      17.000000   \n",
       "max    1.082873e+06       3.000000       9.000000      21.000000   \n",
       "\n",
       "        ALTER_KIND1   ALTER_KIND2  ALTER_KIND3  ALTER_KIND4  \\\n",
       "count  81058.000000  29499.000000  6170.000000  1205.000000   \n",
       "mean      11.745392     13.402658    14.476013    15.089627   \n",
       "std        4.097660      3.243300     2.712427     2.452932   \n",
       "min        2.000000      2.000000     4.000000     7.000000   \n",
       "25%        8.000000     11.000000    13.000000    14.000000   \n",
       "50%       12.000000     14.000000    15.000000    15.000000   \n",
       "75%       15.000000     16.000000    17.000000    17.000000   \n",
       "max       18.000000     18.000000    18.000000    18.000000   \n",
       "\n",
       "       ALTERSKATEGORIE_FEIN  ANZ_HAUSHALTE_AKTIV  ...            VHN  \\\n",
       "count         628274.000000        798073.000000  ...  770025.000000   \n",
       "mean              13.700717             8.287263  ...       2.417322   \n",
       "std                5.079849            15.628087  ...       1.166572   \n",
       "min                0.000000             0.000000  ...       0.000000   \n",
       "25%               11.000000             1.000000  ...       2.000000   \n",
       "50%               14.000000             4.000000  ...       2.000000   \n",
       "75%               17.000000             9.000000  ...       3.000000   \n",
       "max               25.000000           595.000000  ...       4.000000   \n",
       "\n",
       "            VK_DHT4A     VK_DISTANZ        VK_ZG11  W_KEIT_KIND_HH  \\\n",
       "count  815304.000000  815304.000000  815304.000000   783619.000000   \n",
       "mean        6.001214       7.532130       5.945972        3.933406   \n",
       "std         2.856091       3.247789       2.771464        1.964701   \n",
       "min         1.000000       1.000000       1.000000        0.000000   \n",
       "25%         3.000000       5.000000       4.000000        2.000000   \n",
       "50%         6.000000       8.000000       6.000000        4.000000   \n",
       "75%         9.000000      10.000000       8.000000        6.000000   \n",
       "max        11.000000      13.000000      11.000000        6.000000   \n",
       "\n",
       "       WOHNDAUER_2008       WOHNLAGE       ZABEOTYP      ANREDE_KZ  \\\n",
       "count   817722.000000  798073.000000  891221.000000  891221.000000   \n",
       "mean         7.908791       4.052836       3.362438       1.522098   \n",
       "std          1.923137       1.949539       1.352704       0.499512   \n",
       "min          1.000000       0.000000       1.000000       1.000000   \n",
       "25%          8.000000       3.000000       3.000000       1.000000   \n",
       "50%          9.000000       3.000000       3.000000       2.000000   \n",
       "75%          9.000000       5.000000       4.000000       2.000000   \n",
       "max          9.000000       8.000000       6.000000       2.000000   \n",
       "\n",
       "       ALTERSKATEGORIE_GROB  \n",
       "count         891221.000000  \n",
       "mean               2.777398  \n",
       "std                1.068775  \n",
       "min                1.000000  \n",
       "25%                2.000000  \n",
       "50%                3.000000  \n",
       "75%                4.000000  \n",
       "max                9.000000  \n",
       "\n",
       "[8 rows x 360 columns]"
      ]
     },
     "execution_count": 23,
     "metadata": {},
     "output_type": "execute_result"
    }
   ],
   "source": [
    "azdias.describe()"
   ]
  },
  {
   "cell_type": "code",
   "execution_count": 24,
   "metadata": {
    "scrolled": false
   },
   "outputs": [
    {
     "data": {
      "text/html": [
       "<div>\n",
       "<style scoped>\n",
       "    .dataframe tbody tr th:only-of-type {\n",
       "        vertical-align: middle;\n",
       "    }\n",
       "\n",
       "    .dataframe tbody tr th {\n",
       "        vertical-align: top;\n",
       "    }\n",
       "\n",
       "    .dataframe thead th {\n",
       "        text-align: right;\n",
       "    }\n",
       "</style>\n",
       "<table border=\"1\" class=\"dataframe\">\n",
       "  <thead>\n",
       "    <tr style=\"text-align: right;\">\n",
       "      <th></th>\n",
       "      <th>LNR</th>\n",
       "      <th>AGER_TYP</th>\n",
       "      <th>AKT_DAT_KL</th>\n",
       "      <th>ALTER_HH</th>\n",
       "      <th>ALTER_KIND1</th>\n",
       "      <th>ALTER_KIND2</th>\n",
       "      <th>ALTER_KIND3</th>\n",
       "      <th>ALTER_KIND4</th>\n",
       "      <th>ALTERSKATEGORIE_FEIN</th>\n",
       "      <th>ANZ_HAUSHALTE_AKTIV</th>\n",
       "      <th>...</th>\n",
       "      <th>VK_DHT4A</th>\n",
       "      <th>VK_DISTANZ</th>\n",
       "      <th>VK_ZG11</th>\n",
       "      <th>W_KEIT_KIND_HH</th>\n",
       "      <th>WOHNDAUER_2008</th>\n",
       "      <th>WOHNLAGE</th>\n",
       "      <th>ZABEOTYP</th>\n",
       "      <th>ONLINE_PURCHASE</th>\n",
       "      <th>ANREDE_KZ</th>\n",
       "      <th>ALTERSKATEGORIE_GROB</th>\n",
       "    </tr>\n",
       "  </thead>\n",
       "  <tbody>\n",
       "    <tr>\n",
       "      <th>count</th>\n",
       "      <td>191652.000000</td>\n",
       "      <td>191652.000000</td>\n",
       "      <td>145056.000000</td>\n",
       "      <td>145056.000000</td>\n",
       "      <td>11766.000000</td>\n",
       "      <td>5100.000000</td>\n",
       "      <td>1275.000000</td>\n",
       "      <td>236.000000</td>\n",
       "      <td>139810.000000</td>\n",
       "      <td>141725.000000</td>\n",
       "      <td>...</td>\n",
       "      <td>143781.000000</td>\n",
       "      <td>143781.000000</td>\n",
       "      <td>143781.000000</td>\n",
       "      <td>137910.000000</td>\n",
       "      <td>145056.000000</td>\n",
       "      <td>141725.000000</td>\n",
       "      <td>191652.000000</td>\n",
       "      <td>191652.000000</td>\n",
       "      <td>191652.000000</td>\n",
       "      <td>191652.000000</td>\n",
       "    </tr>\n",
       "    <tr>\n",
       "      <th>mean</th>\n",
       "      <td>95826.500000</td>\n",
       "      <td>0.344359</td>\n",
       "      <td>1.747525</td>\n",
       "      <td>11.352009</td>\n",
       "      <td>12.337243</td>\n",
       "      <td>13.672353</td>\n",
       "      <td>14.647059</td>\n",
       "      <td>15.377119</td>\n",
       "      <td>10.331579</td>\n",
       "      <td>4.965863</td>\n",
       "      <td>...</td>\n",
       "      <td>4.374417</td>\n",
       "      <td>4.564769</td>\n",
       "      <td>3.168868</td>\n",
       "      <td>4.152716</td>\n",
       "      <td>8.646371</td>\n",
       "      <td>3.723133</td>\n",
       "      <td>2.576806</td>\n",
       "      <td>0.090247</td>\n",
       "      <td>1.376432</td>\n",
       "      <td>3.060907</td>\n",
       "    </tr>\n",
       "    <tr>\n",
       "      <th>std</th>\n",
       "      <td>55325.311233</td>\n",
       "      <td>1.391672</td>\n",
       "      <td>1.966334</td>\n",
       "      <td>6.275026</td>\n",
       "      <td>4.006050</td>\n",
       "      <td>3.243335</td>\n",
       "      <td>2.753787</td>\n",
       "      <td>2.307653</td>\n",
       "      <td>4.134828</td>\n",
       "      <td>14.309694</td>\n",
       "      <td>...</td>\n",
       "      <td>2.924355</td>\n",
       "      <td>2.887035</td>\n",
       "      <td>2.233516</td>\n",
       "      <td>1.974375</td>\n",
       "      <td>1.154001</td>\n",
       "      <td>2.095540</td>\n",
       "      <td>1.168486</td>\n",
       "      <td>0.286536</td>\n",
       "      <td>0.484492</td>\n",
       "      <td>1.086254</td>\n",
       "    </tr>\n",
       "    <tr>\n",
       "      <th>min</th>\n",
       "      <td>1.000000</td>\n",
       "      <td>-1.000000</td>\n",
       "      <td>1.000000</td>\n",
       "      <td>0.000000</td>\n",
       "      <td>2.000000</td>\n",
       "      <td>2.000000</td>\n",
       "      <td>5.000000</td>\n",
       "      <td>8.000000</td>\n",
       "      <td>0.000000</td>\n",
       "      <td>0.000000</td>\n",
       "      <td>...</td>\n",
       "      <td>1.000000</td>\n",
       "      <td>1.000000</td>\n",
       "      <td>1.000000</td>\n",
       "      <td>0.000000</td>\n",
       "      <td>1.000000</td>\n",
       "      <td>0.000000</td>\n",
       "      <td>1.000000</td>\n",
       "      <td>0.000000</td>\n",
       "      <td>1.000000</td>\n",
       "      <td>1.000000</td>\n",
       "    </tr>\n",
       "    <tr>\n",
       "      <th>25%</th>\n",
       "      <td>47913.750000</td>\n",
       "      <td>-1.000000</td>\n",
       "      <td>1.000000</td>\n",
       "      <td>8.000000</td>\n",
       "      <td>9.000000</td>\n",
       "      <td>11.000000</td>\n",
       "      <td>13.000000</td>\n",
       "      <td>14.000000</td>\n",
       "      <td>9.000000</td>\n",
       "      <td>1.000000</td>\n",
       "      <td>...</td>\n",
       "      <td>2.000000</td>\n",
       "      <td>2.000000</td>\n",
       "      <td>1.000000</td>\n",
       "      <td>2.000000</td>\n",
       "      <td>9.000000</td>\n",
       "      <td>2.000000</td>\n",
       "      <td>1.000000</td>\n",
       "      <td>0.000000</td>\n",
       "      <td>1.000000</td>\n",
       "      <td>3.000000</td>\n",
       "    </tr>\n",
       "    <tr>\n",
       "      <th>50%</th>\n",
       "      <td>95826.500000</td>\n",
       "      <td>0.000000</td>\n",
       "      <td>1.000000</td>\n",
       "      <td>11.000000</td>\n",
       "      <td>13.000000</td>\n",
       "      <td>14.000000</td>\n",
       "      <td>15.000000</td>\n",
       "      <td>16.000000</td>\n",
       "      <td>10.000000</td>\n",
       "      <td>1.000000</td>\n",
       "      <td>...</td>\n",
       "      <td>4.000000</td>\n",
       "      <td>4.000000</td>\n",
       "      <td>3.000000</td>\n",
       "      <td>5.000000</td>\n",
       "      <td>9.000000</td>\n",
       "      <td>3.000000</td>\n",
       "      <td>3.000000</td>\n",
       "      <td>0.000000</td>\n",
       "      <td>1.000000</td>\n",
       "      <td>3.000000</td>\n",
       "    </tr>\n",
       "    <tr>\n",
       "      <th>75%</th>\n",
       "      <td>143739.250000</td>\n",
       "      <td>2.000000</td>\n",
       "      <td>1.000000</td>\n",
       "      <td>16.000000</td>\n",
       "      <td>16.000000</td>\n",
       "      <td>16.000000</td>\n",
       "      <td>17.000000</td>\n",
       "      <td>17.000000</td>\n",
       "      <td>13.000000</td>\n",
       "      <td>4.000000</td>\n",
       "      <td>...</td>\n",
       "      <td>7.000000</td>\n",
       "      <td>7.000000</td>\n",
       "      <td>4.000000</td>\n",
       "      <td>6.000000</td>\n",
       "      <td>9.000000</td>\n",
       "      <td>5.000000</td>\n",
       "      <td>3.000000</td>\n",
       "      <td>0.000000</td>\n",
       "      <td>2.000000</td>\n",
       "      <td>4.000000</td>\n",
       "    </tr>\n",
       "    <tr>\n",
       "      <th>max</th>\n",
       "      <td>191652.000000</td>\n",
       "      <td>3.000000</td>\n",
       "      <td>9.000000</td>\n",
       "      <td>21.000000</td>\n",
       "      <td>18.000000</td>\n",
       "      <td>18.000000</td>\n",
       "      <td>18.000000</td>\n",
       "      <td>18.000000</td>\n",
       "      <td>25.000000</td>\n",
       "      <td>523.000000</td>\n",
       "      <td>...</td>\n",
       "      <td>11.000000</td>\n",
       "      <td>13.000000</td>\n",
       "      <td>11.000000</td>\n",
       "      <td>6.000000</td>\n",
       "      <td>9.000000</td>\n",
       "      <td>8.000000</td>\n",
       "      <td>6.000000</td>\n",
       "      <td>1.000000</td>\n",
       "      <td>2.000000</td>\n",
       "      <td>9.000000</td>\n",
       "    </tr>\n",
       "  </tbody>\n",
       "</table>\n",
       "<p>8 rows × 361 columns</p>\n",
       "</div>"
      ],
      "text/plain": [
       "                 LNR       AGER_TYP     AKT_DAT_KL       ALTER_HH  \\\n",
       "count  191652.000000  191652.000000  145056.000000  145056.000000   \n",
       "mean    95826.500000       0.344359       1.747525      11.352009   \n",
       "std     55325.311233       1.391672       1.966334       6.275026   \n",
       "min         1.000000      -1.000000       1.000000       0.000000   \n",
       "25%     47913.750000      -1.000000       1.000000       8.000000   \n",
       "50%     95826.500000       0.000000       1.000000      11.000000   \n",
       "75%    143739.250000       2.000000       1.000000      16.000000   \n",
       "max    191652.000000       3.000000       9.000000      21.000000   \n",
       "\n",
       "        ALTER_KIND1  ALTER_KIND2  ALTER_KIND3  ALTER_KIND4  \\\n",
       "count  11766.000000  5100.000000  1275.000000   236.000000   \n",
       "mean      12.337243    13.672353    14.647059    15.377119   \n",
       "std        4.006050     3.243335     2.753787     2.307653   \n",
       "min        2.000000     2.000000     5.000000     8.000000   \n",
       "25%        9.000000    11.000000    13.000000    14.000000   \n",
       "50%       13.000000    14.000000    15.000000    16.000000   \n",
       "75%       16.000000    16.000000    17.000000    17.000000   \n",
       "max       18.000000    18.000000    18.000000    18.000000   \n",
       "\n",
       "       ALTERSKATEGORIE_FEIN  ANZ_HAUSHALTE_AKTIV  ...       VK_DHT4A  \\\n",
       "count         139810.000000        141725.000000  ...  143781.000000   \n",
       "mean              10.331579             4.965863  ...       4.374417   \n",
       "std                4.134828            14.309694  ...       2.924355   \n",
       "min                0.000000             0.000000  ...       1.000000   \n",
       "25%                9.000000             1.000000  ...       2.000000   \n",
       "50%               10.000000             1.000000  ...       4.000000   \n",
       "75%               13.000000             4.000000  ...       7.000000   \n",
       "max               25.000000           523.000000  ...      11.000000   \n",
       "\n",
       "          VK_DISTANZ        VK_ZG11  W_KEIT_KIND_HH  WOHNDAUER_2008  \\\n",
       "count  143781.000000  143781.000000   137910.000000   145056.000000   \n",
       "mean        4.564769       3.168868        4.152716        8.646371   \n",
       "std         2.887035       2.233516        1.974375        1.154001   \n",
       "min         1.000000       1.000000        0.000000        1.000000   \n",
       "25%         2.000000       1.000000        2.000000        9.000000   \n",
       "50%         4.000000       3.000000        5.000000        9.000000   \n",
       "75%         7.000000       4.000000        6.000000        9.000000   \n",
       "max        13.000000      11.000000        6.000000        9.000000   \n",
       "\n",
       "            WOHNLAGE       ZABEOTYP  ONLINE_PURCHASE      ANREDE_KZ  \\\n",
       "count  141725.000000  191652.000000    191652.000000  191652.000000   \n",
       "mean        3.723133       2.576806         0.090247       1.376432   \n",
       "std         2.095540       1.168486         0.286536       0.484492   \n",
       "min         0.000000       1.000000         0.000000       1.000000   \n",
       "25%         2.000000       1.000000         0.000000       1.000000   \n",
       "50%         3.000000       3.000000         0.000000       1.000000   \n",
       "75%         5.000000       3.000000         0.000000       2.000000   \n",
       "max         8.000000       6.000000         1.000000       2.000000   \n",
       "\n",
       "       ALTERSKATEGORIE_GROB  \n",
       "count         191652.000000  \n",
       "mean               3.060907  \n",
       "std                1.086254  \n",
       "min                1.000000  \n",
       "25%                3.000000  \n",
       "50%                3.000000  \n",
       "75%                4.000000  \n",
       "max                9.000000  \n",
       "\n",
       "[8 rows x 361 columns]"
      ]
     },
     "execution_count": 24,
     "metadata": {},
     "output_type": "execute_result"
    }
   ],
   "source": [
    "customers.describe()"
   ]
  },
  {
   "cell_type": "markdown",
   "metadata": {},
   "source": [
    "By looking at the mean and standard deviation values it's telling us that we will have to center the data before processing it further."
   ]
  },
  {
   "cell_type": "markdown",
   "metadata": {},
   "source": [
    "### Types of data in the datasets"
   ]
  },
  {
   "cell_type": "markdown",
   "metadata": {},
   "source": [
    "Quick analysis shows quite different distributions of data in features. That is worth exploring more to see what data types are represented and how much in each dataset."
   ]
  },
  {
   "cell_type": "code",
   "execution_count": 25,
   "metadata": {
    "scrolled": true
   },
   "outputs": [
    {
     "name": "stdout",
     "output_type": "stream",
     "text": [
      "float64    267\n",
      "int64       93\n",
      "object       6\n",
      "dtype: int64\n"
     ]
    }
   ],
   "source": [
    "print(azdias.dtypes.value_counts())"
   ]
  },
  {
   "cell_type": "markdown",
   "metadata": {},
   "source": [
    "There are 6 columns of a type object, 93 integer and 267 decimal columns with decimal data in Azdias data set."
   ]
  },
  {
   "cell_type": "code",
   "execution_count": 26,
   "metadata": {
    "scrolled": true
   },
   "outputs": [
    {
     "name": "stdout",
     "output_type": "stream",
     "text": [
      "float64    267\n",
      "int64       94\n",
      "object       8\n",
      "dtype: int64\n"
     ]
    }
   ],
   "source": [
    "print(customers.dtypes.value_counts())"
   ]
  },
  {
   "cell_type": "markdown",
   "metadata": {},
   "source": [
    "And there are 8 columns of a type object, 94 integer and 267 decimal columns with decimal data in Customers data set."
   ]
  },
  {
   "cell_type": "markdown",
   "metadata": {},
   "source": [
    "### Addressing warnings\n",
    "\n",
    "We have received some warnings while loading data files. Apparently few columns have mixed data types. \n",
    "We have to investigate this and probably clean that data afterwards."
   ]
  },
  {
   "cell_type": "code",
   "execution_count": 27,
   "metadata": {
    "scrolled": true
   },
   "outputs": [],
   "source": [
    "azdias_mixed_type_columns = list(azdias.columns[18:20])"
   ]
  },
  {
   "cell_type": "markdown",
   "metadata": {},
   "source": [
    "We'll save these columns for later to do some cleaning. Let's observe their values first."
   ]
  },
  {
   "cell_type": "code",
   "execution_count": 28,
   "metadata": {
    "scrolled": true
   },
   "outputs": [
    {
     "name": "stdout",
     "output_type": "stream",
     "text": [
      "CAMEO_INTL_2015, values: [nan 51.0 24.0 12.0 43.0 54.0 22.0 14.0 13.0 15.0 33.0 41.0 34.0 55.0 25.0\n",
      " 23.0 31.0 52.0 35.0 45.0 44.0 32.0 '22' '24' '41' '12' '54' '51' '44'\n",
      " '35' '23' '25' '14' '34' '52' '55' '31' '32' '15' '13' '43' '33' '45'\n",
      " 'XX'].\n"
     ]
    }
   ],
   "source": [
    "show_mixed_values(azdias, azdias_mixed_type_columns)"
   ]
  },
  {
   "cell_type": "markdown",
   "metadata": {},
   "source": [
    "These two columns are of the type \"object\" and they have mixed decimal values and string values 'X' and 'XX'.\n",
    "Let's check now if there are any other columns that contain such string values."
   ]
  },
  {
   "cell_type": "code",
   "execution_count": 29,
   "metadata": {
    "scrolled": false
   },
   "outputs": [
    {
     "name": "stdout",
     "output_type": "stream",
     "text": [
      "['CAMEO_DEU_2015', 'CAMEO_DEUG_2015', 'CAMEO_INTL_2015']\n"
     ]
    }
   ],
   "source": [
    "columns_with_XX = list(azdias.select_dtypes('object').isin(['X', 'XX']).any().loc[lambda x: x == True].index)\n",
    "print(columns_with_XX)"
   ]
  },
  {
   "cell_type": "markdown",
   "metadata": {},
   "source": [
    "There is one more column like that, 'CAMEO_DEU_2015'. Let's see its values."
   ]
  },
  {
   "cell_type": "code",
   "execution_count": 30,
   "metadata": {
    "scrolled": true
   },
   "outputs": [
    {
     "name": "stdout",
     "output_type": "stream",
     "text": [
      "CAMEO_INTL_2015, values: [nan 51.0 24.0 12.0 43.0 54.0 22.0 14.0 13.0 15.0 33.0 41.0 34.0 55.0 25.0\n",
      " 23.0 31.0 52.0 35.0 45.0 44.0 32.0 '22' '24' '41' '12' '54' '51' '44'\n",
      " '35' '23' '25' '14' '34' '52' '55' '31' '32' '15' '13' '43' '33' '45'\n",
      " 'XX'].\n"
     ]
    }
   ],
   "source": [
    "show_mixed_values(azdias, columns_with_XX)"
   ]
  },
  {
   "cell_type": "markdown",
   "metadata": {},
   "source": [
    "This column also has 'XX' values which we need to replace with null values."
   ]
  },
  {
   "cell_type": "markdown",
   "metadata": {},
   "source": [
    "### Analyzing object columns"
   ]
  },
  {
   "cell_type": "markdown",
   "metadata": {},
   "source": [
    "The \"object\" type of columns might be ineteresting to explore a bit more to see their distinct values."
   ]
  },
  {
   "cell_type": "code",
   "execution_count": 31,
   "metadata": {
    "scrolled": false
   },
   "outputs": [
    {
     "name": "stdout",
     "output_type": "stream",
     "text": [
      "['CAMEO_DEU_2015', 'CAMEO_DEUG_2015', 'CAMEO_INTL_2015', 'D19_LETZTER_KAUF_BRANCHE', 'EINGEFUEGT_AM', 'OST_WEST_KZ']\n"
     ]
    }
   ],
   "source": [
    "object_type_columns = list(azdias.select_dtypes(['object']).columns)\n",
    "print(object_type_columns)"
   ]
  },
  {
   "cell_type": "code",
   "execution_count": 32,
   "metadata": {
    "scrolled": false
   },
   "outputs": [
    {
     "name": "stdout",
     "output_type": "stream",
     "text": [
      "CAMEO_DEU_2015\n",
      "[nan '8A' '4C' '2A' '6B' '8C' '4A' '2D' '1A' '1E' '9D' '5C' '8B' '7A' '5D'\n",
      " '9E' '9B' '1B' '3D' '4E' '4B' '3C' '5A' '7B' '9A' '6D' '6E' '2C' '7C'\n",
      " '9C' '7D' '5E' '1D' '8D' '6C' '6A' '5B' '4D' '3A' '2B' '7E' '3B' '6F'\n",
      " '5F' '1C' 'XX']\n",
      "CAMEO_DEUG_2015\n",
      "[nan 8.0 4.0 2.0 6.0 1.0 9.0 5.0 7.0 3.0 '4' '3' '7' '2' '8' '9' '6' '5'\n",
      " '1' 'X']\n",
      "CAMEO_INTL_2015\n",
      "[nan 51.0 24.0 12.0 43.0 54.0 22.0 14.0 13.0 15.0 33.0 41.0 34.0 55.0 25.0\n",
      " 23.0 31.0 52.0 35.0 45.0 44.0 32.0 '22' '24' '41' '12' '54' '51' '44'\n",
      " '35' '23' '25' '14' '34' '52' '55' '31' '32' '15' '13' '43' '33' '45'\n",
      " 'XX']\n",
      "D19_LETZTER_KAUF_BRANCHE\n",
      "[nan 'D19_UNBEKANNT' 'D19_SCHUHE' 'D19_ENERGIE' 'D19_KOSMETIK'\n",
      " 'D19_VOLLSORTIMENT' 'D19_SONSTIGE' 'D19_BANKEN_GROSS'\n",
      " 'D19_DROGERIEARTIKEL' 'D19_HANDWERK' 'D19_BUCH_CD' 'D19_VERSICHERUNGEN'\n",
      " 'D19_VERSAND_REST' 'D19_TELKO_REST' 'D19_BANKEN_DIREKT' 'D19_BANKEN_REST'\n",
      " 'D19_FREIZEIT' 'D19_LEBENSMITTEL' 'D19_HAUS_DEKO' 'D19_BEKLEIDUNG_REST'\n",
      " 'D19_SAMMELARTIKEL' 'D19_TELKO_MOBILE' 'D19_REISEN' 'D19_BEKLEIDUNG_GEH'\n",
      " 'D19_TECHNIK' 'D19_NAHRUNGSERGAENZUNG' 'D19_DIGIT_SERV' 'D19_LOTTO'\n",
      " 'D19_RATGEBER' 'D19_TIERARTIKEL' 'D19_KINDERARTIKEL' 'D19_BIO_OEKO'\n",
      " 'D19_WEIN_FEINKOST' 'D19_GARTEN' 'D19_BILDUNG' 'D19_BANKEN_LOKAL']\n",
      "EINGEFUEGT_AM\n",
      "[nan '1992-02-10 00:00:00' '1992-02-12 00:00:00' ... '2010-12-02 00:00:00'\n",
      " '2005-03-19 00:00:00' '2011-11-18 00:00:00']\n",
      "OST_WEST_KZ\n",
      "[nan 'W' 'O']\n"
     ]
    }
   ],
   "source": [
    "show_distinct_column_values(azdias, object_type_columns)"
   ]
  },
  {
   "cell_type": "markdown",
   "metadata": {},
   "source": [
    "- CAMEO_DEU_2015: has an undefined value 'XX'. This will have to be replaced with null value.\n",
    "- CAMEO_DEUG_2015: has an undefined value 'X'. This will have to be replaced with null value.\n",
    "- CAMEO_INTL_2015: has an undefined value 'XX'. This will have to be replaced with null value.\n",
    "- EINGEFUEGT_AM: this field has not been described in the additional document. If we translate it from German, \n",
    "  it says it means \"Inserting time\". this information is not relevant so this field will be dropped later.\n",
    "- OST_WEST_KZ: has two distinct string vaues which we have to convert to numerical values.\n",
    "- CAMEO_DEUG_2015 and CAMEO_INTL_2015 will have to be converted to float type."
   ]
  },
  {
   "cell_type": "markdown",
   "metadata": {},
   "source": [
    "### Analyzing integer columns"
   ]
  },
  {
   "cell_type": "code",
   "execution_count": 33,
   "metadata": {
    "scrolled": true
   },
   "outputs": [
    {
     "name": "stdout",
     "output_type": "stream",
     "text": [
      "['LNR', 'AGER_TYP', 'D19_BANKEN_ANZ_12', 'D19_BANKEN_ANZ_24', 'D19_BANKEN_DATUM', 'D19_BANKEN_DIREKT', 'D19_BANKEN_GROSS', 'D19_BANKEN_LOKAL', 'D19_BANKEN_OFFLINE_DATUM', 'D19_BANKEN_ONLINE_DATUM', 'D19_BANKEN_REST', 'D19_BEKLEIDUNG_GEH', 'D19_BEKLEIDUNG_REST', 'D19_BILDUNG', 'D19_BIO_OEKO', 'D19_BUCH_CD', 'D19_DIGIT_SERV', 'D19_DROGERIEARTIKEL', 'D19_ENERGIE', 'D19_FREIZEIT', 'D19_GARTEN', 'D19_GESAMT_ANZ_12', 'D19_GESAMT_ANZ_24', 'D19_GESAMT_DATUM', 'D19_GESAMT_OFFLINE_DATUM', 'D19_GESAMT_ONLINE_DATUM', 'D19_HANDWERK', 'D19_HAUS_DEKO', 'D19_KINDERARTIKEL', 'D19_KONSUMTYP_MAX', 'D19_KOSMETIK', 'D19_LEBENSMITTEL', 'D19_NAHRUNGSERGAENZUNG', 'D19_RATGEBER', 'D19_REISEN', 'D19_SAMMELARTIKEL', 'D19_SCHUHE', 'D19_SONSTIGE', 'D19_TECHNIK', 'D19_TELKO_ANZ_12', 'D19_TELKO_ANZ_24', 'D19_TELKO_DATUM', 'D19_TELKO_MOBILE', 'D19_TELKO_OFFLINE_DATUM', 'D19_TELKO_ONLINE_DATUM', 'D19_TELKO_REST', 'D19_TIERARTIKEL', 'D19_VERSAND_ANZ_12', 'D19_VERSAND_ANZ_24', 'D19_VERSAND_DATUM', 'D19_VERSAND_OFFLINE_DATUM', 'D19_VERSAND_ONLINE_DATUM', 'D19_VERSAND_REST', 'D19_VERSI_ANZ_12', 'D19_VERSI_ANZ_24', 'D19_VERSI_DATUM', 'D19_VERSI_OFFLINE_DATUM', 'D19_VERSI_ONLINE_DATUM', 'D19_VERSICHERUNGEN', 'D19_VOLLSORTIMENT', 'D19_WEIN_FEINKOST', 'FINANZ_ANLEGER', 'FINANZ_HAUSBAUER', 'FINANZ_MINIMALIST', 'FINANZ_SPARER', 'FINANZ_UNAUFFAELLIGER', 'FINANZ_VORSORGER', 'FINANZTYP', 'GEBURTSJAHR', 'GREEN_AVANTGARDE', 'HEALTH_TYP', 'KOMBIALTER', 'NATIONALITAET_KZ', 'PRAEGENDE_JUGENDJAHRE', 'SEMIO_DOM', 'SEMIO_ERL', 'SEMIO_FAM', 'SEMIO_KAEM', 'SEMIO_KRIT', 'SEMIO_KULT', 'SEMIO_LUST', 'SEMIO_MAT', 'SEMIO_PFLICHT', 'SEMIO_RAT', 'SEMIO_REL', 'SEMIO_SOZ', 'SEMIO_TRADV', 'SEMIO_VERT', 'SHOPPER_TYP', 'VERS_TYP', 'ZABEOTYP', 'ANREDE_KZ', 'ALTERSKATEGORIE_GROB']\n"
     ]
    }
   ],
   "source": [
    "int64_type_columns = list(azdias.select_dtypes(['int64']).columns)\n",
    "print(int64_type_columns)"
   ]
  },
  {
   "cell_type": "code",
   "execution_count": 34,
   "metadata": {
    "scrolled": true
   },
   "outputs": [
    {
     "name": "stdout",
     "output_type": "stream",
     "text": [
      "LNR\n",
      "[910215 910220 910225 ... 825772 825776 825787]\n",
      "AGER_TYP\n",
      "[-1  2  3  0  1]\n",
      "D19_BANKEN_ANZ_12\n",
      "[0 3 1 2 4 5 6]\n",
      "D19_BANKEN_ANZ_24\n",
      "[0 5 1 2 4 3 6]\n",
      "D19_BANKEN_DATUM\n",
      "[10  5  8  6  9  1  7  4  2  3]\n",
      "D19_BANKEN_DIREKT\n",
      "[0 1 6 5 4 3 7 2]\n",
      "D19_BANKEN_GROSS\n",
      "[0 2 6 3 5 1 4]\n",
      "D19_BANKEN_LOKAL\n",
      "[0 7 3 6 5 2 1 4]\n",
      "D19_BANKEN_OFFLINE_DATUM\n",
      "[10  9  8  2  5  4  1  6  7  3]\n",
      "D19_BANKEN_ONLINE_DATUM\n",
      "[10  5  8  6  9  1  4  7  2  3]\n",
      "D19_BANKEN_REST\n",
      "[0 6 5 4 3 7 2 1]\n",
      "D19_BEKLEIDUNG_GEH\n",
      "[0 6 5 7 3 2 4 1]\n",
      "D19_BEKLEIDUNG_REST\n",
      "[0 1 6 7 5 3 4 2]\n",
      "D19_BILDUNG\n",
      "[0 6 3 7 2 4 5 1]\n",
      "D19_BIO_OEKO\n",
      "[0 6 7 3 5 2 4 1]\n",
      "D19_BUCH_CD\n",
      "[0 6 5 3 1 7 4 2]\n",
      "D19_DIGIT_SERV\n",
      "[0 6 7 3 5 2 4 1]\n",
      "D19_DROGERIEARTIKEL\n",
      "[0 1 6 3 7 4 5 2]\n",
      "D19_ENERGIE\n",
      "[0 5 3 6 7 2 1 4]\n",
      "D19_FREIZEIT\n",
      "[0 7 3 6 5 4 1 2]\n",
      "D19_GARTEN\n",
      "[0 3 6 7 5 4 2 1]\n",
      "D19_GESAMT_ANZ_12\n",
      "[0 6 1 2 3 4 5]\n",
      "D19_GESAMT_ANZ_24\n",
      "[0 6 1 2 3 5 4]\n",
      "D19_GESAMT_DATUM\n",
      "[10  1  3  5  9  4  7  6  8  2]\n",
      "D19_GESAMT_OFFLINE_DATUM\n",
      "[10  6  8  9  5  2  4  1  7  3]\n",
      "D19_GESAMT_ONLINE_DATUM\n",
      "[10  1  3  5  9  4  7  6  8  2]\n",
      "D19_HANDWERK\n",
      "[0 6 3 5 7 4 2 1]\n",
      "D19_HAUS_DEKO\n",
      "[0 5 6 7 1 3 4 2]\n",
      "D19_KINDERARTIKEL\n",
      "[0 6 7 3 5 2 1 4]\n",
      "D19_KONSUMTYP_MAX\n",
      "[9 8 1 2 3 4]\n",
      "D19_KOSMETIK\n",
      "[0 6 3 5 7 2 4 1]\n",
      "D19_LEBENSMITTEL\n",
      "[0 6 7 5 3 4 1 2]\n",
      "D19_NAHRUNGSERGAENZUNG\n",
      "[0 5 6 7 4 1 2 3]\n",
      "D19_RATGEBER\n",
      "[0 7 6 3 5 2 4 1]\n",
      "D19_REISEN\n",
      "[0 6 7 3 5 2 4 1]\n",
      "D19_SAMMELARTIKEL\n",
      "[0 6 1 7 5 3 2 4]\n",
      "D19_SCHUHE\n",
      "[0 1 3 5 6 2 7 4]\n",
      "D19_SONSTIGE\n",
      "[0 6 4 7 5 3 2 1]\n",
      "D19_TECHNIK\n",
      "[0 6 5 7 3 1 4 2]\n",
      "D19_TELKO_ANZ_12\n",
      "[0 1 2 6 3 4 5]\n",
      "D19_TELKO_ANZ_24\n",
      "[0 1 2 4 3 6 5]\n",
      "D19_TELKO_DATUM\n",
      "[10  6  9  8  7  5  4  2  1  3]\n",
      "D19_TELKO_MOBILE\n",
      "[0 6 3 7 4 5 2 1]\n",
      "D19_TELKO_OFFLINE_DATUM\n",
      "[10  8  9  5  6  7  4  2  3  1]\n",
      "D19_TELKO_ONLINE_DATUM\n",
      "[10  9  7  8  6  5  4  1  2  3]\n",
      "D19_TELKO_REST\n",
      "[0 5 6 4 3 7 2 1]\n",
      "D19_TIERARTIKEL\n",
      "[0 6 5 3 4 7 2 1]\n",
      "D19_VERSAND_ANZ_12\n",
      "[0 6 1 2 5 3 4]\n",
      "D19_VERSAND_ANZ_24\n",
      "[0 6 2 1 3 4 5]\n",
      "D19_VERSAND_DATUM\n",
      "[10  1  5  9  4  8  7  6  3  2]\n",
      "D19_VERSAND_OFFLINE_DATUM\n",
      "[10  9  6  8  5  2  1  4  7  3]\n",
      "D19_VERSAND_ONLINE_DATUM\n",
      "[10  1  5  9  4  8  7  6  3  2]\n",
      "D19_VERSAND_REST\n",
      "[0 2 6 5 3 1 4 7]\n",
      "D19_VERSI_ANZ_12\n",
      "[0 1 2 3 4 5 6]\n",
      "D19_VERSI_ANZ_24\n",
      "[0 3 1 2 4 5 6]\n",
      "D19_VERSI_DATUM\n",
      "[10  2  8  9  6  7  5  1  4  3]\n",
      "D19_VERSI_OFFLINE_DATUM\n",
      "[10  7  9  6  4  8  5  2  3  1]\n",
      "D19_VERSI_ONLINE_DATUM\n",
      "[10  8  9  5  6  7  4  1  2  3]\n",
      "D19_VERSICHERUNGEN\n",
      "[0 3 6 4 5 7 2 1]\n",
      "D19_VOLLSORTIMENT\n",
      "[0 7 6 3 2 5 4 1]\n",
      "D19_WEIN_FEINKOST\n",
      "[0 6 7 5 3 2 4 1]\n",
      "FINANZ_ANLEGER\n",
      "[5 2 1 4 3]\n",
      "FINANZ_HAUSBAUER\n",
      "[3 5 2 4 1]\n",
      "FINANZ_MINIMALIST\n",
      "[3 1 4 2 5]\n",
      "FINANZ_SPARER\n",
      "[4 5 2 3 1]\n",
      "FINANZ_UNAUFFAELLIGER\n",
      "[5 4 3 1 2]\n",
      "FINANZ_VORSORGER\n",
      "[3 2 1 5 4]\n",
      "FINANZTYP\n",
      "[4 1 6 5 2 3]\n",
      "GEBURTSJAHR\n",
      "[   0 1996 1979 1957 1963 1943 1964 1974 1975 1941 1993 1946 1988 1991\n",
      " 1966 1949 1982 1972 1990 1985 1989 1948 1935 1997 1994 1987 2002 1950\n",
      " 1965 1969 1978 1958 1944 1967 1977 1960 1970 1973 1971 1937 1947 1926\n",
      " 1954 1981 1962 1992 2008 1976 1928 1927 1968 1940 1952 1961 2006 1938\n",
      " 1945 1942 1984 1930 1980 1959 1986 1931 1955 1983 2010 1951 1921 1929\n",
      " 1939 2001 1995 1956 1953 2012 1934 1913 1914 1922 2004 1936 2009 1915\n",
      " 2003 2013 1998 2007 1932 2005 1923 1925 2015 1933 2017 2000 1999 2014\n",
      " 1920 1918 1924 2016 2011 1908 1919 1916 1917 1912 1911 1909 1910 1904\n",
      " 1906 1905 1900 1907 1902]\n",
      "GREEN_AVANTGARDE\n",
      "[0 1]\n",
      "HEALTH_TYP\n",
      "[-1  3  2  1]\n",
      "KOMBIALTER\n",
      "[9 1 2 4 3]\n",
      "NATIONALITAET_KZ\n",
      "[0 1 3 2]\n",
      "PRAEGENDE_JUGENDJAHRE\n",
      "[ 0 14 15  8  3 10 11  5  9  6  4  2  1 12 13  7]\n",
      "SEMIO_DOM\n",
      "[6 7 4 2 1 5 3]\n",
      "SEMIO_ERL\n",
      "[3 2 6 7 4 5 1]\n",
      "SEMIO_FAM\n",
      "[6 4 1 5 7 2 3]\n",
      "SEMIO_KAEM\n",
      "[6 4 7 5 2 3 1]\n",
      "SEMIO_KRIT\n",
      "[7 4 3 1 5 6 2]\n",
      "SEMIO_KULT\n",
      "[3 4 6 5 7 1 2]\n",
      "SEMIO_LUST\n",
      "[5 2 4 6 7 3 1]\n",
      "SEMIO_MAT\n",
      "[5 3 1 2 4 7 6]\n",
      "SEMIO_PFLICHT\n",
      "[5 7 3 4 1 6 2]\n",
      "SEMIO_RAT\n",
      "[4 6 3 2 7 5 1]\n",
      "SEMIO_REL\n",
      "[7 4 3 2 5 1 6]\n",
      "SEMIO_SOZ\n",
      "[2 5 4 6 7 3 1]\n",
      "SEMIO_TRADV\n",
      "[3 6 4 2 7 5 1]\n",
      "SEMIO_VERT\n",
      "[1 4 7 2 6 5 3]\n",
      "SHOPPER_TYP\n",
      "[-1  3  2  1  0]\n",
      "VERS_TYP\n",
      "[-1  2  1]\n",
      "ZABEOTYP\n",
      "[3 5 4 1 6 2]\n",
      "ANREDE_KZ\n",
      "[1 2]\n",
      "ALTERSKATEGORIE_GROB\n",
      "[2 1 3 4 9]\n"
     ]
    }
   ],
   "source": [
    "show_distinct_column_values(azdias, int64_type_columns)"
   ]
  },
  {
   "cell_type": "markdown",
   "metadata": {},
   "source": [
    "- LNR: this field seems to be an id of the record. It is not relevant for analysis so it will be dropped later.\n",
    "- GEBURTSJAHR: has value \"0\" which has to be replaced with null value. This is also a real integer column.\n",
    "- Most of other ineteger columns have a very narrow range of distinct values. This indicates that they actually might represent categorical values although they have numerical values\n",
    "- VERS_TYP and ANREDE_KZ are columns with binary values (1 and 2) which have to be converted to 0 and 1."
   ]
  },
  {
   "cell_type": "markdown",
   "metadata": {},
   "source": [
    "### Analyzing decimal columns"
   ]
  },
  {
   "cell_type": "code",
   "execution_count": 35,
   "metadata": {
    "scrolled": true
   },
   "outputs": [
    {
     "name": "stdout",
     "output_type": "stream",
     "text": [
      "['AKT_DAT_KL', 'ALTER_HH', 'ALTER_KIND1', 'ALTER_KIND2', 'ALTER_KIND3', 'ALTER_KIND4', 'ALTERSKATEGORIE_FEIN', 'ANZ_HAUSHALTE_AKTIV', 'ANZ_HH_TITEL', 'ANZ_KINDER', 'ANZ_PERSONEN', 'ANZ_STATISTISCHE_HAUSHALTE', 'ANZ_TITEL', 'ARBEIT', 'BALLRAUM', 'CJT_GESAMTTYP', 'CJT_KATALOGNUTZER', 'CJT_TYP_1', 'CJT_TYP_2', 'CJT_TYP_3', 'CJT_TYP_4', 'CJT_TYP_5', 'CJT_TYP_6', 'D19_BANKEN_ONLINE_QUOTE_12', 'D19_GESAMT_ONLINE_QUOTE_12', 'D19_KONSUMTYP', 'D19_LOTTO', 'D19_SOZIALES', 'D19_TELKO_ONLINE_QUOTE_12', 'D19_VERSAND_ONLINE_QUOTE_12', 'D19_VERSI_ONLINE_QUOTE_12', 'DSL_FLAG', 'EINGEZOGENAM_HH_JAHR', 'EWDICHTE', 'EXTSEL992', 'FIRMENDICHTE', 'GEBAEUDETYP', 'GEBAEUDETYP_RASTER', 'GEMEINDETYP', 'GFK_URLAUBERTYP', 'HH_DELTA_FLAG', 'HH_EINKOMMEN_SCORE', 'INNENSTADT', 'KBA05_ALTER1', 'KBA05_ALTER2', 'KBA05_ALTER3', 'KBA05_ALTER4', 'KBA05_ANHANG', 'KBA05_ANTG1', 'KBA05_ANTG2', 'KBA05_ANTG3', 'KBA05_ANTG4', 'KBA05_AUTOQUOT', 'KBA05_BAUMAX', 'KBA05_CCM1', 'KBA05_CCM2', 'KBA05_CCM3', 'KBA05_CCM4', 'KBA05_DIESEL', 'KBA05_FRAU', 'KBA05_GBZ', 'KBA05_HERST1', 'KBA05_HERST2', 'KBA05_HERST3', 'KBA05_HERST4', 'KBA05_HERST5', 'KBA05_HERSTTEMP', 'KBA05_KRSAQUOT', 'KBA05_KRSHERST1', 'KBA05_KRSHERST2', 'KBA05_KRSHERST3', 'KBA05_KRSKLEIN', 'KBA05_KRSOBER', 'KBA05_KRSVAN', 'KBA05_KRSZUL', 'KBA05_KW1', 'KBA05_KW2', 'KBA05_KW3', 'KBA05_MAXAH', 'KBA05_MAXBJ', 'KBA05_MAXHERST', 'KBA05_MAXSEG', 'KBA05_MAXVORB', 'KBA05_MOD1', 'KBA05_MOD2', 'KBA05_MOD3', 'KBA05_MOD4', 'KBA05_MOD8', 'KBA05_MODTEMP', 'KBA05_MOTOR', 'KBA05_MOTRAD', 'KBA05_SEG1', 'KBA05_SEG10', 'KBA05_SEG2', 'KBA05_SEG3', 'KBA05_SEG4', 'KBA05_SEG5', 'KBA05_SEG6', 'KBA05_SEG7', 'KBA05_SEG8', 'KBA05_SEG9', 'KBA05_VORB0', 'KBA05_VORB1', 'KBA05_VORB2', 'KBA05_ZUL1', 'KBA05_ZUL2', 'KBA05_ZUL3', 'KBA05_ZUL4', 'KBA13_ALTERHALTER_30', 'KBA13_ALTERHALTER_45', 'KBA13_ALTERHALTER_60', 'KBA13_ALTERHALTER_61', 'KBA13_ANTG1', 'KBA13_ANTG2', 'KBA13_ANTG3', 'KBA13_ANTG4', 'KBA13_ANZAHL_PKW', 'KBA13_AUDI', 'KBA13_AUTOQUOTE', 'KBA13_BAUMAX', 'KBA13_BJ_1999', 'KBA13_BJ_2000', 'KBA13_BJ_2004', 'KBA13_BJ_2006', 'KBA13_BJ_2008', 'KBA13_BJ_2009', 'KBA13_BMW', 'KBA13_CCM_0_1400', 'KBA13_CCM_1000', 'KBA13_CCM_1200', 'KBA13_CCM_1400', 'KBA13_CCM_1401_2500', 'KBA13_CCM_1500', 'KBA13_CCM_1600', 'KBA13_CCM_1800', 'KBA13_CCM_2000', 'KBA13_CCM_2500', 'KBA13_CCM_2501', 'KBA13_CCM_3000', 'KBA13_CCM_3001', 'KBA13_FAB_ASIEN', 'KBA13_FAB_SONSTIGE', 'KBA13_FIAT', 'KBA13_FORD', 'KBA13_GBZ', 'KBA13_HALTER_20', 'KBA13_HALTER_25', 'KBA13_HALTER_30', 'KBA13_HALTER_35', 'KBA13_HALTER_40', 'KBA13_HALTER_45', 'KBA13_HALTER_50', 'KBA13_HALTER_55', 'KBA13_HALTER_60', 'KBA13_HALTER_65', 'KBA13_HALTER_66', 'KBA13_HERST_ASIEN', 'KBA13_HERST_AUDI_VW', 'KBA13_HERST_BMW_BENZ', 'KBA13_HERST_EUROPA', 'KBA13_HERST_FORD_OPEL', 'KBA13_HERST_SONST', 'KBA13_HHZ', 'KBA13_KMH_0_140', 'KBA13_KMH_110', 'KBA13_KMH_140', 'KBA13_KMH_140_210', 'KBA13_KMH_180', 'KBA13_KMH_210', 'KBA13_KMH_211', 'KBA13_KMH_250', 'KBA13_KMH_251', 'KBA13_KRSAQUOT', 'KBA13_KRSHERST_AUDI_VW', 'KBA13_KRSHERST_BMW_BENZ', 'KBA13_KRSHERST_FORD_OPEL', 'KBA13_KRSSEG_KLEIN', 'KBA13_KRSSEG_OBER', 'KBA13_KRSSEG_VAN', 'KBA13_KRSZUL_NEU', 'KBA13_KW_0_60', 'KBA13_KW_110', 'KBA13_KW_120', 'KBA13_KW_121', 'KBA13_KW_30', 'KBA13_KW_40', 'KBA13_KW_50', 'KBA13_KW_60', 'KBA13_KW_61_120', 'KBA13_KW_70', 'KBA13_KW_80', 'KBA13_KW_90', 'KBA13_MAZDA', 'KBA13_MERCEDES', 'KBA13_MOTOR', 'KBA13_NISSAN', 'KBA13_OPEL', 'KBA13_PEUGEOT', 'KBA13_RENAULT', 'KBA13_SEG_GELAENDEWAGEN', 'KBA13_SEG_GROSSRAUMVANS', 'KBA13_SEG_KLEINST', 'KBA13_SEG_KLEINWAGEN', 'KBA13_SEG_KOMPAKTKLASSE', 'KBA13_SEG_MINIVANS', 'KBA13_SEG_MINIWAGEN', 'KBA13_SEG_MITTELKLASSE', 'KBA13_SEG_OBEREMITTELKLASSE', 'KBA13_SEG_OBERKLASSE', 'KBA13_SEG_SONSTIGE', 'KBA13_SEG_SPORTWAGEN', 'KBA13_SEG_UTILITIES', 'KBA13_SEG_VAN', 'KBA13_SEG_WOHNMOBILE', 'KBA13_SITZE_4', 'KBA13_SITZE_5', 'KBA13_SITZE_6', 'KBA13_TOYOTA', 'KBA13_VORB_0', 'KBA13_VORB_1', 'KBA13_VORB_1_2', 'KBA13_VORB_2', 'KBA13_VORB_3', 'KBA13_VW', 'KK_KUNDENTYP', 'KKK', 'KONSUMNAEHE', 'KONSUMZELLE', 'LP_FAMILIE_FEIN', 'LP_FAMILIE_GROB', 'LP_LEBENSPHASE_FEIN', 'LP_LEBENSPHASE_GROB', 'LP_STATUS_FEIN', 'LP_STATUS_GROB', 'MIN_GEBAEUDEJAHR', 'MOBI_RASTER', 'MOBI_REGIO', 'ONLINE_AFFINITAET', 'ORTSGR_KLS9', 'PLZ8_ANTG1', 'PLZ8_ANTG2', 'PLZ8_ANTG3', 'PLZ8_ANTG4', 'PLZ8_BAUMAX', 'PLZ8_GBZ', 'PLZ8_HHZ', 'REGIOTYP', 'RELAT_AB', 'RETOURTYP_BK_S', 'RT_KEIN_ANREIZ', 'RT_SCHNAEPPCHEN', 'RT_UEBERGROESSE', 'SOHO_KZ', 'STRUKTURTYP', 'TITEL_KZ', 'UMFELD_ALT', 'UMFELD_JUNG', 'UNGLEICHENN_FLAG', 'VERDICHTUNGSRAUM', 'VHA', 'VHN', 'VK_DHT4A', 'VK_DISTANZ', 'VK_ZG11', 'W_KEIT_KIND_HH', 'WOHNDAUER_2008', 'WOHNLAGE']\n"
     ]
    }
   ],
   "source": [
    "float64_type_columns = list(azdias.select_dtypes(['float64']).columns)\n",
    "print(float64_type_columns)"
   ]
  },
  {
   "cell_type": "code",
   "execution_count": 36,
   "metadata": {
    "scrolled": true
   },
   "outputs": [
    {
     "name": "stdout",
     "output_type": "stream",
     "text": [
      "AKT_DAT_KL\n",
      "[nan  9.  1.  5.  8.  7.  6.  4.  3.  2.]\n",
      "ALTER_HH\n",
      "[nan  0. 17. 13. 20. 10. 14. 16. 21. 11. 19. 15.  9. 18.  8.  7. 12.  4.\n",
      "  3.  6.  5.  2.  1.]\n",
      "ALTER_KIND1\n",
      "[nan 17. 10. 18. 13. 16. 11.  6.  8.  9. 15. 14.  7. 12.  4.  3.  5.  2.]\n",
      "ALTER_KIND2\n",
      "[nan 13.  8. 12. 10.  7. 16. 15. 14. 17.  5.  9. 18. 11.  6.  4.  3.  2.]\n",
      "ALTER_KIND3\n",
      "[nan 10. 18. 17. 16.  8. 15.  9. 12. 13. 14. 11.  7.  5.  6.  4.]\n",
      "ALTER_KIND4\n",
      "[nan 10.  9. 16. 14. 13. 11. 18. 17. 15.  8. 12.  7.]\n",
      "ALTERSKATEGORIE_FEIN\n",
      "[nan 21. 17. 13. 14. 10. 16. 20. 11. 19. 15. 18.  9. 22. 12.  0.  8.  7.\n",
      " 23.  4. 24.  6.  3.  2.  5. 25.  1.]\n",
      "ANZ_HAUSHALTE_AKTIV\n",
      "[ nan  11.  10.   1.   3.   5.   4.   6.   2.   9.   0.  14.  13.   8.\n",
      "   7.  44.  25.  36.  16. 272.  33.  15.  12.  22.  21.  20.  67.  23.\n",
      "  18.  27.  24.  31.  39.  19.  30.  17.  29.  61.  54.  88.  49.  60.\n",
      "  38.  34.  48.  35.  62.  26.  45.  42.  28.  77.  47.  50. 236. 137.\n",
      "  43.  52.  41.  76.  63.  32.  40.  37.  59.  53.  57. 118.  66.  95.\n",
      "  78.  70.  46. 185.  73. 154.  80. 102.  92. 126.  94.  71.  68.  81.\n",
      "  69. 121. 258.  58.  86. 124.  85.  90. 128.  51.  72.  64.  56.  83.\n",
      " 150. 259.  91. 160. 134. 169. 246.  82. 114. 183. 116.  74. 143.  99.\n",
      " 216.  98. 125. 112. 123.  55. 120.  75. 141. 103.  87.  89. 223.  93.\n",
      " 179. 135. 149.  97. 101. 110.  79. 111. 109.  65.  84. 367. 162. 195.\n",
      " 107. 119. 331. 122. 161. 157. 175. 177. 136. 104. 316. 127. 100. 180.\n",
      " 155. 133. 178. 176. 108. 353. 131. 130.  96. 256. 117. 146. 211. 199.\n",
      " 140. 200. 106. 285. 263. 314. 253. 163. 377. 171. 148. 191. 243. 153.\n",
      " 145. 174. 172. 190. 142. 317. 244. 189. 286. 105. 170. 215. 321. 113.\n",
      " 115. 156. 129. 242. 132. 280. 159. 138. 158. 267. 151. 164. 187. 206.\n",
      " 266. 265. 209. 196. 139. 193. 184. 210. 260. 366. 194. 318. 344. 277.\n",
      " 595. 197. 247. 165. 283. 326. 181. 186. 438. 222. 144. 378. 237. 152.\n",
      " 208. 274. 430. 202. 214. 231. 219. 225. 230. 198. 224. 333. 168. 221.\n",
      " 523. 254. 305. 166. 252. 445. 147. 301. 213. 536. 220. 249. 290. 515.\n",
      " 276. 241. 204. 250. 218. 226. 201. 240. 404. 348. 328. 228. 304. 167.\n",
      " 346. 205. 207. 293. 255. 307. 414. 311. 347. 379. 395. 229. 232.]\n",
      "ANZ_HH_TITEL\n",
      "[nan  0.  1.  5.  2.  3.  7.  4.  6.  9. 15. 14.  8. 11. 10. 12. 13. 20.\n",
      " 16. 17. 23. 18.]\n",
      "ANZ_KINDER\n",
      "[nan  0.  1.  2.  3.  4.  5.  6.  9.  7. 11.  8.]\n",
      "ANZ_PERSONEN\n",
      "[nan  2.  1.  0.  4.  3.  5.  7.  6.  8. 12.  9. 21. 10. 13. 11. 14. 45.\n",
      " 20. 31. 29. 37. 16. 22. 15. 23. 18. 35. 17. 40. 38.]\n",
      "ANZ_STATISTISCHE_HAUSHALTE\n",
      "[ nan  12.   7.   2.   3.   5.   6.   1.  14.   4.  11.  13.  30.  22.\n",
      "  36. 244.  10.  32.   8.   9.  18.  17.  16.  67.  19.  15.  26.  20.\n",
      "  23.  33.  34.  68.  53.  21.  42.  57.  28.  25.  60.  35.  29.  43.\n",
      "  64.  27.  46.  24.  48.  31.  56.  37. 243. 157.  39.  40.  71.  63.\n",
      "  38.  44.  50. 101.  66.  41.  81.  47. 192. 131. 149.  74.  84.  80.\n",
      " 137.  45.  94.  65.  54.  87.  69. 125.  61.  82.  73.  72.  86. 292.\n",
      "  70.  83.  91. 112.  58.  51.  75.  52.  90. 140.  49. 212.  79. 152.\n",
      " 142. 166. 251.  99. 107.  76. 173.  89. 138.  92. 154. 115. 100.  55.\n",
      " 116.  88. 113. 162.  95. 168.  62.  97. 110. 127. 102.  93. 103.  78.\n",
      " 111. 114.  77.  98. 365. 146. 109.  59. 108. 289. 130.  85. 119. 159.\n",
      " 183. 117. 303.  96. 124. 163. 123. 122. 156. 155.   0. 319. 104. 223.\n",
      " 105. 128. 217. 129. 170. 218. 367. 253. 132. 328. 126. 193. 133. 153.\n",
      " 118. 121. 233. 143. 229. 134. 256. 180. 106. 202. 120. 136. 148. 204.\n",
      " 245. 135. 164. 248. 150. 160. 147. 139. 189. 195. 187. 269. 179. 174.\n",
      " 161. 225. 314. 158. 141. 167. 353. 354. 284. 258. 234. 194. 264. 145.\n",
      " 239. 238. 144. 235. 369. 257. 227. 184. 296. 317. 240. 213. 169. 199.\n",
      " 222. 230. 274. 181. 197. 237. 252. 309. 339. 262. 366. 177. 241. 175.\n",
      " 304. 186. 178. 176. 172. 200. 216. 182. 205. 228. 336. 445. 242. 299.\n",
      " 151. 203. 185. 268. 214. 286. 322. 198. 449. 165. 190. 297. 209. 342.\n",
      " 375. 371. 171.]\n",
      "ANZ_TITEL\n",
      "[nan  0.  1.  2.  4.  3.  6.]\n",
      "ARBEIT\n",
      "[nan  3.  2.  4.  1.  5.  9.]\n",
      "BALLRAUM\n",
      "[nan  6.  2.  4.  3.  7.  1.  5.]\n",
      "CJT_GESAMTTYP\n",
      "[ 2.  5.  3.  4.  1.  6. nan]\n",
      "CJT_KATALOGNUTZER\n",
      "[ 5.  1.  2.  3.  4. nan]\n",
      "CJT_TYP_1\n",
      "[ 1.  5.  4.  2.  3. nan]\n",
      "CJT_TYP_2\n",
      "[ 1.  5.  4.  2.  3. nan]\n",
      "CJT_TYP_3\n",
      "[ 5.  2.  1.  4.  3. nan]\n",
      "CJT_TYP_4\n",
      "[ 5.  3.  4.  1.  2. nan]\n",
      "CJT_TYP_5\n",
      "[ 5.  1.  2.  3.  4. nan]\n",
      "CJT_TYP_6\n",
      "[ 5.  1.  2.  3.  4. nan]\n",
      "D19_BANKEN_ONLINE_QUOTE_12\n",
      "[nan  0. 10.  8.  5.  9.  7.  6.  3.  4.  2.  1.]\n",
      "D19_GESAMT_ONLINE_QUOTE_12\n",
      "[nan  0. 10.  7.  9.  5.  8.  6.  3.  4.  2.  1.]\n",
      "D19_KONSUMTYP\n",
      "[nan  9.  1.  4.  3.  6.  5.  2.]\n",
      "D19_LOTTO\n",
      "[nan  0.  6.  7.  5.  3.  4.  2.  1.]\n",
      "D19_SOZIALES\n",
      "[nan  0.  4.  5.  3.  1.  2.]\n",
      "D19_TELKO_ONLINE_QUOTE_12\n",
      "[nan  0. 10.  5.  7.  3.]\n",
      "D19_VERSAND_ONLINE_QUOTE_12\n",
      "[nan  0. 10.  7.  5.  9.  3.  8.  6.  4.  2.  1.]\n",
      "D19_VERSI_ONLINE_QUOTE_12\n",
      "[nan  0. 10.  5.  7.  8.  6.  3.  9.]\n",
      "DSL_FLAG\n",
      "[nan  1.  0.]\n",
      "EINGEZOGENAM_HH_JAHR\n",
      "[  nan 2004. 2000. 1998. 1994. 2005. 2007. 2009. 2016. 2014. 2015. 2013.\n",
      " 2008. 2010. 2001. 2002. 1997. 2012. 1992. 1999. 1996. 1995. 2011. 2003.\n",
      " 2006. 1991. 2017. 1993. 2018. 1989. 1990. 1987. 1986. 1988. 1900. 1904.\n",
      " 1971. 1984.]\n",
      "EWDICHTE\n",
      "[nan  3.  4.  2.  5.  6.  1.]\n",
      "EXTSEL992\n",
      "[nan 14. 31. 20. 56. 53. 27. 54.  6. 25. 48. 55. 36. 34. 35. 18. 38. 32.\n",
      " 29. 41. 43. 22. 19. 24. 23.  8. 21. 37.  7.  3. 39. 12. 15. 17.  4.  9.\n",
      " 44. 50. 13. 33. 42. 49.  1. 30. 10. 45. 26. 16. 28. 47.  2. 46. 11. 40.\n",
      " 51. 52.  5.]\n",
      "FIRMENDICHTE\n",
      "[nan  2.  4.  5.  3.  1.]\n",
      "GEBAEUDETYP\n",
      "[nan  8.  1.  3.  2.  6.  4.  5.]\n",
      "GEBAEUDETYP_RASTER\n",
      "[nan  3.  4.  5.  1.  2.]\n",
      "GEMEINDETYP\n",
      "[nan 22. 40. 21. 12. 30. 11. 50.]\n",
      "GFK_URLAUBERTYP\n",
      "[10.  1.  5. 12.  9.  3.  8. 11.  4.  2.  7.  6. nan]\n",
      "HH_DELTA_FLAG\n",
      "[nan  0.  1.]\n",
      "HH_EINKOMMEN_SCORE\n",
      "[ 2.  6.  4.  1.  5.  3. nan]\n",
      "INNENSTADT\n",
      "[nan  8.  4.  6.  1.  7.  3.  2.  5.]\n",
      "KBA05_ALTER1\n",
      "[nan  3.  2.  0.  1.  4.  9.]\n",
      "KBA05_ALTER2\n",
      "[nan  4.  3.  5.  2.  9.  1.]\n",
      "KBA05_ALTER3\n",
      "[nan  1.  3.  4.  2.  5.  9.]\n",
      "KBA05_ALTER4\n",
      "[nan  4.  3.  0.  5.  2.  1.  9.]\n",
      "KBA05_ANHANG\n",
      "[nan  0.  1.  2.  3.  9.]\n",
      "KBA05_ANTG1\n",
      "[nan  0.  1.  4.  2.  3.]\n",
      "KBA05_ANTG2\n",
      "[nan  0.  3.  1.  4.  2.]\n",
      "KBA05_ANTG3\n",
      "[nan  0.  1.  2.  3.]\n",
      "KBA05_ANTG4\n",
      "[nan  2.  0.  1.]\n",
      "KBA05_AUTOQUOT\n",
      "[nan  1.  3.  4.  2.  5.  9.]\n",
      "KBA05_BAUMAX\n",
      "[nan  5.  0.  1.  2.  3.  4.]\n",
      "KBA05_CCM1\n",
      "[nan  1.  5.  2.  4.  3.  9.]\n",
      "KBA05_CCM2\n",
      "[nan  5.  2.  3.  1.  4.  9.]\n",
      "KBA05_CCM3\n",
      "[nan  1.  3.  5.  4.  2.  9.]\n",
      "KBA05_CCM4\n",
      "[nan  4.  0.  1.  2.  3.  9.]\n",
      "KBA05_DIESEL\n",
      "[nan  2.  0.  3.  1.  4.  9.]\n",
      "KBA05_FRAU\n",
      "[nan  4.  3.  5.  2.  1.  9.]\n",
      "KBA05_GBZ\n",
      "[nan  1.  3.  4.  5.  2.]\n",
      "KBA05_HERST1\n",
      "[nan  5.  2.  4.  3.  0.  1.  9.]\n",
      "KBA05_HERST2\n",
      "[nan  5.  2.  3.  4.  9.  1.]\n",
      "KBA05_HERST3\n",
      "[nan  2.  3.  4.  1.  0.  5.  9.]\n",
      "KBA05_HERST4\n",
      "[nan  2.  1.  3.  4.  0.  5.  9.]\n",
      "KBA05_HERST5\n",
      "[nan  0.  5.  3.  4.  2.  1.  9.]\n",
      "KBA05_HERSTTEMP\n",
      "[nan  4.  3.  1.  2.  5.  9.]\n",
      "KBA05_KRSAQUOT\n",
      "[nan  1.  3.  4.  2.  5.  9.]\n",
      "KBA05_KRSHERST1\n",
      "[nan  5.  3.  4.  2.  1.  9.]\n",
      "KBA05_KRSHERST2\n",
      "[nan  4.  2.  3.  5.  1.  9.]\n",
      "KBA05_KRSHERST3\n",
      "[nan  2.  3.  1.  4.  5.  9.]\n",
      "KBA05_KRSKLEIN\n",
      "[nan  1.  3.  2.  9.]\n",
      "KBA05_KRSOBER\n",
      "[nan  2.  1.  3.  9.]\n",
      "KBA05_KRSVAN\n",
      "[nan  1.  2.  3.  9.]\n",
      "KBA05_KRSZUL\n",
      "[nan  2.  3.  1.  9.]\n",
      "KBA05_KW1\n",
      "[nan  1.  3.  4.  2.  5.  9.]\n",
      "KBA05_KW2\n",
      "[nan  3.  2.  4.  5.  1.  9.]\n",
      "KBA05_KW3\n",
      "[nan  4.  2.  1.  3.  0.  9.]\n",
      "KBA05_MAXAH\n",
      "[nan  2.  3.  5.  1.  4.  9.]\n",
      "KBA05_MAXBJ\n",
      "[nan  1.  4.  2.  3.  9.]\n",
      "KBA05_MAXHERST\n",
      "[nan  2.  5.  3.  1.  4.  9.]\n",
      "KBA05_MAXSEG\n",
      "[nan  4.  1.  2.  3.  9.]\n",
      "KBA05_MAXVORB\n",
      "[nan  3.  1.  2.  9.]\n",
      "KBA05_MOD1\n",
      "[nan  3.  0.  2.  1.  4.  9.]\n",
      "KBA05_MOD2\n",
      "[nan  2.  4.  1.  3.  5.  9.]\n",
      "KBA05_MOD3\n",
      "[nan  2.  5.  4.  1.  3.  9.]\n",
      "KBA05_MOD4\n",
      "[nan  0.  1.  2.  4.  5.  3.  9.]\n",
      "KBA05_MOD8\n",
      "[nan  0.  1.  2.  3.  9.]\n",
      "KBA05_MODTEMP\n",
      "[nan  1.  4.  3.  5.  2.  6.]\n",
      "KBA05_MOTOR\n",
      "[nan  3.  1.  4.  2.  9.]\n",
      "KBA05_MOTRAD\n",
      "[nan  0.  1.  3.  2.  9.]\n",
      "KBA05_SEG1\n",
      "[nan  0.  2.  1.  3.  9.]\n",
      "KBA05_SEG10\n",
      "[nan  4.  1.  3.  2.  0.  9.]\n",
      "KBA05_SEG2\n",
      "[nan  1.  5.  2.  4.  3.  9.]\n",
      "KBA05_SEG3\n",
      "[nan  2.  3.  5.  1.  4.  9.]\n",
      "KBA05_SEG4\n",
      "[nan  2.  3.  4.  1.  5.  9.]\n",
      "KBA05_SEG5\n",
      "[nan  2.  1.  0.  3.  4.  9.]\n",
      "KBA05_SEG6\n",
      "[nan  1.  0.  9.]\n",
      "KBA05_SEG7\n",
      "[nan  3.  0.  1.  2.  9.]\n",
      "KBA05_SEG8\n",
      "[nan  3.  0.  1.  2.  9.]\n",
      "KBA05_SEG9\n",
      "[nan  0.  1.  2.  3.  9.]\n",
      "KBA05_VORB0\n",
      "[nan  1.  4.  2.  5.  3.  9.]\n",
      "KBA05_VORB1\n",
      "[nan  1.  2.  5.  3.  4.  9.]\n",
      "KBA05_VORB2\n",
      "[nan  5.  3.  1.  4.  2.  0.  9.]\n",
      "KBA05_ZUL1\n",
      "[nan  5.  2.  3.  4.  1.  9.]\n",
      "KBA05_ZUL2\n",
      "[nan  1.  3.  4.  2.  5.  9.]\n",
      "KBA05_ZUL3\n",
      "[nan  0.  4.  3.  2.  1.  5.  9.]\n",
      "KBA05_ZUL4\n",
      "[nan  2.  4.  3.  5.  1.  0.  9.]\n",
      "KBA13_ALTERHALTER_30\n",
      "[nan  3.  2.  1.  4.  5.]\n",
      "KBA13_ALTERHALTER_45\n",
      "[nan  2.  3.  4.  1.  5.]\n",
      "KBA13_ALTERHALTER_60\n",
      "[nan  3.  5.  2.  4.  1.]\n",
      "KBA13_ALTERHALTER_61\n",
      "[nan  4.  3.  2.  5.  1.]\n",
      "KBA13_ANTG1\n",
      "[nan  2.  1.  4.  3.  0.]\n",
      "KBA13_ANTG2\n",
      "[nan  4.  3.  2.  1.  0.]\n",
      "KBA13_ANTG3\n",
      "[nan  2.  1.  0.  3.]\n",
      "KBA13_ANTG4\n",
      "[nan  1.  0.  2.]\n",
      "KBA13_ANZAHL_PKW\n",
      "[ nan 963. 712. ...   2.  30.   7.]\n",
      "KBA13_AUDI\n",
      "[nan  4.  3.  5.  2.  1.]\n",
      "KBA13_AUTOQUOTE\n",
      "[nan  2.  3.  4.  5.  1.  0.]\n",
      "KBA13_BAUMAX\n",
      "[nan  2.  1.  4.  5.  3.]\n",
      "KBA13_BJ_1999\n",
      "[nan  3.  2.  4.  1.  5.]\n",
      "KBA13_BJ_2000\n",
      "[nan  3.  2.  1.  4.  5.]\n",
      "KBA13_BJ_2004\n",
      "[nan  3.  4.  2.  1.  5.]\n",
      "KBA13_BJ_2006\n",
      "[nan  3.  5.  2.  4.  1.]\n",
      "KBA13_BJ_2008\n"
     ]
    },
    {
     "name": "stdout",
     "output_type": "stream",
     "text": [
      "[nan  3.  4.  0.  2.  5.  1.]\n",
      "KBA13_BJ_2009\n",
      "[nan  2.  1.  3.  5.  0.  4.]\n",
      "KBA13_BMW\n",
      "[nan  3.  4.  2.  5.  1.]\n",
      "KBA13_CCM_0_1400\n",
      "[nan  2.  1.  3.  5.  0.  4.]\n",
      "KBA13_CCM_1000\n",
      "[nan  0.  1.  4.  5.  3.  2.]\n",
      "KBA13_CCM_1200\n",
      "[nan  0.  2.  1.  4.  5.  3.]\n",
      "KBA13_CCM_1400\n",
      "[nan  4.  2.  3.  1.  5.]\n",
      "KBA13_CCM_1401_2500\n",
      "[nan  3.  2.  1.  4.  5.]\n",
      "KBA13_CCM_1500\n",
      "[nan  1.  4.  3.  5.  2.]\n",
      "KBA13_CCM_1600\n",
      "[nan  2.  3.  1.  4.  5.]\n",
      "KBA13_CCM_1800\n",
      "[nan  2.  4.  3.  5.  1.  0.]\n",
      "KBA13_CCM_2000\n",
      "[nan  5.  3.  4.  2.  1.]\n",
      "KBA13_CCM_2500\n",
      "[nan  3.  4.  0.  5.  2.  1.]\n",
      "KBA13_CCM_2501\n",
      "[nan  3.  4.  5.  0.  2.  1.]\n",
      "KBA13_CCM_3000\n",
      "[nan  0.  3.  5.  2.  1.  4.]\n",
      "KBA13_CCM_3001\n",
      "[nan  5.  4.  1.  3.  2.]\n",
      "KBA13_FAB_ASIEN\n",
      "[nan  2.  4.  3.  1.  5.]\n",
      "KBA13_FAB_SONSTIGE\n",
      "[nan  3.  2.  1.  4.  5.]\n",
      "KBA13_FIAT\n",
      "[nan  4.  3.  5.  2.  1.]\n",
      "KBA13_FORD\n",
      "[nan  2.  4.  3.  1.  5.]\n",
      "KBA13_GBZ\n",
      "[nan  4.  3.  5.  2.  1.]\n",
      "KBA13_HALTER_20\n",
      "[nan  3.  2.  4.  5.  1.]\n",
      "KBA13_HALTER_25\n",
      "[nan  3.  2.  1.  4.  5.]\n",
      "KBA13_HALTER_30\n",
      "[nan  3.  2.  1.  4.  5.]\n",
      "KBA13_HALTER_35\n",
      "[nan  3.  2.  1.  4.  5.]\n",
      "KBA13_HALTER_40\n",
      "[nan  3.  2.  1.  4.  5.]\n",
      "KBA13_HALTER_45\n",
      "[nan  2.  3.  5.  1.  4.]\n",
      "KBA13_HALTER_50\n",
      "[nan  2.  3.  5.  4.  1.]\n",
      "KBA13_HALTER_55\n",
      "[nan  3.  5.  4.  2.  1.]\n",
      "KBA13_HALTER_60\n",
      "[nan  3.  4.  2.  5.  1.]\n",
      "KBA13_HALTER_65\n",
      "[nan  3.  4.  5.  2.  1.]\n",
      "KBA13_HALTER_66\n",
      "[nan  4.  3.  2.  5.  1.]\n",
      "KBA13_HERST_ASIEN\n",
      "[nan  1.  3.  4.  2.  5.]\n",
      "KBA13_HERST_AUDI_VW\n",
      "[nan  4.  2.  3.  5.  1.]\n",
      "KBA13_HERST_BMW_BENZ\n",
      "[nan  4.  3.  5.  2.  1.]\n",
      "KBA13_HERST_EUROPA\n",
      "[nan  4.  3.  2.  5.  1.]\n",
      "KBA13_HERST_FORD_OPEL\n",
      "[nan  2.  3.  1.  4.  5.]\n",
      "KBA13_HERST_SONST\n",
      "[nan  3.  2.  1.  4.  5.]\n",
      "KBA13_HHZ\n",
      "[nan  5.  4.  3.  2.  1.]\n",
      "KBA13_KMH_0_140\n",
      "[nan  3.  1.  5.  0.  4.  2.]\n",
      "KBA13_KMH_110\n",
      "[nan  1.  2.  3.]\n",
      "KBA13_KMH_140\n",
      "[nan  3.  1.  5.  2.  4.]\n",
      "KBA13_KMH_140_210\n",
      "[nan  3.  2.  1.  4.  5.]\n",
      "KBA13_KMH_180\n",
      "[nan  2.  1.  3.  4.  5.]\n",
      "KBA13_KMH_210\n",
      "[nan  4.  2.  3.  5.  1.]\n",
      "KBA13_KMH_211\n",
      "[nan  3.  4.  5.  2.  1.  0.]\n",
      "KBA13_KMH_250\n",
      "[nan  3.  4.  5.  2.  1.  0.]\n",
      "KBA13_KMH_251\n",
      "[nan  1.  3.  2.]\n",
      "KBA13_KRSAQUOT\n",
      "[nan  2.  3.  4.  1.  5.  0.]\n",
      "KBA13_KRSHERST_AUDI_VW\n",
      "[nan  4.  3.  2.  1.  5.  0.]\n",
      "KBA13_KRSHERST_BMW_BENZ\n",
      "[nan  3.  4.  5.  2.  1.  0.]\n",
      "KBA13_KRSHERST_FORD_OPEL\n",
      "[nan  3.  2.  4.  1.  5.  0.]\n",
      "KBA13_KRSSEG_KLEIN\n",
      "[nan  2.  3.  1.  0.]\n",
      "KBA13_KRSSEG_OBER\n",
      "[nan  2.  3.  1.  0.]\n",
      "KBA13_KRSSEG_VAN\n",
      "[nan  2.  1.  3.  0.]\n",
      "KBA13_KRSZUL_NEU\n",
      "[nan  1.  2.  3.  0.]\n",
      "KBA13_KW_0_60\n",
      "[nan  3.  1.  2.  4.  5.]\n",
      "KBA13_KW_110\n",
      "[nan  4.  3.  1.  5.  0.  2.]\n",
      "KBA13_KW_120\n",
      "[nan  4.  3.  1.  5.  0.  2.]\n",
      "KBA13_KW_121\n",
      "[nan  3.  4.  5.  2.  0.  1.]\n",
      "KBA13_KW_30\n",
      "[nan  1.  2.  3.]\n",
      "KBA13_KW_40\n",
      "[nan  2.  1.  4.  5.  0.  3.]\n",
      "KBA13_KW_50\n",
      "[nan  4.  2.  3.  0.  1.  5.]\n",
      "KBA13_KW_60\n",
      "[nan  0.  1.  2.  3.  4.  5.]\n",
      "KBA13_KW_61_120\n",
      "[nan  3.  5.  2.  4.  1.]\n",
      "KBA13_KW_70\n",
      "[nan  1.  4.  3.  2.  0.  5.]\n",
      "KBA13_KW_80\n",
      "[nan  2.  4.  1.  3.  0.  5.]\n",
      "KBA13_KW_90\n",
      "[nan  3.  2.  0.  4.  1.  5.]\n",
      "KBA13_MAZDA\n",
      "[nan  2.  3.  4.  5.  1.]\n",
      "KBA13_MERCEDES\n",
      "[nan  4.  3.  5.  2.  1.]\n",
      "KBA13_MOTOR\n",
      "[nan  3.  4.  2.  1.]\n",
      "KBA13_NISSAN\n",
      "[nan  2.  3.  5.  4.  1.]\n",
      "KBA13_OPEL\n",
      "[nan  3.  2.  4.  1.  5.]\n",
      "KBA13_PEUGEOT\n",
      "[nan  4.  3.  2.  1.  5.]\n",
      "KBA13_RENAULT\n",
      "[nan  3.  2.  4.  5.  1.]\n",
      "KBA13_SEG_GELAENDEWAGEN\n",
      "[nan  2.  5.  3.  4.  1.]\n",
      "KBA13_SEG_GROSSRAUMVANS\n",
      "[nan  3.  4.  1.  5.  2.]\n",
      "KBA13_SEG_KLEINST\n",
      "[nan  2.  3.  5.  4.  1.]\n",
      "KBA13_SEG_KLEINWAGEN\n",
      "[nan  2.  3.  4.  1.  5.]\n",
      "KBA13_SEG_KOMPAKTKLASSE\n",
      "[nan  5.  1.  4.  3.  2.]\n",
      "KBA13_SEG_MINIVANS\n",
      "[nan  4.  3.  2.  1.  5.]\n",
      "KBA13_SEG_MINIWAGEN\n",
      "[nan  2.  3.  5.  4.  1.]\n",
      "KBA13_SEG_MITTELKLASSE\n",
      "[nan  3.  2.  4.  5.  1.]\n",
      "KBA13_SEG_OBEREMITTELKLASSE\n",
      "[nan  3.  4.  5.  2.  1.]\n",
      "KBA13_SEG_OBERKLASSE\n",
      "[nan  3.  1.  4.  5.  0.  2.]\n",
      "KBA13_SEG_SONSTIGE\n",
      "[nan  2.  5.  3.  4.  1.]\n",
      "KBA13_SEG_SPORTWAGEN\n",
      "[nan  3.  4.  5.  1.  2.  0.]\n",
      "KBA13_SEG_UTILITIES\n",
      "[nan  3.  5.  2.  4.  1.]\n",
      "KBA13_SEG_VAN\n",
      "[nan  4.  3.  2.  1.  5.]\n",
      "KBA13_SEG_WOHNMOBILE\n",
      "[nan  2.  5.  3.  4.  0.  1.]\n",
      "KBA13_SITZE_4\n",
      "[nan  3.  4.  5.  2.  1.]\n",
      "KBA13_SITZE_5\n",
      "[nan  3.  2.  1.  4.  5.]\n",
      "KBA13_SITZE_6\n",
      "[nan  4.  3.  2.  5.  1.]\n",
      "KBA13_TOYOTA\n",
      "[nan  2.  3.  4.  5.  1.]\n",
      "KBA13_VORB_0\n",
      "[nan  3.  4.  5.  2.  1.]\n",
      "KBA13_VORB_1\n",
      "[nan  3.  4.  2.  1.  5.]\n",
      "KBA13_VORB_1_2\n",
      "[nan  3.  4.  2.  1.  5.]\n",
      "KBA13_VORB_2\n",
      "[nan  3.  2.  4.  1.  5.]\n",
      "KBA13_VORB_3\n",
      "[nan  3.  2.  4.  0.  1.  5.]\n",
      "KBA13_VW\n",
      "[nan  4.  2.  3.  5.  1.]\n",
      "KK_KUNDENTYP\n",
      "[nan  1.  3.  6.  4.  2.  5.]\n",
      "KKK\n",
      "[nan  2.  0.  3.  4.  1.]\n",
      "KONSUMNAEHE\n",
      "[nan  1.  5.  4.  3.  2.  6.  7.]\n",
      "KONSUMZELLE\n",
      "[nan  1.  0.]\n",
      "LP_FAMILIE_FEIN\n",
      "[ 2.  5.  1.  0. 10.  7. 11.  3.  8.  4.  6. nan  9.]\n",
      "LP_FAMILIE_GROB\n",
      "[ 2.  3.  1.  0.  5.  4. nan]\n",
      "LP_LEBENSPHASE_FEIN\n",
      "[15. 21.  3.  0. 32.  8.  2.  5. 10.  4.  6. 23. 12. 20.  1. 11. 25. 13.\n",
      "  7. 18. 31. 19. 38. 35. 30. 22. 14. 33. 29. 24. 28. 37. 26. 39. 27. 36.\n",
      "  9. 34. nan 40. 16. 17.]\n",
      "LP_LEBENSPHASE_GROB\n",
      "[ 4.  6.  1.  0. 10.  2.  3.  5.  7. 12. 11.  9.  8. nan]\n",
      "LP_STATUS_FEIN\n",
      "[ 1.  2.  3.  9.  4. 10.  5.  8.  6.  7. nan]\n",
      "LP_STATUS_GROB\n",
      "[ 1.  2.  4.  5.  3. nan]\n",
      "MIN_GEBAEUDEJAHR\n",
      "[  nan 1992. 1997. 2005. 2009. 1994. 1996. 2002. 2015. 1991. 1993. 1995.\n",
      " 2003. 2014. 2008. 2006. 2000. 1990. 2004. 1999. 1998. 2001. 2007. 2013.\n",
      " 1989. 2011. 2012. 2010. 1987. 1988. 1985. 2016. 1986.]\n",
      "MOBI_RASTER\n",
      "[nan  1.  2.  4.  3.  5.  6.]\n",
      "MOBI_REGIO\n",
      "[nan  1.  3.  4.  5.  2.  6.]\n",
      "ONLINE_AFFINITAET\n",
      "[ 1.  3.  2.  5.  4.  0. nan]\n",
      "ORTSGR_KLS9\n",
      "[nan  5.  3.  6.  4.  8.  2.  7.  9.  1.  0.]\n",
      "PLZ8_ANTG1\n",
      "[nan  2.  3.  1.  4.  0.]\n",
      "PLZ8_ANTG2\n",
      "[nan  3.  2.  4.  1.  0.]\n",
      "PLZ8_ANTG3\n",
      "[nan  2.  1.  3.  0.]\n",
      "PLZ8_ANTG4\n",
      "[nan  1.  0.  2.]\n",
      "PLZ8_BAUMAX\n",
      "[nan  1.  2.  4.  5.  3.]\n",
      "PLZ8_GBZ\n",
      "[nan  4.  3.  5.  2.  1.]\n",
      "PLZ8_HHZ\n",
      "[nan  5.  4.  3.  2.  1.]\n",
      "REGIOTYP\n",
      "[nan  3.  2.  0.  5.  1.  7.  6.  4.]\n",
      "RELAT_AB\n",
      "[nan  4.  2.  3.  5.  1.  9.]\n",
      "RETOURTYP_BK_S\n",
      "[ 5.  1.  3.  2.  4. nan]\n",
      "RT_KEIN_ANREIZ\n",
      "[ 1.  5.  3.  4.  2. nan]\n",
      "RT_SCHNAEPPCHEN\n",
      "[ 4.  3.  2.  5.  1. nan]\n",
      "RT_UEBERGROESSE\n",
      "[ 1.  5.  3.  4. nan  2.  0.]\n",
      "SOHO_KZ\n",
      "[nan  1.  0.]\n",
      "STRUKTURTYP\n",
      "[nan  2.  3.  1.]\n",
      "TITEL_KZ\n",
      "[nan  0.  4.  1.  3.  5.  2.]\n",
      "UMFELD_ALT\n",
      "[nan  3.  2.  4.  5.  1.]\n",
      "UMFELD_JUNG\n",
      "[nan  3.  5.  4.  2.  1.]\n",
      "UNGLEICHENN_FLAG\n",
      "[nan  1.  0.]\n",
      "VERDICHTUNGSRAUM\n",
      "[nan  0.  1. 35.  3.  7. 23.  4.  8. 13. 16. 25.  5. 21.  6. 15. 32. 42.\n",
      " 31. 11. 33. 22. 30. 18. 12. 27.  2.  9. 28. 10. 14. 20. 17. 43. 19. 24.\n",
      " 34. 40. 39. 29. 26. 44. 45. 37. 36. 41. 38.]\n",
      "VHA\n",
      "[nan  0.  1.  5.  2.  4.  3.]\n",
      "VHN\n",
      "[nan  4.  2.  0.  1.  3.]\n",
      "VK_DHT4A\n",
      "[nan  8.  9.  7.  3. 10.  1.  6.  4.  2.  5. 11.]\n",
      "VK_DISTANZ\n",
      "[nan 11.  9. 10.  5.  7. 12.  1.  6. 13.  8.  4.  3.  2.]\n",
      "VK_ZG11\n",
      "[nan 10.  6. 11.  4.  9.  8.  1.  3.  7.  5.  2.]\n",
      "W_KEIT_KIND_HH\n",
      "[nan  3.  2.  6.  5.  4.  0.  1.]\n",
      "WOHNDAUER_2008\n",
      "[nan  9.  8.  3.  4.  5.  6.  2.  7.  1.]\n",
      "WOHNLAGE\n",
      "[nan  4.  2.  7.  3.  5.  1.  8.  0.]\n"
     ]
    }
   ],
   "source": [
    "show_distinct_column_values(azdias, float64_type_columns)"
   ]
  },
  {
   "cell_type": "markdown",
   "metadata": {},
   "source": [
    "- ANZ_HAUSHALTE_AKTIV, ANZ_HH_TITEL, ANZ_PERSONEN, ANZ_TITEL: seem to be real numerical values according to the document \"DIAS Attributes values 2017\". These columns will be converted to integer type later.\n",
    "- MIN_GEBAEUDEJAHR: has to be converted to integer type.\n",
    "- EINGEZOGENAM_HH_JAHR: has to be converted to integer type.\n",
    "- Decimal values actually look like integer values becasue they usually do not have a decimal part. this also indicates that there might be a lot of categorical values hidden inside decimal columns."
   ]
  },
  {
   "cell_type": "markdown",
   "metadata": {},
   "source": [
    "### Exploring attribute values"
   ]
  },
  {
   "cell_type": "markdown",
   "metadata": {},
   "source": [
    "We have to explore documentation explaining the nature of data and features to be able to understand it and to make the right decision when cleaning the data and constructing new features."
   ]
  },
  {
   "cell_type": "code",
   "execution_count": 208,
   "metadata": {
    "scrolled": false
   },
   "outputs": [],
   "source": [
    "attribute_values = pd.read_excel('DIAS Attributes - Values 2017.xlsx', dtype='str', usecols = 'B:E', header = 1)\n",
    "attribute_values['Attribute'] = attribute_values['Attribute'].ffill()\n",
    "attribute_values['Description'] = attribute_values['Description'].ffill()"
   ]
  },
  {
   "cell_type": "code",
   "execution_count": 38,
   "metadata": {
    "scrolled": true
   },
   "outputs": [
    {
     "data": {
      "text/html": [
       "<div>\n",
       "<style scoped>\n",
       "    .dataframe tbody tr th:only-of-type {\n",
       "        vertical-align: middle;\n",
       "    }\n",
       "\n",
       "    .dataframe tbody tr th {\n",
       "        vertical-align: top;\n",
       "    }\n",
       "\n",
       "    .dataframe thead th {\n",
       "        text-align: right;\n",
       "    }\n",
       "</style>\n",
       "<table border=\"1\" class=\"dataframe\">\n",
       "  <thead>\n",
       "    <tr style=\"text-align: right;\">\n",
       "      <th></th>\n",
       "      <th>Attribute</th>\n",
       "      <th>Description</th>\n",
       "      <th>Value</th>\n",
       "      <th>Meaning</th>\n",
       "    </tr>\n",
       "  </thead>\n",
       "  <tbody>\n",
       "    <tr>\n",
       "      <th>0</th>\n",
       "      <td>AGER_TYP</td>\n",
       "      <td>best-ager typology</td>\n",
       "      <td>-1</td>\n",
       "      <td>unknown</td>\n",
       "    </tr>\n",
       "    <tr>\n",
       "      <th>1</th>\n",
       "      <td>AGER_TYP</td>\n",
       "      <td>best-ager typology</td>\n",
       "      <td>0</td>\n",
       "      <td>no classification possible</td>\n",
       "    </tr>\n",
       "    <tr>\n",
       "      <th>2</th>\n",
       "      <td>AGER_TYP</td>\n",
       "      <td>best-ager typology</td>\n",
       "      <td>1</td>\n",
       "      <td>passive elderly</td>\n",
       "    </tr>\n",
       "    <tr>\n",
       "      <th>3</th>\n",
       "      <td>AGER_TYP</td>\n",
       "      <td>best-ager typology</td>\n",
       "      <td>2</td>\n",
       "      <td>cultural elderly</td>\n",
       "    </tr>\n",
       "    <tr>\n",
       "      <th>4</th>\n",
       "      <td>AGER_TYP</td>\n",
       "      <td>best-ager typology</td>\n",
       "      <td>3</td>\n",
       "      <td>experience-driven elderly</td>\n",
       "    </tr>\n",
       "  </tbody>\n",
       "</table>\n",
       "</div>"
      ],
      "text/plain": [
       "  Attribute         Description Value                     Meaning\n",
       "0  AGER_TYP  best-ager typology    -1                     unknown\n",
       "1  AGER_TYP  best-ager typology     0  no classification possible\n",
       "2  AGER_TYP  best-ager typology     1             passive elderly\n",
       "3  AGER_TYP  best-ager typology     2            cultural elderly\n",
       "4  AGER_TYP  best-ager typology     3   experience-driven elderly"
      ]
     },
     "execution_count": 38,
     "metadata": {},
     "output_type": "execute_result"
    }
   ],
   "source": [
    "attribute_values.head()"
   ]
  },
  {
   "cell_type": "markdown",
   "metadata": {},
   "source": [
    "By reading the file, it can be seen that the column \"Meaning\" contains values such as \"unknown\" or \"no transaction known\". \n",
    "\n",
    "Such values are indicating missing data. We will have to map and convert values that indicate missing data into real missing data."
   ]
  },
  {
   "cell_type": "code",
   "execution_count": 39,
   "metadata": {
    "scrolled": true
   },
   "outputs": [],
   "source": [
    "unknown_meaning = ['unknown','unknown / no main age detectable', 'no transactions known']\n",
    "unknown_values = attribute_values[attribute_values['Meaning'].isin(unknown_meaning)]"
   ]
  },
  {
   "cell_type": "code",
   "execution_count": 40,
   "metadata": {
    "scrolled": true
   },
   "outputs": [
    {
     "data": {
      "text/html": [
       "<div>\n",
       "<style scoped>\n",
       "    .dataframe tbody tr th:only-of-type {\n",
       "        vertical-align: middle;\n",
       "    }\n",
       "\n",
       "    .dataframe tbody tr th {\n",
       "        vertical-align: top;\n",
       "    }\n",
       "\n",
       "    .dataframe thead th {\n",
       "        text-align: right;\n",
       "    }\n",
       "</style>\n",
       "<table border=\"1\" class=\"dataframe\">\n",
       "  <thead>\n",
       "    <tr style=\"text-align: right;\">\n",
       "      <th></th>\n",
       "      <th>Attribute</th>\n",
       "      <th>Description</th>\n",
       "      <th>Value</th>\n",
       "      <th>Meaning</th>\n",
       "    </tr>\n",
       "  </thead>\n",
       "  <tbody>\n",
       "    <tr>\n",
       "      <th>0</th>\n",
       "      <td>AGER_TYP</td>\n",
       "      <td>best-ager typology</td>\n",
       "      <td>-1</td>\n",
       "      <td>unknown</td>\n",
       "    </tr>\n",
       "    <tr>\n",
       "      <th>5</th>\n",
       "      <td>ALTERSKATEGORIE_GROB</td>\n",
       "      <td>age classification through prename analysis</td>\n",
       "      <td>-1, 0</td>\n",
       "      <td>unknown</td>\n",
       "    </tr>\n",
       "    <tr>\n",
       "      <th>11</th>\n",
       "      <td>ALTER_HH</td>\n",
       "      <td>main age within the household</td>\n",
       "      <td>0</td>\n",
       "      <td>unknown / no main age detectable</td>\n",
       "    </tr>\n",
       "    <tr>\n",
       "      <th>33</th>\n",
       "      <td>ANREDE_KZ</td>\n",
       "      <td>gender</td>\n",
       "      <td>-1, 0</td>\n",
       "      <td>unknown</td>\n",
       "    </tr>\n",
       "    <tr>\n",
       "      <th>40</th>\n",
       "      <td>BALLRAUM</td>\n",
       "      <td>distance to next urban centre</td>\n",
       "      <td>-1</td>\n",
       "      <td>unknown</td>\n",
       "    </tr>\n",
       "  </tbody>\n",
       "</table>\n",
       "</div>"
      ],
      "text/plain": [
       "               Attribute                                   Description  Value  \\\n",
       "0               AGER_TYP                            best-ager typology     -1   \n",
       "5   ALTERSKATEGORIE_GROB  age classification through prename analysis   -1, 0   \n",
       "11              ALTER_HH                 main age within the household      0   \n",
       "33             ANREDE_KZ                                        gender  -1, 0   \n",
       "40              BALLRAUM                distance to next urban centre      -1   \n",
       "\n",
       "                             Meaning  \n",
       "0                            unknown  \n",
       "5                            unknown  \n",
       "11  unknown / no main age detectable  \n",
       "33                           unknown  \n",
       "40                           unknown  "
      ]
     },
     "execution_count": 40,
     "metadata": {},
     "output_type": "execute_result"
    }
   ],
   "source": [
    "unknown_values.head()"
   ]
  },
  {
   "cell_type": "markdown",
   "metadata": {},
   "source": [
    "We can see values like \"-1\" and \"0\" being labeled as \"unknown\". Let's explore and see how many other distinct values have been categorized as \"unknown\"."
   ]
  },
  {
   "cell_type": "code",
   "execution_count": 41,
   "metadata": {
    "scrolled": true
   },
   "outputs": [
    {
     "name": "stderr",
     "output_type": "stream",
     "text": [
      "/Users/vajolukic/anaconda3/lib/python3.7/site-packages/ipykernel_launcher.py:1: SettingWithCopyWarning: \n",
      "A value is trying to be set on a copy of a slice from a DataFrame.\n",
      "Try using .loc[row_indexer,col_indexer] = value instead\n",
      "\n",
      "See the caveats in the documentation: https://pandas.pydata.org/pandas-docs/stable/user_guide/indexing.html#returning-a-view-versus-a-copy\n",
      "  \"\"\"Entry point for launching an IPython kernel.\n"
     ]
    }
   ],
   "source": [
    "unknown_values['Value_List'] = unknown_values['Value'].tolist()"
   ]
  },
  {
   "cell_type": "code",
   "execution_count": 42,
   "metadata": {
    "scrolled": false
   },
   "outputs": [
    {
     "data": {
      "text/html": [
       "<div>\n",
       "<style scoped>\n",
       "    .dataframe tbody tr th:only-of-type {\n",
       "        vertical-align: middle;\n",
       "    }\n",
       "\n",
       "    .dataframe tbody tr th {\n",
       "        vertical-align: top;\n",
       "    }\n",
       "\n",
       "    .dataframe thead th {\n",
       "        text-align: right;\n",
       "    }\n",
       "</style>\n",
       "<table border=\"1\" class=\"dataframe\">\n",
       "  <thead>\n",
       "    <tr style=\"text-align: right;\">\n",
       "      <th></th>\n",
       "      <th>Attribute</th>\n",
       "      <th>Description</th>\n",
       "      <th>Value</th>\n",
       "      <th>Meaning</th>\n",
       "      <th>Value_List</th>\n",
       "    </tr>\n",
       "  </thead>\n",
       "  <tbody>\n",
       "    <tr>\n",
       "      <th>0</th>\n",
       "      <td>AGER_TYP</td>\n",
       "      <td>best-ager typology</td>\n",
       "      <td>-1</td>\n",
       "      <td>unknown</td>\n",
       "      <td>-1</td>\n",
       "    </tr>\n",
       "    <tr>\n",
       "      <th>5</th>\n",
       "      <td>ALTERSKATEGORIE_GROB</td>\n",
       "      <td>age classification through prename analysis</td>\n",
       "      <td>-1, 0</td>\n",
       "      <td>unknown</td>\n",
       "      <td>-1, 0</td>\n",
       "    </tr>\n",
       "    <tr>\n",
       "      <th>11</th>\n",
       "      <td>ALTER_HH</td>\n",
       "      <td>main age within the household</td>\n",
       "      <td>0</td>\n",
       "      <td>unknown / no main age detectable</td>\n",
       "      <td>0</td>\n",
       "    </tr>\n",
       "    <tr>\n",
       "      <th>33</th>\n",
       "      <td>ANREDE_KZ</td>\n",
       "      <td>gender</td>\n",
       "      <td>-1, 0</td>\n",
       "      <td>unknown</td>\n",
       "      <td>-1, 0</td>\n",
       "    </tr>\n",
       "    <tr>\n",
       "      <th>40</th>\n",
       "      <td>BALLRAUM</td>\n",
       "      <td>distance to next urban centre</td>\n",
       "      <td>-1</td>\n",
       "      <td>unknown</td>\n",
       "      <td>-1</td>\n",
       "    </tr>\n",
       "  </tbody>\n",
       "</table>\n",
       "</div>"
      ],
      "text/plain": [
       "               Attribute                                   Description  Value  \\\n",
       "0               AGER_TYP                            best-ager typology     -1   \n",
       "5   ALTERSKATEGORIE_GROB  age classification through prename analysis   -1, 0   \n",
       "11              ALTER_HH                 main age within the household      0   \n",
       "33             ANREDE_KZ                                        gender  -1, 0   \n",
       "40              BALLRAUM                distance to next urban centre      -1   \n",
       "\n",
       "                             Meaning Value_List  \n",
       "0                            unknown         -1  \n",
       "5                            unknown      -1, 0  \n",
       "11  unknown / no main age detectable          0  \n",
       "33                           unknown      -1, 0  \n",
       "40                           unknown         -1  "
      ]
     },
     "execution_count": 42,
     "metadata": {},
     "output_type": "execute_result"
    }
   ],
   "source": [
    "unknown_values.head()"
   ]
  },
  {
   "cell_type": "code",
   "execution_count": 43,
   "metadata": {
    "scrolled": false
   },
   "outputs": [
    {
     "name": "stdout",
     "output_type": "stream",
     "text": [
      "-1       139\n",
      "-1, 9     75\n",
      "-1, 0     16\n",
      "0         13\n",
      "10        12\n",
      "Name: Value_List, dtype: int64\n"
     ]
    }
   ],
   "source": [
    "print(unknown_values['Value_List'].value_counts())"
   ]
  },
  {
   "cell_type": "code",
   "execution_count": 44,
   "metadata": {
    "scrolled": true
   },
   "outputs": [
    {
     "name": "stdout",
     "output_type": "stream",
     "text": [
      "object    5\n",
      "dtype: int64\n"
     ]
    }
   ],
   "source": [
    "print(unknown_values.dtypes.value_counts())"
   ]
  },
  {
   "cell_type": "markdown",
   "metadata": {},
   "source": [
    "We can see that values \"0\", \"-1\" and \"9\" have in some cases been labeled as \"unknown\". We will have to replace these values from these attributes by missing values."
   ]
  },
  {
   "cell_type": "markdown",
   "metadata": {},
   "source": [
    "## Cleaning the data"
   ]
  },
  {
   "cell_type": "markdown",
   "metadata": {},
   "source": [
    "It's time to take care of all findings in the previous section and to clean the data."
   ]
  },
  {
   "cell_type": "markdown",
   "metadata": {},
   "source": [
    "### Fixing warnings"
   ]
  },
  {
   "cell_type": "markdown",
   "metadata": {},
   "source": [
    "Here we replace 'X' and 'XX' values with null values in both datasets."
   ]
  },
  {
   "cell_type": "code",
   "execution_count": 45,
   "metadata": {
    "scrolled": true
   },
   "outputs": [],
   "source": [
    "replace_xx_with_nan(azdias)\n",
    "replace_xx_with_nan(customers)"
   ]
  },
  {
   "cell_type": "markdown",
   "metadata": {},
   "source": [
    "### Cleaning object columns"
   ]
  },
  {
   "cell_type": "markdown",
   "metadata": {},
   "source": [
    "- Column named \"OST_WEST_KZ\" has two distinct string vaues which we have to convert to numerical values.\n",
    "- Column \"GEBURTSJAHR\" has value \"0\" which has to be replaced with null value.\n",
    "- Columns VERS_TYP and ANREDE_KZ are columns with binary values (1 and 2) which have to be converted to 0 and 1.\n",
    "- Columns CAMEO_DEUG_2015 and CAMEO_INTL_2015 are actualy ordinal and will be converted to float type."
   ]
  },
  {
   "cell_type": "code",
   "execution_count": 46,
   "metadata": {
    "scrolled": false
   },
   "outputs": [],
   "source": [
    "clean_individual_columns(azdias)\n",
    "clean_individual_columns(customers)"
   ]
  },
  {
   "cell_type": "markdown",
   "metadata": {},
   "source": [
    "- Column \"EINGEFUEGT_AM\" represents insert time, is not relevant and will be dropped.\n",
    "- Column 'LNR' is a row number, and will be dropped since it has no value."
   ]
  },
  {
   "cell_type": "code",
   "execution_count": 47,
   "metadata": {
    "scrolled": true
   },
   "outputs": [],
   "source": [
    "columns_to_drop = ['LNR', 'EINGEFUEGT_AM']"
   ]
  },
  {
   "cell_type": "markdown",
   "metadata": {},
   "source": [
    "### Transforming unknown values to missing values"
   ]
  },
  {
   "cell_type": "code",
   "execution_count": 48,
   "metadata": {
    "scrolled": false
   },
   "outputs": [
    {
     "name": "stderr",
     "output_type": "stream",
     "text": [
      "/Users/vajolukic/anaconda3/lib/python3.7/site-packages/ipykernel_launcher.py:1: SettingWithCopyWarning: \n",
      "A value is trying to be set on a copy of a slice from a DataFrame.\n",
      "Try using .loc[row_indexer,col_indexer] = value instead\n",
      "\n",
      "See the caveats in the documentation: https://pandas.pydata.org/pandas-docs/stable/user_guide/indexing.html#returning-a-view-versus-a-copy\n",
      "  \"\"\"Entry point for launching an IPython kernel.\n"
     ]
    },
    {
     "data": {
      "text/plain": [
       "0         [-1]\n",
       "5     [-1,  0]\n",
       "11         [0]\n",
       "33    [-1,  0]\n",
       "40        [-1]\n",
       "Name: Value_List, dtype: object"
      ]
     },
     "execution_count": 48,
     "metadata": {},
     "output_type": "execute_result"
    }
   ],
   "source": [
    "unknown_values['Value_List'] = unknown_values['Value_List'].str.split(\",\")\n",
    "unknown_values['Value_List'].head()"
   ]
  },
  {
   "cell_type": "code",
   "execution_count": 49,
   "metadata": {
    "scrolled": true
   },
   "outputs": [],
   "source": [
    "unknown_values_dict = pd.Series(unknown_values.Value_List.values, index = unknown_values.Attribute).to_dict()"
   ]
  },
  {
   "cell_type": "code",
   "execution_count": 50,
   "metadata": {
    "scrolled": true
   },
   "outputs": [],
   "source": [
    "azdias_converted_nan = convert_unknown_to_nan(azdias, unknown_values_dict)\n",
    "customers_converted_nan = convert_unknown_to_nan(customers, unknown_values_dict)"
   ]
  },
  {
   "cell_type": "code",
   "execution_count": 51,
   "metadata": {
    "scrolled": true
   },
   "outputs": [],
   "source": [
    "#azdias_converted_nan.to_pickle('azdias_converted_nan.pickle')\n",
    "#customers_converted_nan.to_pickle('customers_converted_nan.pickle')\n",
    "#azdias_converted_nan = pd.read_pickle('azdias_converted_nan.pickle')\n",
    "#customers_converted_nan = pd.read_pickle('customers_converted_nan.pickle')"
   ]
  },
  {
   "cell_type": "markdown",
   "metadata": {},
   "source": [
    "### Analyzing missing data in columns"
   ]
  },
  {
   "cell_type": "markdown",
   "metadata": {},
   "source": [
    "We have to analyze the amount of missing data to decied which columns to keep. Those columns/features that have a lot of missing data will be dropped.\n",
    "\n",
    "Calculating percentage of missing values in columns:"
   ]
  },
  {
   "cell_type": "code",
   "execution_count": 52,
   "metadata": {
    "scrolled": true
   },
   "outputs": [],
   "source": [
    "azdias_column_null_percent = azdias_converted_nan.isnull().mean() * 100"
   ]
  },
  {
   "cell_type": "markdown",
   "metadata": {},
   "source": [
    "Plotting the percent of missing values in columns:"
   ]
  },
  {
   "cell_type": "code",
   "execution_count": 53,
   "metadata": {
    "scrolled": true
   },
   "outputs": [
    {
     "data": {
      "text/plain": [
       "Text(0.5, 1.0, 'Analyzing missing data in columns')"
      ]
     },
     "execution_count": 53,
     "metadata": {},
     "output_type": "execute_result"
    },
    {
     "data": {
      "image/png": "[encoded data removed]",
      "text/plain": [
       "<Figure size 1152x648 with 1 Axes>"
      ]
     },
     "metadata": {
      "needs_background": "light"
     },
     "output_type": "display_data"
    }
   ],
   "source": [
    "azdias_column_null_percent.sort_values(ascending = False).head(50).plot.bar(figsize = (16, 9))\n",
    "plt.ylabel('Percent of missing values')\n",
    "plt.xlabel('Columns')\n",
    "plt.title('Analyzing missing data in columns')"
   ]
  },
  {
   "cell_type": "code",
   "execution_count": 54,
   "metadata": {
    "scrolled": true
   },
   "outputs": [],
   "source": [
    "more_than_20 = len(azdias_column_null_percent[azdias_column_null_percent > 20])\n",
    "more_than_30 = len(azdias_column_null_percent[azdias_column_null_percent > 30])\n",
    "more_than_50 = len(azdias_column_null_percent[azdias_column_null_percent > 50])"
   ]
  },
  {
   "cell_type": "code",
   "execution_count": 55,
   "metadata": {
    "scrolled": false
   },
   "outputs": [
    {
     "name": "stdout",
     "output_type": "stream",
     "text": [
      "There are 29 columns with more than 50% of missing values, 34 columns with more than 30% of missing values and 44 columns with more than 20% of missing values.\n"
     ]
    }
   ],
   "source": [
    "print(\"There are {} columns with more than 50% of missing values, {} columns with more than 30%\"\\\n",
    "      \" of missing values and {} columns with more than 20% of missing values.\"\\\n",
    "      .format(more_than_50, more_than_30, more_than_20))"
   ]
  },
  {
   "cell_type": "code",
   "execution_count": 56,
   "metadata": {
    "scrolled": true
   },
   "outputs": [
    {
     "name": "stdout",
     "output_type": "stream",
     "text": [
      "We will drop all columns that have more than 50% of missing data: ['LNR', 'EINGEFUEGT_AM', 'AGER_TYP', 'ALTER_KIND1', 'ALTER_KIND2', 'ALTER_KIND3', 'ALTER_KIND4', 'D19_BANKEN_ANZ_12', 'D19_BANKEN_ANZ_24', 'D19_BANKEN_DATUM', 'D19_BANKEN_OFFLINE_DATUM', 'D19_BANKEN_ONLINE_DATUM', 'D19_GESAMT_ANZ_12', 'D19_GESAMT_ANZ_24', 'D19_GESAMT_OFFLINE_DATUM', 'D19_GESAMT_ONLINE_DATUM', 'D19_TELKO_ANZ_12', 'D19_TELKO_ANZ_24', 'D19_TELKO_DATUM', 'D19_TELKO_OFFLINE_DATUM', 'D19_TELKO_ONLINE_DATUM', 'D19_VERSAND_ANZ_12', 'D19_VERSAND_ANZ_24', 'D19_VERSAND_OFFLINE_DATUM', 'D19_VERSAND_ONLINE_DATUM', 'D19_VERSI_ANZ_12', 'D19_VERSI_ANZ_24', 'EXTSEL992', 'KBA05_BAUMAX', 'KK_KUNDENTYP', 'TITEL_KZ']\n"
     ]
    }
   ],
   "source": [
    "columns_to_drop = ['LNR', 'EINGEFUEGT_AM']\n",
    "columns_to_drop = columns_to_drop + list(azdias_column_null_percent[azdias_column_null_percent > 50].index)\n",
    "print(\"We will drop all columns that have more than 50% of missing data: {}\".format(columns_to_drop))"
   ]
  },
  {
   "cell_type": "code",
   "execution_count": 57,
   "metadata": {
    "scrolled": true
   },
   "outputs": [
    {
     "name": "stdout",
     "output_type": "stream",
     "text": [
      "We will drop 31 columns : ['LNR', 'EINGEFUEGT_AM', 'AGER_TYP', 'ALTER_KIND1', 'ALTER_KIND2', 'ALTER_KIND3', 'ALTER_KIND4', 'D19_BANKEN_ANZ_12', 'D19_BANKEN_ANZ_24', 'D19_BANKEN_DATUM', 'D19_BANKEN_OFFLINE_DATUM', 'D19_BANKEN_ONLINE_DATUM', 'D19_GESAMT_ANZ_12', 'D19_GESAMT_ANZ_24', 'D19_GESAMT_OFFLINE_DATUM', 'D19_GESAMT_ONLINE_DATUM', 'D19_TELKO_ANZ_12', 'D19_TELKO_ANZ_24', 'D19_TELKO_DATUM', 'D19_TELKO_OFFLINE_DATUM', 'D19_TELKO_ONLINE_DATUM', 'D19_VERSAND_ANZ_12', 'D19_VERSAND_ANZ_24', 'D19_VERSAND_OFFLINE_DATUM', 'D19_VERSAND_ONLINE_DATUM', 'D19_VERSI_ANZ_12', 'D19_VERSI_ANZ_24', 'EXTSEL992', 'KBA05_BAUMAX', 'KK_KUNDENTYP', 'TITEL_KZ']\n"
     ]
    }
   ],
   "source": [
    "print(\"We will drop {} columns : {}\".format(len(columns_to_drop), columns_to_drop))"
   ]
  },
  {
   "cell_type": "markdown",
   "metadata": {},
   "source": [
    "We have decided to drop all column which have more than 50% of missing data."
   ]
  },
  {
   "cell_type": "markdown",
   "metadata": {},
   "source": [
    "### Analyzing missing data in rows"
   ]
  },
  {
   "cell_type": "markdown",
   "metadata": {},
   "source": [
    "We have to perform similar analysis of missing values in rows also."
   ]
  },
  {
   "cell_type": "code",
   "execution_count": 58,
   "metadata": {
    "scrolled": true
   },
   "outputs": [
    {
     "data": {
      "text/plain": [
       "count    891221.000000\n",
       "mean         59.112389\n",
       "std          78.129974\n",
       "min           3.000000\n",
       "25%          21.000000\n",
       "50%          29.000000\n",
       "75%          43.000000\n",
       "max         288.000000\n",
       "dtype: float64"
      ]
     },
     "execution_count": 58,
     "metadata": {},
     "output_type": "execute_result"
    }
   ],
   "source": [
    "number_of_nan_per_row = azdias_converted_nan.isnull().sum(axis=1)\n",
    "number_of_nan_per_row.describe()"
   ]
  },
  {
   "cell_type": "code",
   "execution_count": 59,
   "metadata": {
    "scrolled": true
   },
   "outputs": [
    {
     "data": {
      "image/png": "[encoded data removed]",
      "text/plain": [
       "<Figure size 1152x648 with 1 Axes>"
      ]
     },
     "metadata": {
      "needs_background": "light"
     },
     "output_type": "display_data"
    }
   ],
   "source": [
    "plt.figure(figsize=(16, 9))\n",
    "n = math.ceil((number_of_nan_per_row.max() - number_of_nan_per_row.min()))\n",
    "plt.hist(number_of_nan_per_row, bins = n)\n",
    "\n",
    "plt.xticks(np.arange(min(number_of_nan_per_row), max(number_of_nan_per_row), 10))\n",
    "plt.ylabel('Number of rows')\n",
    "plt.xlabel('Number of missing values')\n",
    "plt.title('Analysis number of missing values');"
   ]
  },
  {
   "cell_type": "markdown",
   "metadata": {},
   "source": [
    "Also it's worth to have a look at percentage of missing values in rows."
   ]
  },
  {
   "cell_type": "code",
   "execution_count": 60,
   "metadata": {
    "scrolled": false
   },
   "outputs": [
    {
     "data": {
      "text/plain": [
       "count    891221.000000\n",
       "mean         16.150926\n",
       "std          21.346987\n",
       "min           0.819672\n",
       "25%           5.737705\n",
       "50%           7.923497\n",
       "75%          11.748634\n",
       "max          78.688525\n",
       "dtype: float64"
      ]
     },
     "execution_count": 60,
     "metadata": {},
     "output_type": "execute_result"
    }
   ],
   "source": [
    "percent_of_nan_per_row = (number_of_nan_per_row / len(azdias_converted_nan.columns)) * 100\n",
    "percent_of_nan_per_row.describe()"
   ]
  },
  {
   "cell_type": "code",
   "execution_count": 61,
   "metadata": {
    "scrolled": true
   },
   "outputs": [
    {
     "data": {
      "text/plain": [
       "[<matplotlib.lines.Line2D at 0x7fef91d7bfd0>]"
      ]
     },
     "execution_count": 61,
     "metadata": {},
     "output_type": "execute_result"
    },
    {
     "data": {
      "image/png": "[encoded data removed]",
      "text/plain": [
       "<Figure size 864x432 with 1 Axes>"
      ]
     },
     "metadata": {
      "needs_background": "light"
     },
     "output_type": "display_data"
    }
   ],
   "source": [
    "x = percent_of_nan_per_row.value_counts().sort_index(ascending = False)\n",
    "plt.figure(figsize = (12, 6))\n",
    "plt.xticks(np.arange(0, 100, 5))\n",
    "plt.xlabel('Percent of missing values')\n",
    "plt.ylabel('Number of rows')\n",
    "plt.title('Analyzing percent of missing data')\n",
    "plt.plot(x)"
   ]
  },
  {
   "cell_type": "markdown",
   "metadata": {},
   "source": [
    "We can see that high number of row has a small percentage of missing values (< 30%). And a relatively small number of rows has a high percentage of missing values. We have decided to drop all rows with more than 30% of missing values."
   ]
  },
  {
   "cell_type": "code",
   "execution_count": 62,
   "metadata": {
    "scrolled": true
   },
   "outputs": [],
   "source": [
    "num_of_rows_to_drop = percent_of_nan_per_row[(percent_of_nan_per_row.values > 30)].count()"
   ]
  },
  {
   "cell_type": "code",
   "execution_count": 63,
   "metadata": {
    "scrolled": true
   },
   "outputs": [
    {
     "name": "stdout",
     "output_type": "stream",
     "text": [
      "We will drop 107503 rows which have more than 30% of missing values.\n"
     ]
    }
   ],
   "source": [
    "print(\"We will drop {} rows which have more than 30% of missing values.\".format(num_of_rows_to_drop))"
   ]
  },
  {
   "cell_type": "code",
   "execution_count": 64,
   "metadata": {
    "scrolled": false
   },
   "outputs": [
    {
     "data": {
      "text/plain": [
       "(783718, 335)"
      ]
     },
     "execution_count": 64,
     "metadata": {},
     "output_type": "execute_result"
    }
   ],
   "source": [
    "rows_to_drop = percent_of_nan_per_row[(percent_of_nan_per_row.values > 30)].index\n",
    "azdias_reduced = azdias.drop(columns = columns_to_drop, axis = 1)\n",
    "azdias_reduced = azdias_reduced.drop(rows_to_drop)\n",
    "azdias_reduced.shape"
   ]
  },
  {
   "cell_type": "code",
   "execution_count": 65,
   "metadata": {
    "scrolled": true
   },
   "outputs": [
    {
     "data": {
      "text/plain": [
       "(191652, 335)"
      ]
     },
     "execution_count": 65,
     "metadata": {},
     "output_type": "execute_result"
    }
   ],
   "source": [
    "customers_reduced = customers.drop(columns = customers_columns_difference + columns_to_drop, axis = 1)\n",
    "customers_reduced.shape"
   ]
  },
  {
   "cell_type": "code",
   "execution_count": 66,
   "metadata": {
    "scrolled": true
   },
   "outputs": [],
   "source": [
    "azdias_reduced.to_pickle('azdias_reducedn.pickle')\n",
    "customers_reduced.to_pickle('customers_reduced.pickle')\n",
    "#azdias_reduced = pd.read_pickle('azdias_reduced.pickle')\n",
    "#customers_reduced = pd.read_pickle('customers_reduced.pickle')"
   ]
  },
  {
   "cell_type": "markdown",
   "metadata": {},
   "source": [
    "### Feature engineering - imputing missing values"
   ]
  },
  {
   "cell_type": "markdown",
   "metadata": {},
   "source": [
    "A separate strategy will be used for each type of data when imputing missing values:\n",
    "\n",
    "- Nominal and binary features missing values will be replaced with the most frequent value of each feature.\n",
    "- Numerical features missing values will be replaced with the mean value of each feature.\n",
    "\n",
    "Nominal columns have been identified by analysing two documents describing features."
   ]
  },
  {
   "cell_type": "code",
   "execution_count": 67,
   "metadata": {
    "scrolled": true
   },
   "outputs": [],
   "source": [
    "nominal_columns = ['AGER_TYP', 'CAMEO_DEU_2015', 'CJT_GESAMTTYP', 'D19_KONSUMTYP', 'GEBAEUDETYP', 'GEBAEUDETYP_RASTER',\n",
    "                   'GFK_URLAUBERTYP', 'HEALTH_TYP', 'KBA05_MAXHERST', 'LP_FAMILIE_FEIN', 'LP_STATUS_FEIN', \n",
    "                   'NATIONALITAET_KZ', 'RETOURTYP_BK_S', 'SHOPPER_TYP', 'TITEL_KZ']"
   ]
  },
  {
   "cell_type": "markdown",
   "metadata": {},
   "source": [
    "### Identify categorical columns"
   ]
  },
  {
   "cell_type": "code",
   "execution_count": 68,
   "metadata": {
    "scrolled": true
   },
   "outputs": [
    {
     "name": "stdout",
     "output_type": "stream",
     "text": [
      "['GEBAEUDETYP_RASTER', 'GEBAEUDETYP', 'CAMEO_DEU_2015', 'D19_KONSUMTYP', 'LP_FAMILIE_FEIN', 'SHOPPER_TYP', 'RETOURTYP_BK_S', 'CJT_GESAMTTYP', 'KBA05_MAXHERST', 'GFK_URLAUBERTYP', 'LP_STATUS_FEIN', 'NATIONALITAET_KZ', 'HEALTH_TYP', 'OST_WEST_KZ', 'KONSUMZELLE', 'DSL_FLAG', 'UNGLEICHENN_FLAG', 'KBA05_SEG6', 'HH_DELTA_FLAG', 'VERS_TYP', 'SOHO_KZ', 'GREEN_AVANTGARDE', 'D19_LETZTER_KAUF_BRANCHE']\n"
     ]
    }
   ],
   "source": [
    "azdias_nominal, azdias_binary, azdias_object = prepare_categorical_to_process(azdias_reduced, \n",
    "                                                                              columns_to_drop,\n",
    "                                                                              nominal_columns)\n",
    "\n",
    "azdias_categorical = azdias_nominal + azdias_binary + azdias_object\n",
    "azdias_categorical = list(dict.fromkeys(azdias_categorical))\n",
    "print(azdias_categorical)"
   ]
  },
  {
   "cell_type": "code",
   "execution_count": 69,
   "metadata": {
    "scrolled": true
   },
   "outputs": [
    {
     "name": "stdout",
     "output_type": "stream",
     "text": [
      "['GEBAEUDETYP_RASTER', 'GEBAEUDETYP', 'CAMEO_DEU_2015', 'D19_KONSUMTYP', 'LP_FAMILIE_FEIN', 'SHOPPER_TYP', 'RETOURTYP_BK_S', 'CJT_GESAMTTYP', 'KBA05_MAXHERST', 'GFK_URLAUBERTYP', 'LP_STATUS_FEIN', 'NATIONALITAET_KZ', 'HEALTH_TYP', 'OST_WEST_KZ', 'KONSUMZELLE', 'DSL_FLAG', 'UNGLEICHENN_FLAG', 'KBA05_SEG6', 'HH_DELTA_FLAG', 'VERS_TYP', 'SOHO_KZ', 'GREEN_AVANTGARDE', 'D19_LETZTER_KAUF_BRANCHE']\n"
     ]
    }
   ],
   "source": [
    "customers_nominal, customers_binary, customers_object = prepare_categorical_to_process(customers_reduced, \n",
    "                                                                                      columns_to_drop,\n",
    "                                                                                      nominal_columns)\n",
    "\n",
    "customers_categorical = customers_nominal + customers_binary + customers_object\n",
    "customers_categorical = list(dict.fromkeys(customers_categorical))\n",
    "print(customers_categorical)"
   ]
  },
  {
   "cell_type": "markdown",
   "metadata": {},
   "source": [
    "### Identify numerical columns"
   ]
  },
  {
   "cell_type": "code",
   "execution_count": 70,
   "metadata": {
    "scrolled": false
   },
   "outputs": [],
   "source": [
    "azdias_numerical = prepare_numerical_to_process(azdias_reduced, azdias_categorical)\n",
    "customers_numerical = prepare_numerical_to_process(customers_reduced, customers_categorical)"
   ]
  },
  {
   "cell_type": "markdown",
   "metadata": {},
   "source": [
    "### Impute missing values and verify the data"
   ]
  },
  {
   "cell_type": "code",
   "execution_count": 71,
   "metadata": {
    "scrolled": true
   },
   "outputs": [
    {
     "data": {
      "text/plain": [
       "False"
      ]
     },
     "execution_count": 71,
     "metadata": {},
     "output_type": "execute_result"
    }
   ],
   "source": [
    "impute_missing_values(azdias_reduced, azdias_categorical, azdias_numerical)\n",
    "azdias_reduced.isnull().values.any()"
   ]
  },
  {
   "cell_type": "code",
   "execution_count": 72,
   "metadata": {
    "scrolled": true
   },
   "outputs": [
    {
     "data": {
      "text/plain": [
       "False"
      ]
     },
     "execution_count": 72,
     "metadata": {},
     "output_type": "execute_result"
    }
   ],
   "source": [
    "impute_missing_values(customers_reduced, customers_categorical, customers_numerical)\n",
    "customers_reduced.isnull().values.any()"
   ]
  },
  {
   "cell_type": "markdown",
   "metadata": {},
   "source": [
    "After imputation of data there are no more missing values in any of two datasets."
   ]
  },
  {
   "cell_type": "code",
   "execution_count": 73,
   "metadata": {
    "scrolled": true
   },
   "outputs": [],
   "source": [
    "azdias_reduced.to_pickle('azdias_reduced_nonulls.pickle')\n",
    "customers_reduced.to_pickle('customers_reduced_nonulls.pickle')"
   ]
  },
  {
   "cell_type": "markdown",
   "metadata": {},
   "source": [
    "### Skewness"
   ]
  },
  {
   "cell_type": "code",
   "execution_count": 74,
   "metadata": {
    "scrolled": true
   },
   "outputs": [
    {
     "data": {
      "text/plain": [
       "count    312.000000\n",
       "mean       0.462310\n",
       "std        2.121031\n",
       "min      -16.172385\n",
       "25%       -0.124203\n",
       "50%        0.014702\n",
       "75%        0.357270\n",
       "max       18.163506\n",
       "dtype: float64"
      ]
     },
     "execution_count": 74,
     "metadata": {},
     "output_type": "execute_result"
    }
   ],
   "source": [
    "az_skew = azdias_reduced[azdias_numerical].skew(axis = 0)\n",
    "az_skew.describe()"
   ]
  },
  {
   "cell_type": "code",
   "execution_count": 75,
   "metadata": {
    "scrolled": true
   },
   "outputs": [
    {
     "data": {
      "text/plain": [
       "ANZ_HAUSHALTE_AKTIV            8.773441\n",
       "ANZ_TITEL                     18.163506\n",
       "D19_DIGIT_SERV                 5.066238\n",
       "D19_VERSI_ONLINE_DATUM       -16.172385\n",
       "ANZ_HH_TITEL                  15.307129\n",
       "D19_VERSI_OFFLINE_DATUM       -8.602774\n",
       "ANZ_STATISTISCHE_HAUSHALTE     8.479949\n",
       "D19_BANKEN_LOKAL               7.440237\n",
       "dtype: float64"
      ]
     },
     "execution_count": 75,
     "metadata": {},
     "output_type": "execute_result"
    }
   ],
   "source": [
    "az_skew[abs(az_skew) > 5]"
   ]
  },
  {
   "cell_type": "code",
   "execution_count": 76,
   "metadata": {
    "scrolled": false
   },
   "outputs": [
    {
     "data": {
      "text/plain": [
       "10    776604\n",
       "9       2648\n",
       "8       1211\n",
       "7       1005\n",
       "5        952\n",
       "6        661\n",
       "4        282\n",
       "2        132\n",
       "3        124\n",
       "1         99\n",
       "Name: D19_VERSI_ONLINE_DATUM, dtype: int64"
      ]
     },
     "execution_count": 76,
     "metadata": {},
     "output_type": "execute_result"
    }
   ],
   "source": [
    "azdias_reduced['D19_VERSI_ONLINE_DATUM'].value_counts()"
   ]
  },
  {
   "cell_type": "code",
   "execution_count": 77,
   "metadata": {
    "scrolled": false
   },
   "outputs": [
    {
     "data": {
      "text/plain": [
       "0    767934\n",
       "7      8156\n",
       "3      3387\n",
       "6      3042\n",
       "5      1006\n",
       "2       114\n",
       "4        68\n",
       "1        11\n",
       "Name: D19_BANKEN_LOKAL, dtype: int64"
      ]
     },
     "execution_count": 77,
     "metadata": {},
     "output_type": "execute_result"
    }
   ],
   "source": [
    "azdias_reduced['D19_BANKEN_LOKAL'].value_counts()"
   ]
  },
  {
   "cell_type": "code",
   "execution_count": 78,
   "metadata": {
    "scrolled": true
   },
   "outputs": [],
   "source": [
    "hidden_missing_data = ['D19_DIGIT_SERV', 'D19_VERSI_OFFLINE_DATUM', 'D19_VERSI_ONLINE_DATUM', \n",
    "                       'D19_BANKEN_LOKAL', 'ANZ_TITEL', 'ANZ_HH_TITEL']"
   ]
  },
  {
   "cell_type": "code",
   "execution_count": 79,
   "metadata": {
    "scrolled": true
   },
   "outputs": [],
   "source": [
    "azdias_reduced = azdias_reduced.drop(columns = hidden_missing_data, axis = 1)\n",
    "customers_reduced = customers_reduced.drop(columns = hidden_missing_data, axis = 1)"
   ]
  },
  {
   "cell_type": "code",
   "execution_count": 80,
   "metadata": {
    "scrolled": true
   },
   "outputs": [
    {
     "name": "stdout",
     "output_type": "stream",
     "text": [
      "(783718, 329)\n",
      "(191652, 329)\n"
     ]
    }
   ],
   "source": [
    "print(azdias_reduced.shape)\n",
    "print(customers_reduced.shape)"
   ]
  },
  {
   "cell_type": "code",
   "execution_count": 81,
   "metadata": {
    "scrolled": true
   },
   "outputs": [],
   "source": [
    "azdias_numerical = list(set(azdias_numerical) - set(hidden_missing_data))"
   ]
  },
  {
   "cell_type": "code",
   "execution_count": 82,
   "metadata": {
    "scrolled": false
   },
   "outputs": [
    {
     "name": "stdout",
     "output_type": "stream",
     "text": [
      "The dataset Azdias has min skew of -2.41 and max skew of 8.77.\n",
      "The dataset Azdias has 77 columns with abs(skew) greater than 0.5.\n"
     ]
    }
   ],
   "source": [
    "report_skewness (azdias_reduced, azdias_numerical, 'Azdias')"
   ]
  },
  {
   "cell_type": "code",
   "execution_count": 83,
   "metadata": {
    "scrolled": true
   },
   "outputs": [],
   "source": [
    "customers_numerical = list(set(customers_numerical) - set(hidden_missing_data))"
   ]
  },
  {
   "cell_type": "code",
   "execution_count": 84,
   "metadata": {
    "scrolled": true
   },
   "outputs": [
    {
     "name": "stdout",
     "output_type": "stream",
     "text": [
      "The dataset Customers has min skew of -2.69 and max skew of 14.59.\n",
      "The dataset Customers has 115 columns with abs(skew) greater than 0.5.\n"
     ]
    }
   ],
   "source": [
    "report_skewness (customers_reduced, customers_numerical, 'Customers')"
   ]
  },
  {
   "cell_type": "markdown",
   "metadata": {},
   "source": [
    "### Encoding and scaling"
   ]
  },
  {
   "cell_type": "code",
   "execution_count": 85,
   "metadata": {
    "scrolled": true
   },
   "outputs": [],
   "source": [
    "azdias_encoded = pd.get_dummies(azdias_reduced, drop_first = True, columns = azdias_categorical)"
   ]
  },
  {
   "cell_type": "code",
   "execution_count": 86,
   "metadata": {
    "scrolled": false
   },
   "outputs": [
    {
     "data": {
      "text/html": [
       "<div>\n",
       "<style scoped>\n",
       "    .dataframe tbody tr th:only-of-type {\n",
       "        vertical-align: middle;\n",
       "    }\n",
       "\n",
       "    .dataframe tbody tr th {\n",
       "        vertical-align: top;\n",
       "    }\n",
       "\n",
       "    .dataframe thead th {\n",
       "        text-align: right;\n",
       "    }\n",
       "</style>\n",
       "<table border=\"1\" class=\"dataframe\">\n",
       "  <thead>\n",
       "    <tr style=\"text-align: right;\">\n",
       "      <th></th>\n",
       "      <th>AKT_DAT_KL</th>\n",
       "      <th>ALTER_HH</th>\n",
       "      <th>ALTERSKATEGORIE_FEIN</th>\n",
       "      <th>ANZ_HAUSHALTE_AKTIV</th>\n",
       "      <th>ANZ_KINDER</th>\n",
       "      <th>ANZ_PERSONEN</th>\n",
       "      <th>ANZ_STATISTISCHE_HAUSHALTE</th>\n",
       "      <th>ARBEIT</th>\n",
       "      <th>BALLRAUM</th>\n",
       "      <th>CAMEO_DEUG_2015</th>\n",
       "      <th>...</th>\n",
       "      <th>D19_LETZTER_KAUF_BRANCHE_D19_SONSTIGE</th>\n",
       "      <th>D19_LETZTER_KAUF_BRANCHE_D19_TECHNIK</th>\n",
       "      <th>D19_LETZTER_KAUF_BRANCHE_D19_TELKO_MOBILE</th>\n",
       "      <th>D19_LETZTER_KAUF_BRANCHE_D19_TELKO_REST</th>\n",
       "      <th>D19_LETZTER_KAUF_BRANCHE_D19_TIERARTIKEL</th>\n",
       "      <th>D19_LETZTER_KAUF_BRANCHE_D19_UNBEKANNT</th>\n",
       "      <th>D19_LETZTER_KAUF_BRANCHE_D19_VERSAND_REST</th>\n",
       "      <th>D19_LETZTER_KAUF_BRANCHE_D19_VERSICHERUNGEN</th>\n",
       "      <th>D19_LETZTER_KAUF_BRANCHE_D19_VOLLSORTIMENT</th>\n",
       "      <th>D19_LETZTER_KAUF_BRANCHE_D19_WEIN_FEINKOST</th>\n",
       "    </tr>\n",
       "  </thead>\n",
       "  <tbody>\n",
       "    <tr>\n",
       "      <th>1</th>\n",
       "      <td>9.0</td>\n",
       "      <td>3.0</td>\n",
       "      <td>21.0</td>\n",
       "      <td>11.0</td>\n",
       "      <td>0.0</td>\n",
       "      <td>2.0</td>\n",
       "      <td>12.0</td>\n",
       "      <td>3.0</td>\n",
       "      <td>6.0</td>\n",
       "      <td>8.0</td>\n",
       "      <td>...</td>\n",
       "      <td>0</td>\n",
       "      <td>0</td>\n",
       "      <td>0</td>\n",
       "      <td>0</td>\n",
       "      <td>0</td>\n",
       "      <td>1</td>\n",
       "      <td>0</td>\n",
       "      <td>0</td>\n",
       "      <td>0</td>\n",
       "      <td>0</td>\n",
       "    </tr>\n",
       "    <tr>\n",
       "      <th>2</th>\n",
       "      <td>9.0</td>\n",
       "      <td>17.0</td>\n",
       "      <td>17.0</td>\n",
       "      <td>10.0</td>\n",
       "      <td>0.0</td>\n",
       "      <td>1.0</td>\n",
       "      <td>7.0</td>\n",
       "      <td>3.0</td>\n",
       "      <td>2.0</td>\n",
       "      <td>4.0</td>\n",
       "      <td>...</td>\n",
       "      <td>0</td>\n",
       "      <td>0</td>\n",
       "      <td>0</td>\n",
       "      <td>0</td>\n",
       "      <td>0</td>\n",
       "      <td>1</td>\n",
       "      <td>0</td>\n",
       "      <td>0</td>\n",
       "      <td>0</td>\n",
       "      <td>0</td>\n",
       "    </tr>\n",
       "    <tr>\n",
       "      <th>3</th>\n",
       "      <td>1.0</td>\n",
       "      <td>13.0</td>\n",
       "      <td>13.0</td>\n",
       "      <td>1.0</td>\n",
       "      <td>0.0</td>\n",
       "      <td>0.0</td>\n",
       "      <td>2.0</td>\n",
       "      <td>2.0</td>\n",
       "      <td>4.0</td>\n",
       "      <td>2.0</td>\n",
       "      <td>...</td>\n",
       "      <td>0</td>\n",
       "      <td>0</td>\n",
       "      <td>0</td>\n",
       "      <td>0</td>\n",
       "      <td>0</td>\n",
       "      <td>1</td>\n",
       "      <td>0</td>\n",
       "      <td>0</td>\n",
       "      <td>0</td>\n",
       "      <td>0</td>\n",
       "    </tr>\n",
       "    <tr>\n",
       "      <th>4</th>\n",
       "      <td>1.0</td>\n",
       "      <td>20.0</td>\n",
       "      <td>14.0</td>\n",
       "      <td>3.0</td>\n",
       "      <td>0.0</td>\n",
       "      <td>4.0</td>\n",
       "      <td>3.0</td>\n",
       "      <td>4.0</td>\n",
       "      <td>2.0</td>\n",
       "      <td>6.0</td>\n",
       "      <td>...</td>\n",
       "      <td>0</td>\n",
       "      <td>0</td>\n",
       "      <td>0</td>\n",
       "      <td>0</td>\n",
       "      <td>0</td>\n",
       "      <td>0</td>\n",
       "      <td>0</td>\n",
       "      <td>0</td>\n",
       "      <td>0</td>\n",
       "      <td>0</td>\n",
       "    </tr>\n",
       "    <tr>\n",
       "      <th>5</th>\n",
       "      <td>1.0</td>\n",
       "      <td>10.0</td>\n",
       "      <td>10.0</td>\n",
       "      <td>5.0</td>\n",
       "      <td>0.0</td>\n",
       "      <td>1.0</td>\n",
       "      <td>2.0</td>\n",
       "      <td>2.0</td>\n",
       "      <td>6.0</td>\n",
       "      <td>8.0</td>\n",
       "      <td>...</td>\n",
       "      <td>0</td>\n",
       "      <td>0</td>\n",
       "      <td>0</td>\n",
       "      <td>0</td>\n",
       "      <td>0</td>\n",
       "      <td>0</td>\n",
       "      <td>0</td>\n",
       "      <td>0</td>\n",
       "      <td>0</td>\n",
       "      <td>0</td>\n",
       "    </tr>\n",
       "  </tbody>\n",
       "</table>\n",
       "<p>5 rows × 459 columns</p>\n",
       "</div>"
      ],
      "text/plain": [
       "   AKT_DAT_KL  ALTER_HH  ALTERSKATEGORIE_FEIN  ANZ_HAUSHALTE_AKTIV  \\\n",
       "1         9.0       3.0                  21.0                 11.0   \n",
       "2         9.0      17.0                  17.0                 10.0   \n",
       "3         1.0      13.0                  13.0                  1.0   \n",
       "4         1.0      20.0                  14.0                  3.0   \n",
       "5         1.0      10.0                  10.0                  5.0   \n",
       "\n",
       "   ANZ_KINDER  ANZ_PERSONEN  ANZ_STATISTISCHE_HAUSHALTE  ARBEIT  BALLRAUM  \\\n",
       "1         0.0           2.0                        12.0     3.0       6.0   \n",
       "2         0.0           1.0                         7.0     3.0       2.0   \n",
       "3         0.0           0.0                         2.0     2.0       4.0   \n",
       "4         0.0           4.0                         3.0     4.0       2.0   \n",
       "5         0.0           1.0                         2.0     2.0       6.0   \n",
       "\n",
       "   CAMEO_DEUG_2015  ...  D19_LETZTER_KAUF_BRANCHE_D19_SONSTIGE  \\\n",
       "1              8.0  ...                                      0   \n",
       "2              4.0  ...                                      0   \n",
       "3              2.0  ...                                      0   \n",
       "4              6.0  ...                                      0   \n",
       "5              8.0  ...                                      0   \n",
       "\n",
       "   D19_LETZTER_KAUF_BRANCHE_D19_TECHNIK  \\\n",
       "1                                     0   \n",
       "2                                     0   \n",
       "3                                     0   \n",
       "4                                     0   \n",
       "5                                     0   \n",
       "\n",
       "   D19_LETZTER_KAUF_BRANCHE_D19_TELKO_MOBILE  \\\n",
       "1                                          0   \n",
       "2                                          0   \n",
       "3                                          0   \n",
       "4                                          0   \n",
       "5                                          0   \n",
       "\n",
       "   D19_LETZTER_KAUF_BRANCHE_D19_TELKO_REST  \\\n",
       "1                                        0   \n",
       "2                                        0   \n",
       "3                                        0   \n",
       "4                                        0   \n",
       "5                                        0   \n",
       "\n",
       "   D19_LETZTER_KAUF_BRANCHE_D19_TIERARTIKEL  \\\n",
       "1                                         0   \n",
       "2                                         0   \n",
       "3                                         0   \n",
       "4                                         0   \n",
       "5                                         0   \n",
       "\n",
       "   D19_LETZTER_KAUF_BRANCHE_D19_UNBEKANNT  \\\n",
       "1                                       1   \n",
       "2                                       1   \n",
       "3                                       1   \n",
       "4                                       0   \n",
       "5                                       0   \n",
       "\n",
       "   D19_LETZTER_KAUF_BRANCHE_D19_VERSAND_REST  \\\n",
       "1                                          0   \n",
       "2                                          0   \n",
       "3                                          0   \n",
       "4                                          0   \n",
       "5                                          0   \n",
       "\n",
       "   D19_LETZTER_KAUF_BRANCHE_D19_VERSICHERUNGEN  \\\n",
       "1                                            0   \n",
       "2                                            0   \n",
       "3                                            0   \n",
       "4                                            0   \n",
       "5                                            0   \n",
       "\n",
       "   D19_LETZTER_KAUF_BRANCHE_D19_VOLLSORTIMENT  \\\n",
       "1                                           0   \n",
       "2                                           0   \n",
       "3                                           0   \n",
       "4                                           0   \n",
       "5                                           0   \n",
       "\n",
       "   D19_LETZTER_KAUF_BRANCHE_D19_WEIN_FEINKOST  \n",
       "1                                           0  \n",
       "2                                           0  \n",
       "3                                           0  \n",
       "4                                           0  \n",
       "5                                           0  \n",
       "\n",
       "[5 rows x 459 columns]"
      ]
     },
     "execution_count": 86,
     "metadata": {},
     "output_type": "execute_result"
    }
   ],
   "source": [
    "azdias_encoded.head()"
   ]
  },
  {
   "cell_type": "code",
   "execution_count": 87,
   "metadata": {
    "scrolled": true
   },
   "outputs": [],
   "source": [
    "customers_encoded = pd.get_dummies(customers_reduced, drop_first = True, columns = customers_categorical)"
   ]
  },
  {
   "cell_type": "code",
   "execution_count": 88,
   "metadata": {
    "scrolled": true
   },
   "outputs": [
    {
     "data": {
      "text/html": [
       "<div>\n",
       "<style scoped>\n",
       "    .dataframe tbody tr th:only-of-type {\n",
       "        vertical-align: middle;\n",
       "    }\n",
       "\n",
       "    .dataframe tbody tr th {\n",
       "        vertical-align: top;\n",
       "    }\n",
       "\n",
       "    .dataframe thead th {\n",
       "        text-align: right;\n",
       "    }\n",
       "</style>\n",
       "<table border=\"1\" class=\"dataframe\">\n",
       "  <thead>\n",
       "    <tr style=\"text-align: right;\">\n",
       "      <th></th>\n",
       "      <th>AKT_DAT_KL</th>\n",
       "      <th>ALTER_HH</th>\n",
       "      <th>ALTERSKATEGORIE_FEIN</th>\n",
       "      <th>ANZ_HAUSHALTE_AKTIV</th>\n",
       "      <th>ANZ_KINDER</th>\n",
       "      <th>ANZ_PERSONEN</th>\n",
       "      <th>ANZ_STATISTISCHE_HAUSHALTE</th>\n",
       "      <th>ARBEIT</th>\n",
       "      <th>BALLRAUM</th>\n",
       "      <th>CAMEO_DEUG_2015</th>\n",
       "      <th>...</th>\n",
       "      <th>D19_LETZTER_KAUF_BRANCHE_D19_SONSTIGE</th>\n",
       "      <th>D19_LETZTER_KAUF_BRANCHE_D19_TECHNIK</th>\n",
       "      <th>D19_LETZTER_KAUF_BRANCHE_D19_TELKO_MOBILE</th>\n",
       "      <th>D19_LETZTER_KAUF_BRANCHE_D19_TELKO_REST</th>\n",
       "      <th>D19_LETZTER_KAUF_BRANCHE_D19_TIERARTIKEL</th>\n",
       "      <th>D19_LETZTER_KAUF_BRANCHE_D19_UNBEKANNT</th>\n",
       "      <th>D19_LETZTER_KAUF_BRANCHE_D19_VERSAND_REST</th>\n",
       "      <th>D19_LETZTER_KAUF_BRANCHE_D19_VERSICHERUNGEN</th>\n",
       "      <th>D19_LETZTER_KAUF_BRANCHE_D19_VOLLSORTIMENT</th>\n",
       "      <th>D19_LETZTER_KAUF_BRANCHE_D19_WEIN_FEINKOST</th>\n",
       "    </tr>\n",
       "  </thead>\n",
       "  <tbody>\n",
       "    <tr>\n",
       "      <th>0</th>\n",
       "      <td>1.0</td>\n",
       "      <td>10.0</td>\n",
       "      <td>10.0</td>\n",
       "      <td>1.0</td>\n",
       "      <td>0.0</td>\n",
       "      <td>2.0</td>\n",
       "      <td>1.0</td>\n",
       "      <td>1.0</td>\n",
       "      <td>3.0</td>\n",
       "      <td>1.0</td>\n",
       "      <td>...</td>\n",
       "      <td>0</td>\n",
       "      <td>0</td>\n",
       "      <td>0</td>\n",
       "      <td>0</td>\n",
       "      <td>0</td>\n",
       "      <td>1</td>\n",
       "      <td>0</td>\n",
       "      <td>0</td>\n",
       "      <td>0</td>\n",
       "      <td>0</td>\n",
       "    </tr>\n",
       "    <tr>\n",
       "      <th>1</th>\n",
       "      <td>9.0</td>\n",
       "      <td>11.0</td>\n",
       "      <td>1.0</td>\n",
       "      <td>1.0</td>\n",
       "      <td>0.0</td>\n",
       "      <td>3.0</td>\n",
       "      <td>1.0</td>\n",
       "      <td>1.0</td>\n",
       "      <td>1.0</td>\n",
       "      <td>1.0</td>\n",
       "      <td>...</td>\n",
       "      <td>0</td>\n",
       "      <td>0</td>\n",
       "      <td>0</td>\n",
       "      <td>0</td>\n",
       "      <td>0</td>\n",
       "      <td>0</td>\n",
       "      <td>0</td>\n",
       "      <td>0</td>\n",
       "      <td>0</td>\n",
       "      <td>0</td>\n",
       "    </tr>\n",
       "    <tr>\n",
       "      <th>2</th>\n",
       "      <td>1.0</td>\n",
       "      <td>6.0</td>\n",
       "      <td>0.0</td>\n",
       "      <td>1.0</td>\n",
       "      <td>0.0</td>\n",
       "      <td>1.0</td>\n",
       "      <td>1.0</td>\n",
       "      <td>3.0</td>\n",
       "      <td>7.0</td>\n",
       "      <td>5.0</td>\n",
       "      <td>...</td>\n",
       "      <td>0</td>\n",
       "      <td>0</td>\n",
       "      <td>0</td>\n",
       "      <td>0</td>\n",
       "      <td>0</td>\n",
       "      <td>1</td>\n",
       "      <td>0</td>\n",
       "      <td>0</td>\n",
       "      <td>0</td>\n",
       "      <td>0</td>\n",
       "    </tr>\n",
       "    <tr>\n",
       "      <th>3</th>\n",
       "      <td>1.0</td>\n",
       "      <td>8.0</td>\n",
       "      <td>8.0</td>\n",
       "      <td>0.0</td>\n",
       "      <td>0.0</td>\n",
       "      <td>0.0</td>\n",
       "      <td>1.0</td>\n",
       "      <td>1.0</td>\n",
       "      <td>7.0</td>\n",
       "      <td>4.0</td>\n",
       "      <td>...</td>\n",
       "      <td>0</td>\n",
       "      <td>0</td>\n",
       "      <td>0</td>\n",
       "      <td>0</td>\n",
       "      <td>0</td>\n",
       "      <td>0</td>\n",
       "      <td>0</td>\n",
       "      <td>0</td>\n",
       "      <td>0</td>\n",
       "      <td>0</td>\n",
       "    </tr>\n",
       "    <tr>\n",
       "      <th>4</th>\n",
       "      <td>1.0</td>\n",
       "      <td>20.0</td>\n",
       "      <td>14.0</td>\n",
       "      <td>7.0</td>\n",
       "      <td>0.0</td>\n",
       "      <td>4.0</td>\n",
       "      <td>7.0</td>\n",
       "      <td>3.0</td>\n",
       "      <td>3.0</td>\n",
       "      <td>7.0</td>\n",
       "      <td>...</td>\n",
       "      <td>0</td>\n",
       "      <td>0</td>\n",
       "      <td>0</td>\n",
       "      <td>0</td>\n",
       "      <td>0</td>\n",
       "      <td>0</td>\n",
       "      <td>0</td>\n",
       "      <td>0</td>\n",
       "      <td>0</td>\n",
       "      <td>0</td>\n",
       "    </tr>\n",
       "  </tbody>\n",
       "</table>\n",
       "<p>5 rows × 458 columns</p>\n",
       "</div>"
      ],
      "text/plain": [
       "   AKT_DAT_KL  ALTER_HH  ALTERSKATEGORIE_FEIN  ANZ_HAUSHALTE_AKTIV  \\\n",
       "0         1.0      10.0                  10.0                  1.0   \n",
       "1         9.0      11.0                   1.0                  1.0   \n",
       "2         1.0       6.0                   0.0                  1.0   \n",
       "3         1.0       8.0                   8.0                  0.0   \n",
       "4         1.0      20.0                  14.0                  7.0   \n",
       "\n",
       "   ANZ_KINDER  ANZ_PERSONEN  ANZ_STATISTISCHE_HAUSHALTE  ARBEIT  BALLRAUM  \\\n",
       "0         0.0           2.0                         1.0     1.0       3.0   \n",
       "1         0.0           3.0                         1.0     1.0       1.0   \n",
       "2         0.0           1.0                         1.0     3.0       7.0   \n",
       "3         0.0           0.0                         1.0     1.0       7.0   \n",
       "4         0.0           4.0                         7.0     3.0       3.0   \n",
       "\n",
       "   CAMEO_DEUG_2015  ...  D19_LETZTER_KAUF_BRANCHE_D19_SONSTIGE  \\\n",
       "0              1.0  ...                                      0   \n",
       "1              1.0  ...                                      0   \n",
       "2              5.0  ...                                      0   \n",
       "3              4.0  ...                                      0   \n",
       "4              7.0  ...                                      0   \n",
       "\n",
       "   D19_LETZTER_KAUF_BRANCHE_D19_TECHNIK  \\\n",
       "0                                     0   \n",
       "1                                     0   \n",
       "2                                     0   \n",
       "3                                     0   \n",
       "4                                     0   \n",
       "\n",
       "   D19_LETZTER_KAUF_BRANCHE_D19_TELKO_MOBILE  \\\n",
       "0                                          0   \n",
       "1                                          0   \n",
       "2                                          0   \n",
       "3                                          0   \n",
       "4                                          0   \n",
       "\n",
       "   D19_LETZTER_KAUF_BRANCHE_D19_TELKO_REST  \\\n",
       "0                                        0   \n",
       "1                                        0   \n",
       "2                                        0   \n",
       "3                                        0   \n",
       "4                                        0   \n",
       "\n",
       "   D19_LETZTER_KAUF_BRANCHE_D19_TIERARTIKEL  \\\n",
       "0                                         0   \n",
       "1                                         0   \n",
       "2                                         0   \n",
       "3                                         0   \n",
       "4                                         0   \n",
       "\n",
       "   D19_LETZTER_KAUF_BRANCHE_D19_UNBEKANNT  \\\n",
       "0                                       1   \n",
       "1                                       0   \n",
       "2                                       1   \n",
       "3                                       0   \n",
       "4                                       0   \n",
       "\n",
       "   D19_LETZTER_KAUF_BRANCHE_D19_VERSAND_REST  \\\n",
       "0                                          0   \n",
       "1                                          0   \n",
       "2                                          0   \n",
       "3                                          0   \n",
       "4                                          0   \n",
       "\n",
       "   D19_LETZTER_KAUF_BRANCHE_D19_VERSICHERUNGEN  \\\n",
       "0                                            0   \n",
       "1                                            0   \n",
       "2                                            0   \n",
       "3                                            0   \n",
       "4                                            0   \n",
       "\n",
       "   D19_LETZTER_KAUF_BRANCHE_D19_VOLLSORTIMENT  \\\n",
       "0                                           0   \n",
       "1                                           0   \n",
       "2                                           0   \n",
       "3                                           0   \n",
       "4                                           0   \n",
       "\n",
       "   D19_LETZTER_KAUF_BRANCHE_D19_WEIN_FEINKOST  \n",
       "0                                           0  \n",
       "1                                           0  \n",
       "2                                           0  \n",
       "3                                           0  \n",
       "4                                           0  \n",
       "\n",
       "[5 rows x 458 columns]"
      ]
     },
     "execution_count": 88,
     "metadata": {},
     "output_type": "execute_result"
    }
   ],
   "source": [
    "customers_encoded.head()"
   ]
  },
  {
   "cell_type": "code",
   "execution_count": 89,
   "metadata": {
    "scrolled": true
   },
   "outputs": [
    {
     "data": {
      "text/plain": [
       "['GEBAEUDETYP_5.0']"
      ]
     },
     "execution_count": 89,
     "metadata": {},
     "output_type": "execute_result"
    }
   ],
   "source": [
    "#list(azdias_encoded.columns.symmetric_difference(cusomers_encoded.columns))\n",
    "list(customers_encoded.columns.symmetric_difference(azdias_encoded.columns))"
   ]
  },
  {
   "cell_type": "markdown",
   "metadata": {},
   "source": [
    "### Log Transform"
   ]
  },
  {
   "cell_type": "code",
   "execution_count": 90,
   "metadata": {
    "scrolled": true
   },
   "outputs": [],
   "source": [
    "azdias_log_transformed = log_transform_skewed_data_frame(azdias_encoded)"
   ]
  },
  {
   "cell_type": "code",
   "execution_count": 91,
   "metadata": {
    "scrolled": true
   },
   "outputs": [],
   "source": [
    "customers_log_transformed = log_transform_skewed_data_frame(customers_encoded)"
   ]
  },
  {
   "cell_type": "markdown",
   "metadata": {},
   "source": [
    "### Standardize and scale the data"
   ]
  },
  {
   "cell_type": "code",
   "execution_count": 92,
   "metadata": {
    "scrolled": true
   },
   "outputs": [],
   "source": [
    "scaler = StandardScaler()\n",
    "azdias_scaled = scaler.fit_transform(azdias_log_transformed)\n",
    "customers_scaled = scaler.fit_transform(customers_log_transformed)\n",
    "azdias_scaled_df = pd.DataFrame(azdias_scaled, columns = azdias_encoded.columns)\n",
    "customers_scaled_df = pd.DataFrame(customers_scaled, columns = customers_encoded.columns)"
   ]
  },
  {
   "cell_type": "code",
   "execution_count": 93,
   "metadata": {
    "scrolled": true
   },
   "outputs": [],
   "source": [
    "azdias_scaled_df.to_pickle('azdias_scaled_df.pickle')\n",
    "customers_scaled_df.to_pickle('customers_scaled_df.pickle')\n",
    "#azdias_scaled_df = pd.read_pickle('azdias_scaled_df.pickle')\n",
    "#customers_scaled_df = pd.read_pickle('customers_scaled_df.pickle')"
   ]
  },
  {
   "cell_type": "code",
   "execution_count": 94,
   "metadata": {
    "scrolled": false
   },
   "outputs": [
    {
     "data": {
      "text/html": [
       "<div>\n",
       "<style scoped>\n",
       "    .dataframe tbody tr th:only-of-type {\n",
       "        vertical-align: middle;\n",
       "    }\n",
       "\n",
       "    .dataframe tbody tr th {\n",
       "        vertical-align: top;\n",
       "    }\n",
       "\n",
       "    .dataframe thead th {\n",
       "        text-align: right;\n",
       "    }\n",
       "</style>\n",
       "<table border=\"1\" class=\"dataframe\">\n",
       "  <thead>\n",
       "    <tr style=\"text-align: right;\">\n",
       "      <th></th>\n",
       "      <th>AKT_DAT_KL</th>\n",
       "      <th>ALTER_HH</th>\n",
       "      <th>ALTERSKATEGORIE_FEIN</th>\n",
       "      <th>ANZ_HAUSHALTE_AKTIV</th>\n",
       "      <th>ANZ_KINDER</th>\n",
       "      <th>ANZ_PERSONEN</th>\n",
       "      <th>ANZ_STATISTISCHE_HAUSHALTE</th>\n",
       "      <th>ARBEIT</th>\n",
       "      <th>BALLRAUM</th>\n",
       "      <th>CAMEO_DEUG_2015</th>\n",
       "      <th>...</th>\n",
       "      <th>D19_LETZTER_KAUF_BRANCHE_D19_SONSTIGE</th>\n",
       "      <th>D19_LETZTER_KAUF_BRANCHE_D19_TECHNIK</th>\n",
       "      <th>D19_LETZTER_KAUF_BRANCHE_D19_TELKO_MOBILE</th>\n",
       "      <th>D19_LETZTER_KAUF_BRANCHE_D19_TELKO_REST</th>\n",
       "      <th>D19_LETZTER_KAUF_BRANCHE_D19_TIERARTIKEL</th>\n",
       "      <th>D19_LETZTER_KAUF_BRANCHE_D19_UNBEKANNT</th>\n",
       "      <th>D19_LETZTER_KAUF_BRANCHE_D19_VERSAND_REST</th>\n",
       "      <th>D19_LETZTER_KAUF_BRANCHE_D19_VERSICHERUNGEN</th>\n",
       "      <th>D19_LETZTER_KAUF_BRANCHE_D19_VOLLSORTIMENT</th>\n",
       "      <th>D19_LETZTER_KAUF_BRANCHE_D19_WEIN_FEINKOST</th>\n",
       "    </tr>\n",
       "  </thead>\n",
       "  <tbody>\n",
       "    <tr>\n",
       "      <th>0</th>\n",
       "      <td>1.183713</td>\n",
       "      <td>-1.488153</td>\n",
       "      <td>1.021944</td>\n",
       "      <td>0.839492</td>\n",
       "      <td>-0.330091</td>\n",
       "      <td>0.440393</td>\n",
       "      <td>1.022170</td>\n",
       "      <td>-0.027727</td>\n",
       "      <td>0.829075</td>\n",
       "      <td>0.913425</td>\n",
       "      <td>...</td>\n",
       "      <td>-0.241061</td>\n",
       "      <td>-0.093068</td>\n",
       "      <td>-0.134383</td>\n",
       "      <td>-0.119648</td>\n",
       "      <td>-0.056331</td>\n",
       "      <td>1.080259</td>\n",
       "      <td>-0.181743</td>\n",
       "      <td>-0.276466</td>\n",
       "      <td>-0.211166</td>\n",
       "      <td>-0.051673</td>\n",
       "    </tr>\n",
       "    <tr>\n",
       "      <th>1</th>\n",
       "      <td>1.183713</td>\n",
       "      <td>0.795244</td>\n",
       "      <td>0.769475</td>\n",
       "      <td>0.744970</td>\n",
       "      <td>-0.330091</td>\n",
       "      <td>-0.613679</td>\n",
       "      <td>0.475323</td>\n",
       "      <td>-0.027727</td>\n",
       "      <td>-0.841754</td>\n",
       "      <td>-0.391245</td>\n",
       "      <td>...</td>\n",
       "      <td>-0.241061</td>\n",
       "      <td>-0.093068</td>\n",
       "      <td>-0.134383</td>\n",
       "      <td>-0.119648</td>\n",
       "      <td>-0.056331</td>\n",
       "      <td>1.080259</td>\n",
       "      <td>-0.181743</td>\n",
       "      <td>-0.276466</td>\n",
       "      <td>-0.211166</td>\n",
       "      <td>-0.051673</td>\n",
       "    </tr>\n",
       "    <tr>\n",
       "      <th>2</th>\n",
       "      <td>-0.984153</td>\n",
       "      <td>0.413714</td>\n",
       "      <td>0.453290</td>\n",
       "      <td>-1.106941</td>\n",
       "      <td>-0.330091</td>\n",
       "      <td>-2.415627</td>\n",
       "      <td>-0.629424</td>\n",
       "      <td>-1.079838</td>\n",
       "      <td>0.165568</td>\n",
       "      <td>-1.525090</td>\n",
       "      <td>...</td>\n",
       "      <td>-0.241061</td>\n",
       "      <td>-0.093068</td>\n",
       "      <td>-0.134383</td>\n",
       "      <td>-0.119648</td>\n",
       "      <td>-0.056331</td>\n",
       "      <td>1.080259</td>\n",
       "      <td>-0.181743</td>\n",
       "      <td>-0.276466</td>\n",
       "      <td>-0.211166</td>\n",
       "      <td>-0.051673</td>\n",
       "    </tr>\n",
       "    <tr>\n",
       "      <th>3</th>\n",
       "      <td>-0.984153</td>\n",
       "      <td>1.029266</td>\n",
       "      <td>0.540092</td>\n",
       "      <td>-0.353958</td>\n",
       "      <td>-0.330091</td>\n",
       "      <td>1.768368</td>\n",
       "      <td>-0.305396</td>\n",
       "      <td>0.788354</td>\n",
       "      <td>-0.841754</td>\n",
       "      <td>0.355599</td>\n",
       "      <td>...</td>\n",
       "      <td>-0.241061</td>\n",
       "      <td>-0.093068</td>\n",
       "      <td>-0.134383</td>\n",
       "      <td>-0.119648</td>\n",
       "      <td>-0.056331</td>\n",
       "      <td>-0.925704</td>\n",
       "      <td>-0.181743</td>\n",
       "      <td>-0.276466</td>\n",
       "      <td>-0.211166</td>\n",
       "      <td>-0.051673</td>\n",
       "    </tr>\n",
       "    <tr>\n",
       "      <th>4</th>\n",
       "      <td>-0.984153</td>\n",
       "      <td>0.047597</td>\n",
       "      <td>0.149878</td>\n",
       "      <td>0.086509</td>\n",
       "      <td>-0.330091</td>\n",
       "      <td>-0.613679</td>\n",
       "      <td>-0.629424</td>\n",
       "      <td>-1.079838</td>\n",
       "      <td>0.829075</td>\n",
       "      <td>0.913425</td>\n",
       "      <td>...</td>\n",
       "      <td>-0.241061</td>\n",
       "      <td>-0.093068</td>\n",
       "      <td>-0.134383</td>\n",
       "      <td>-0.119648</td>\n",
       "      <td>-0.056331</td>\n",
       "      <td>-0.925704</td>\n",
       "      <td>-0.181743</td>\n",
       "      <td>-0.276466</td>\n",
       "      <td>-0.211166</td>\n",
       "      <td>-0.051673</td>\n",
       "    </tr>\n",
       "  </tbody>\n",
       "</table>\n",
       "<p>5 rows × 459 columns</p>\n",
       "</div>"
      ],
      "text/plain": [
       "   AKT_DAT_KL  ALTER_HH  ALTERSKATEGORIE_FEIN  ANZ_HAUSHALTE_AKTIV  \\\n",
       "0    1.183713 -1.488153              1.021944             0.839492   \n",
       "1    1.183713  0.795244              0.769475             0.744970   \n",
       "2   -0.984153  0.413714              0.453290            -1.106941   \n",
       "3   -0.984153  1.029266              0.540092            -0.353958   \n",
       "4   -0.984153  0.047597              0.149878             0.086509   \n",
       "\n",
       "   ANZ_KINDER  ANZ_PERSONEN  ANZ_STATISTISCHE_HAUSHALTE    ARBEIT  BALLRAUM  \\\n",
       "0   -0.330091      0.440393                    1.022170 -0.027727  0.829075   \n",
       "1   -0.330091     -0.613679                    0.475323 -0.027727 -0.841754   \n",
       "2   -0.330091     -2.415627                   -0.629424 -1.079838  0.165568   \n",
       "3   -0.330091      1.768368                   -0.305396  0.788354 -0.841754   \n",
       "4   -0.330091     -0.613679                   -0.629424 -1.079838  0.829075   \n",
       "\n",
       "   CAMEO_DEUG_2015  ...  D19_LETZTER_KAUF_BRANCHE_D19_SONSTIGE  \\\n",
       "0         0.913425  ...                              -0.241061   \n",
       "1        -0.391245  ...                              -0.241061   \n",
       "2        -1.525090  ...                              -0.241061   \n",
       "3         0.355599  ...                              -0.241061   \n",
       "4         0.913425  ...                              -0.241061   \n",
       "\n",
       "   D19_LETZTER_KAUF_BRANCHE_D19_TECHNIK  \\\n",
       "0                             -0.093068   \n",
       "1                             -0.093068   \n",
       "2                             -0.093068   \n",
       "3                             -0.093068   \n",
       "4                             -0.093068   \n",
       "\n",
       "   D19_LETZTER_KAUF_BRANCHE_D19_TELKO_MOBILE  \\\n",
       "0                                  -0.134383   \n",
       "1                                  -0.134383   \n",
       "2                                  -0.134383   \n",
       "3                                  -0.134383   \n",
       "4                                  -0.134383   \n",
       "\n",
       "   D19_LETZTER_KAUF_BRANCHE_D19_TELKO_REST  \\\n",
       "0                                -0.119648   \n",
       "1                                -0.119648   \n",
       "2                                -0.119648   \n",
       "3                                -0.119648   \n",
       "4                                -0.119648   \n",
       "\n",
       "   D19_LETZTER_KAUF_BRANCHE_D19_TIERARTIKEL  \\\n",
       "0                                 -0.056331   \n",
       "1                                 -0.056331   \n",
       "2                                 -0.056331   \n",
       "3                                 -0.056331   \n",
       "4                                 -0.056331   \n",
       "\n",
       "   D19_LETZTER_KAUF_BRANCHE_D19_UNBEKANNT  \\\n",
       "0                                1.080259   \n",
       "1                                1.080259   \n",
       "2                                1.080259   \n",
       "3                               -0.925704   \n",
       "4                               -0.925704   \n",
       "\n",
       "   D19_LETZTER_KAUF_BRANCHE_D19_VERSAND_REST  \\\n",
       "0                                  -0.181743   \n",
       "1                                  -0.181743   \n",
       "2                                  -0.181743   \n",
       "3                                  -0.181743   \n",
       "4                                  -0.181743   \n",
       "\n",
       "   D19_LETZTER_KAUF_BRANCHE_D19_VERSICHERUNGEN  \\\n",
       "0                                    -0.276466   \n",
       "1                                    -0.276466   \n",
       "2                                    -0.276466   \n",
       "3                                    -0.276466   \n",
       "4                                    -0.276466   \n",
       "\n",
       "   D19_LETZTER_KAUF_BRANCHE_D19_VOLLSORTIMENT  \\\n",
       "0                                   -0.211166   \n",
       "1                                   -0.211166   \n",
       "2                                   -0.211166   \n",
       "3                                   -0.211166   \n",
       "4                                   -0.211166   \n",
       "\n",
       "   D19_LETZTER_KAUF_BRANCHE_D19_WEIN_FEINKOST  \n",
       "0                                   -0.051673  \n",
       "1                                   -0.051673  \n",
       "2                                   -0.051673  \n",
       "3                                   -0.051673  \n",
       "4                                   -0.051673  \n",
       "\n",
       "[5 rows x 459 columns]"
      ]
     },
     "execution_count": 94,
     "metadata": {},
     "output_type": "execute_result"
    }
   ],
   "source": [
    "azdias_scaled_df.head()"
   ]
  },
  {
   "cell_type": "code",
   "execution_count": 95,
   "metadata": {
    "scrolled": true
   },
   "outputs": [
    {
     "data": {
      "text/html": [
       "<div>\n",
       "<style scoped>\n",
       "    .dataframe tbody tr th:only-of-type {\n",
       "        vertical-align: middle;\n",
       "    }\n",
       "\n",
       "    .dataframe tbody tr th {\n",
       "        vertical-align: top;\n",
       "    }\n",
       "\n",
       "    .dataframe thead th {\n",
       "        text-align: right;\n",
       "    }\n",
       "</style>\n",
       "<table border=\"1\" class=\"dataframe\">\n",
       "  <thead>\n",
       "    <tr style=\"text-align: right;\">\n",
       "      <th></th>\n",
       "      <th>AKT_DAT_KL</th>\n",
       "      <th>ALTER_HH</th>\n",
       "      <th>ALTERSKATEGORIE_FEIN</th>\n",
       "      <th>ANZ_HAUSHALTE_AKTIV</th>\n",
       "      <th>ANZ_KINDER</th>\n",
       "      <th>ANZ_PERSONEN</th>\n",
       "      <th>ANZ_STATISTISCHE_HAUSHALTE</th>\n",
       "      <th>ARBEIT</th>\n",
       "      <th>BALLRAUM</th>\n",
       "      <th>CAMEO_DEUG_2015</th>\n",
       "      <th>...</th>\n",
       "      <th>D19_LETZTER_KAUF_BRANCHE_D19_SONSTIGE</th>\n",
       "      <th>D19_LETZTER_KAUF_BRANCHE_D19_TECHNIK</th>\n",
       "      <th>D19_LETZTER_KAUF_BRANCHE_D19_TELKO_MOBILE</th>\n",
       "      <th>D19_LETZTER_KAUF_BRANCHE_D19_TELKO_REST</th>\n",
       "      <th>D19_LETZTER_KAUF_BRANCHE_D19_TIERARTIKEL</th>\n",
       "      <th>D19_LETZTER_KAUF_BRANCHE_D19_UNBEKANNT</th>\n",
       "      <th>D19_LETZTER_KAUF_BRANCHE_D19_VERSAND_REST</th>\n",
       "      <th>D19_LETZTER_KAUF_BRANCHE_D19_VERSICHERUNGEN</th>\n",
       "      <th>D19_LETZTER_KAUF_BRANCHE_D19_VOLLSORTIMENT</th>\n",
       "      <th>D19_LETZTER_KAUF_BRANCHE_D19_WEIN_FEINKOST</th>\n",
       "    </tr>\n",
       "  </thead>\n",
       "  <tbody>\n",
       "    <tr>\n",
       "      <th>0</th>\n",
       "      <td>-0.354525</td>\n",
       "      <td>0.490480</td>\n",
       "      <td>0.590889</td>\n",
       "      <td>-0.531376</td>\n",
       "      <td>-0.651088</td>\n",
       "      <td>0.246443</td>\n",
       "      <td>-0.522401</td>\n",
       "      <td>-1.218439</td>\n",
       "      <td>0.085130</td>\n",
       "      <td>-1.133726</td>\n",
       "      <td>...</td>\n",
       "      <td>-0.286522</td>\n",
       "      <td>-0.098349</td>\n",
       "      <td>-0.106038</td>\n",
       "      <td>-0.110285</td>\n",
       "      <td>-0.042466</td>\n",
       "      <td>1.186371</td>\n",
       "      <td>-0.138732</td>\n",
       "      <td>-0.241166</td>\n",
       "      <td>-0.217371</td>\n",
       "      <td>-0.08652</td>\n",
       "    </tr>\n",
       "    <tr>\n",
       "      <th>1</th>\n",
       "      <td>3.765911</td>\n",
       "      <td>0.581375</td>\n",
       "      <td>-1.248577</td>\n",
       "      <td>-0.531376</td>\n",
       "      <td>-0.651088</td>\n",
       "      <td>0.935701</td>\n",
       "      <td>-0.522401</td>\n",
       "      <td>-1.218439</td>\n",
       "      <td>-1.141667</td>\n",
       "      <td>-1.133726</td>\n",
       "      <td>...</td>\n",
       "      <td>-0.286522</td>\n",
       "      <td>-0.098349</td>\n",
       "      <td>-0.106038</td>\n",
       "      <td>-0.110285</td>\n",
       "      <td>-0.042466</td>\n",
       "      <td>-0.842906</td>\n",
       "      <td>-0.138732</td>\n",
       "      <td>-0.241166</td>\n",
       "      <td>-0.217371</td>\n",
       "      <td>-0.08652</td>\n",
       "    </tr>\n",
       "    <tr>\n",
       "      <th>2</th>\n",
       "      <td>-0.354525</td>\n",
       "      <td>0.018317</td>\n",
       "      <td>-1.996501</td>\n",
       "      <td>-0.531376</td>\n",
       "      <td>-0.651088</td>\n",
       "      <td>-0.725013</td>\n",
       "      <td>-0.522401</td>\n",
       "      <td>0.665905</td>\n",
       "      <td>1.311928</td>\n",
       "      <td>0.802246</td>\n",
       "      <td>...</td>\n",
       "      <td>-0.286522</td>\n",
       "      <td>-0.098349</td>\n",
       "      <td>-0.106038</td>\n",
       "      <td>-0.110285</td>\n",
       "      <td>-0.042466</td>\n",
       "      <td>1.186371</td>\n",
       "      <td>-0.138732</td>\n",
       "      <td>-0.241166</td>\n",
       "      <td>-0.217371</td>\n",
       "      <td>-0.08652</td>\n",
       "    </tr>\n",
       "    <tr>\n",
       "      <th>3</th>\n",
       "      <td>-0.354525</td>\n",
       "      <td>0.280851</td>\n",
       "      <td>0.374360</td>\n",
       "      <td>-1.458244</td>\n",
       "      <td>-0.651088</td>\n",
       "      <td>-2.385726</td>\n",
       "      <td>-0.522401</td>\n",
       "      <td>-1.218439</td>\n",
       "      <td>1.311928</td>\n",
       "      <td>0.480959</td>\n",
       "      <td>...</td>\n",
       "      <td>-0.286522</td>\n",
       "      <td>-0.098349</td>\n",
       "      <td>-0.106038</td>\n",
       "      <td>-0.110285</td>\n",
       "      <td>-0.042466</td>\n",
       "      <td>-0.842906</td>\n",
       "      <td>-0.138732</td>\n",
       "      <td>-0.241166</td>\n",
       "      <td>-0.217371</td>\n",
       "      <td>-0.08652</td>\n",
       "    </tr>\n",
       "    <tr>\n",
       "      <th>4</th>\n",
       "      <td>-0.354525</td>\n",
       "      <td>1.165973</td>\n",
       "      <td>0.925554</td>\n",
       "      <td>1.322362</td>\n",
       "      <td>-0.651088</td>\n",
       "      <td>1.470331</td>\n",
       "      <td>1.401933</td>\n",
       "      <td>0.665905</td>\n",
       "      <td>0.085130</td>\n",
       "      <td>1.309199</td>\n",
       "      <td>...</td>\n",
       "      <td>-0.286522</td>\n",
       "      <td>-0.098349</td>\n",
       "      <td>-0.106038</td>\n",
       "      <td>-0.110285</td>\n",
       "      <td>-0.042466</td>\n",
       "      <td>-0.842906</td>\n",
       "      <td>-0.138732</td>\n",
       "      <td>-0.241166</td>\n",
       "      <td>-0.217371</td>\n",
       "      <td>-0.08652</td>\n",
       "    </tr>\n",
       "  </tbody>\n",
       "</table>\n",
       "<p>5 rows × 458 columns</p>\n",
       "</div>"
      ],
      "text/plain": [
       "   AKT_DAT_KL  ALTER_HH  ALTERSKATEGORIE_FEIN  ANZ_HAUSHALTE_AKTIV  \\\n",
       "0   -0.354525  0.490480              0.590889            -0.531376   \n",
       "1    3.765911  0.581375             -1.248577            -0.531376   \n",
       "2   -0.354525  0.018317             -1.996501            -0.531376   \n",
       "3   -0.354525  0.280851              0.374360            -1.458244   \n",
       "4   -0.354525  1.165973              0.925554             1.322362   \n",
       "\n",
       "   ANZ_KINDER  ANZ_PERSONEN  ANZ_STATISTISCHE_HAUSHALTE    ARBEIT  BALLRAUM  \\\n",
       "0   -0.651088      0.246443                   -0.522401 -1.218439  0.085130   \n",
       "1   -0.651088      0.935701                   -0.522401 -1.218439 -1.141667   \n",
       "2   -0.651088     -0.725013                   -0.522401  0.665905  1.311928   \n",
       "3   -0.651088     -2.385726                   -0.522401 -1.218439  1.311928   \n",
       "4   -0.651088      1.470331                    1.401933  0.665905  0.085130   \n",
       "\n",
       "   CAMEO_DEUG_2015  ...  D19_LETZTER_KAUF_BRANCHE_D19_SONSTIGE  \\\n",
       "0        -1.133726  ...                              -0.286522   \n",
       "1        -1.133726  ...                              -0.286522   \n",
       "2         0.802246  ...                              -0.286522   \n",
       "3         0.480959  ...                              -0.286522   \n",
       "4         1.309199  ...                              -0.286522   \n",
       "\n",
       "   D19_LETZTER_KAUF_BRANCHE_D19_TECHNIK  \\\n",
       "0                             -0.098349   \n",
       "1                             -0.098349   \n",
       "2                             -0.098349   \n",
       "3                             -0.098349   \n",
       "4                             -0.098349   \n",
       "\n",
       "   D19_LETZTER_KAUF_BRANCHE_D19_TELKO_MOBILE  \\\n",
       "0                                  -0.106038   \n",
       "1                                  -0.106038   \n",
       "2                                  -0.106038   \n",
       "3                                  -0.106038   \n",
       "4                                  -0.106038   \n",
       "\n",
       "   D19_LETZTER_KAUF_BRANCHE_D19_TELKO_REST  \\\n",
       "0                                -0.110285   \n",
       "1                                -0.110285   \n",
       "2                                -0.110285   \n",
       "3                                -0.110285   \n",
       "4                                -0.110285   \n",
       "\n",
       "   D19_LETZTER_KAUF_BRANCHE_D19_TIERARTIKEL  \\\n",
       "0                                 -0.042466   \n",
       "1                                 -0.042466   \n",
       "2                                 -0.042466   \n",
       "3                                 -0.042466   \n",
       "4                                 -0.042466   \n",
       "\n",
       "   D19_LETZTER_KAUF_BRANCHE_D19_UNBEKANNT  \\\n",
       "0                                1.186371   \n",
       "1                               -0.842906   \n",
       "2                                1.186371   \n",
       "3                               -0.842906   \n",
       "4                               -0.842906   \n",
       "\n",
       "   D19_LETZTER_KAUF_BRANCHE_D19_VERSAND_REST  \\\n",
       "0                                  -0.138732   \n",
       "1                                  -0.138732   \n",
       "2                                  -0.138732   \n",
       "3                                  -0.138732   \n",
       "4                                  -0.138732   \n",
       "\n",
       "   D19_LETZTER_KAUF_BRANCHE_D19_VERSICHERUNGEN  \\\n",
       "0                                    -0.241166   \n",
       "1                                    -0.241166   \n",
       "2                                    -0.241166   \n",
       "3                                    -0.241166   \n",
       "4                                    -0.241166   \n",
       "\n",
       "   D19_LETZTER_KAUF_BRANCHE_D19_VOLLSORTIMENT  \\\n",
       "0                                   -0.217371   \n",
       "1                                   -0.217371   \n",
       "2                                   -0.217371   \n",
       "3                                   -0.217371   \n",
       "4                                   -0.217371   \n",
       "\n",
       "   D19_LETZTER_KAUF_BRANCHE_D19_WEIN_FEINKOST  \n",
       "0                                    -0.08652  \n",
       "1                                    -0.08652  \n",
       "2                                    -0.08652  \n",
       "3                                    -0.08652  \n",
       "4                                    -0.08652  \n",
       "\n",
       "[5 rows x 458 columns]"
      ]
     },
     "execution_count": 95,
     "metadata": {},
     "output_type": "execute_result"
    }
   ],
   "source": [
    "customers_scaled_df.head()"
   ]
  },
  {
   "cell_type": "markdown",
   "metadata": {},
   "source": [
    "## Part 1: Customer Segmentation Report\n",
    "\n",
    "The main bulk of your analysis will come in this part of the project. Here, you should use unsupervised learning techniques to describe the relationship between the demographics of the company's existing customers and the general population of Germany. By the end of this part, you should be able to describe parts of the general population that are more likely to be part of the mail-order company's main customer base, and which parts of the general population are less so."
   ]
  },
  {
   "cell_type": "markdown",
   "metadata": {},
   "source": [
    "### Dimensionality reduction"
   ]
  },
  {
   "cell_type": "code",
   "execution_count": 96,
   "metadata": {
    "scrolled": true
   },
   "outputs": [],
   "source": [
    "from sklearn.decomposition import PCA"
   ]
  },
  {
   "cell_type": "code",
   "execution_count": 97,
   "metadata": {
    "scrolled": true
   },
   "outputs": [],
   "source": [
    "pca = PCA().fit(azdias_scaled_df)"
   ]
  },
  {
   "cell_type": "code",
   "execution_count": 98,
   "metadata": {
    "scrolled": false
   },
   "outputs": [
    {
     "data": {
      "text/plain": [
       "[<matplotlib.lines.Line2D at 0x7fed81c6b750>]"
      ]
     },
     "execution_count": 98,
     "metadata": {},
     "output_type": "execute_result"
    },
    {
     "data": {
      "image/png": "[encoded data removed]",
      "text/plain": [
       "<Figure size 1152x648 with 1 Axes>"
      ]
     },
     "metadata": {
      "needs_background": "light"
     },
     "output_type": "display_data"
    }
   ],
   "source": [
    "plt.figure(figsize = (16, 9))\n",
    "plt.xlabel('Number of components')\n",
    "plt.ylabel('Cumulative explained variance');\n",
    "plt.yticks(np.arange(0, 1.1, 0.05))\n",
    "plt.xticks(np.arange(0, 500, 50))\n",
    "plt.axhline(y = 0.8, color = 'r', linestyle = '-')\n",
    "plt.plot(np.cumsum(pca.explained_variance_ratio_))"
   ]
  },
  {
   "cell_type": "code",
   "execution_count": 99,
   "metadata": {
    "scrolled": true
   },
   "outputs": [],
   "source": [
    "azdias_pca = PCA(n_components = .8).fit(azdias_scaled_df)"
   ]
  },
  {
   "cell_type": "code",
   "execution_count": 100,
   "metadata": {
    "scrolled": true
   },
   "outputs": [
    {
     "data": {
      "text/plain": [
       "(783718, 199)"
      ]
     },
     "execution_count": 100,
     "metadata": {},
     "output_type": "execute_result"
    }
   ],
   "source": [
    "azdias_pca_df = pd.DataFrame(azdias_pca.transform(azdias_scaled_df))\n",
    "azdias_pca_df = azdias_pca_df.add_prefix('PC')\n",
    "azdias_pca_df.shape"
   ]
  },
  {
   "cell_type": "code",
   "execution_count": 101,
   "metadata": {
    "scrolled": true
   },
   "outputs": [
    {
     "data": {
      "text/html": [
       "<div>\n",
       "<style scoped>\n",
       "    .dataframe tbody tr th:only-of-type {\n",
       "        vertical-align: middle;\n",
       "    }\n",
       "\n",
       "    .dataframe tbody tr th {\n",
       "        vertical-align: top;\n",
       "    }\n",
       "\n",
       "    .dataframe thead th {\n",
       "        text-align: right;\n",
       "    }\n",
       "</style>\n",
       "<table border=\"1\" class=\"dataframe\">\n",
       "  <thead>\n",
       "    <tr style=\"text-align: right;\">\n",
       "      <th></th>\n",
       "      <th>PC0</th>\n",
       "      <th>PC1</th>\n",
       "      <th>PC2</th>\n",
       "      <th>PC3</th>\n",
       "      <th>PC4</th>\n",
       "      <th>PC5</th>\n",
       "      <th>PC6</th>\n",
       "      <th>PC7</th>\n",
       "      <th>PC8</th>\n",
       "      <th>PC9</th>\n",
       "      <th>...</th>\n",
       "      <th>PC189</th>\n",
       "      <th>PC190</th>\n",
       "      <th>PC191</th>\n",
       "      <th>PC192</th>\n",
       "      <th>PC193</th>\n",
       "      <th>PC194</th>\n",
       "      <th>PC195</th>\n",
       "      <th>PC196</th>\n",
       "      <th>PC197</th>\n",
       "      <th>PC198</th>\n",
       "    </tr>\n",
       "  </thead>\n",
       "  <tbody>\n",
       "    <tr>\n",
       "      <th>0</th>\n",
       "      <td>5.180082</td>\n",
       "      <td>4.175165</td>\n",
       "      <td>5.725139</td>\n",
       "      <td>-4.253344</td>\n",
       "      <td>0.064605</td>\n",
       "      <td>-2.030514</td>\n",
       "      <td>4.284673</td>\n",
       "      <td>-2.482100</td>\n",
       "      <td>-1.898158</td>\n",
       "      <td>1.337125</td>\n",
       "      <td>...</td>\n",
       "      <td>-2.293966</td>\n",
       "      <td>-0.666230</td>\n",
       "      <td>0.490447</td>\n",
       "      <td>0.479715</td>\n",
       "      <td>-0.413531</td>\n",
       "      <td>-0.448929</td>\n",
       "      <td>1.354440</td>\n",
       "      <td>-1.143302</td>\n",
       "      <td>0.334694</td>\n",
       "      <td>0.672738</td>\n",
       "    </tr>\n",
       "    <tr>\n",
       "      <th>1</th>\n",
       "      <td>-0.567736</td>\n",
       "      <td>2.391576</td>\n",
       "      <td>1.149684</td>\n",
       "      <td>-2.072202</td>\n",
       "      <td>4.005686</td>\n",
       "      <td>-4.095514</td>\n",
       "      <td>-4.767354</td>\n",
       "      <td>-2.180499</td>\n",
       "      <td>1.197083</td>\n",
       "      <td>-0.874037</td>\n",
       "      <td>...</td>\n",
       "      <td>0.608807</td>\n",
       "      <td>0.298037</td>\n",
       "      <td>-1.326184</td>\n",
       "      <td>-0.716530</td>\n",
       "      <td>0.078567</td>\n",
       "      <td>-0.198850</td>\n",
       "      <td>-0.273019</td>\n",
       "      <td>0.355905</td>\n",
       "      <td>-0.916766</td>\n",
       "      <td>0.293698</td>\n",
       "    </tr>\n",
       "    <tr>\n",
       "      <th>2</th>\n",
       "      <td>-5.471735</td>\n",
       "      <td>1.021422</td>\n",
       "      <td>-3.189485</td>\n",
       "      <td>-3.626945</td>\n",
       "      <td>-0.556297</td>\n",
       "      <td>-1.403706</td>\n",
       "      <td>1.606815</td>\n",
       "      <td>-0.188823</td>\n",
       "      <td>1.196153</td>\n",
       "      <td>-0.627186</td>\n",
       "      <td>...</td>\n",
       "      <td>-0.612579</td>\n",
       "      <td>1.130500</td>\n",
       "      <td>0.752524</td>\n",
       "      <td>-0.736349</td>\n",
       "      <td>0.499662</td>\n",
       "      <td>-0.332580</td>\n",
       "      <td>-0.949248</td>\n",
       "      <td>0.373634</td>\n",
       "      <td>-0.767270</td>\n",
       "      <td>-0.015723</td>\n",
       "    </tr>\n",
       "    <tr>\n",
       "      <th>3</th>\n",
       "      <td>-1.765155</td>\n",
       "      <td>1.590001</td>\n",
       "      <td>2.696561</td>\n",
       "      <td>5.170921</td>\n",
       "      <td>-2.404794</td>\n",
       "      <td>2.467033</td>\n",
       "      <td>-2.375770</td>\n",
       "      <td>0.062268</td>\n",
       "      <td>1.366010</td>\n",
       "      <td>-1.501177</td>\n",
       "      <td>...</td>\n",
       "      <td>0.232603</td>\n",
       "      <td>1.079244</td>\n",
       "      <td>-0.676011</td>\n",
       "      <td>-0.894092</td>\n",
       "      <td>0.339374</td>\n",
       "      <td>1.134731</td>\n",
       "      <td>-0.873142</td>\n",
       "      <td>0.540408</td>\n",
       "      <td>0.906200</td>\n",
       "      <td>0.663386</td>\n",
       "    </tr>\n",
       "    <tr>\n",
       "      <th>4</th>\n",
       "      <td>-2.694314</td>\n",
       "      <td>1.909560</td>\n",
       "      <td>-1.043844</td>\n",
       "      <td>-2.752621</td>\n",
       "      <td>1.098809</td>\n",
       "      <td>-0.118922</td>\n",
       "      <td>0.746305</td>\n",
       "      <td>-3.317361</td>\n",
       "      <td>0.110090</td>\n",
       "      <td>-2.148852</td>\n",
       "      <td>...</td>\n",
       "      <td>-0.702530</td>\n",
       "      <td>0.138523</td>\n",
       "      <td>0.266960</td>\n",
       "      <td>-0.555426</td>\n",
       "      <td>0.491346</td>\n",
       "      <td>-0.132139</td>\n",
       "      <td>0.859366</td>\n",
       "      <td>0.172717</td>\n",
       "      <td>0.184987</td>\n",
       "      <td>0.621299</td>\n",
       "    </tr>\n",
       "  </tbody>\n",
       "</table>\n",
       "<p>5 rows × 199 columns</p>\n",
       "</div>"
      ],
      "text/plain": [
       "        PC0       PC1       PC2       PC3       PC4       PC5       PC6  \\\n",
       "0  5.180082  4.175165  5.725139 -4.253344  0.064605 -2.030514  4.284673   \n",
       "1 -0.567736  2.391576  1.149684 -2.072202  4.005686 -4.095514 -4.767354   \n",
       "2 -5.471735  1.021422 -3.189485 -3.626945 -0.556297 -1.403706  1.606815   \n",
       "3 -1.765155  1.590001  2.696561  5.170921 -2.404794  2.467033 -2.375770   \n",
       "4 -2.694314  1.909560 -1.043844 -2.752621  1.098809 -0.118922  0.746305   \n",
       "\n",
       "        PC7       PC8       PC9  ...     PC189     PC190     PC191     PC192  \\\n",
       "0 -2.482100 -1.898158  1.337125  ... -2.293966 -0.666230  0.490447  0.479715   \n",
       "1 -2.180499  1.197083 -0.874037  ...  0.608807  0.298037 -1.326184 -0.716530   \n",
       "2 -0.188823  1.196153 -0.627186  ... -0.612579  1.130500  0.752524 -0.736349   \n",
       "3  0.062268  1.366010 -1.501177  ...  0.232603  1.079244 -0.676011 -0.894092   \n",
       "4 -3.317361  0.110090 -2.148852  ... -0.702530  0.138523  0.266960 -0.555426   \n",
       "\n",
       "      PC193     PC194     PC195     PC196     PC197     PC198  \n",
       "0 -0.413531 -0.448929  1.354440 -1.143302  0.334694  0.672738  \n",
       "1  0.078567 -0.198850 -0.273019  0.355905 -0.916766  0.293698  \n",
       "2  0.499662 -0.332580 -0.949248  0.373634 -0.767270 -0.015723  \n",
       "3  0.339374  1.134731 -0.873142  0.540408  0.906200  0.663386  \n",
       "4  0.491346 -0.132139  0.859366  0.172717  0.184987  0.621299  \n",
       "\n",
       "[5 rows x 199 columns]"
      ]
     },
     "execution_count": 101,
     "metadata": {},
     "output_type": "execute_result"
    }
   ],
   "source": [
    "azdias_pca_df.head()"
   ]
  },
  {
   "cell_type": "code",
   "execution_count": 102,
   "metadata": {
    "scrolled": true
   },
   "outputs": [],
   "source": [
    "top_10 = azdias_pca.explained_variance_ratio_[:10]"
   ]
  },
  {
   "cell_type": "code",
   "execution_count": 103,
   "metadata": {
    "scrolled": true
   },
   "outputs": [
    {
     "data": {
      "text/plain": [
       "0.2468398422559505"
      ]
     },
     "execution_count": 103,
     "metadata": {},
     "output_type": "execute_result"
    }
   ],
   "source": [
    "top_10.sum()"
   ]
  },
  {
   "cell_type": "code",
   "execution_count": 105,
   "metadata": {
    "scrolled": false
   },
   "outputs": [
    {
     "name": "stdout",
     "output_type": "stream",
     "text": [
      "10 components explains 25 % of variance.\n",
      "20 components explains 33 % of variance.\n",
      "30 components explains 38 % of variance.\n",
      "40 components explains 42 % of variance.\n",
      "50 components explains 46 % of variance.\n",
      "60 components explains 49 % of variance.\n",
      "70 components explains 52 % of variance.\n",
      "80 components explains 54 % of variance.\n",
      "90 components explains 57 % of variance.\n",
      "100 components explains 59 % of variance.\n",
      "110 components explains 61 % of variance.\n",
      "120 components explains 64 % of variance.\n",
      "130 components explains 66 % of variance.\n",
      "140 components explains 68 % of variance.\n",
      "150 components explains 70 % of variance.\n",
      "160 components explains 72 % of variance.\n",
      "170 components explains 75 % of variance.\n",
      "180 components explains 77 % of variance.\n",
      "190 components explains 78 % of variance.\n",
      "200 components explains 80 % of variance.\n"
     ]
    }
   ],
   "source": [
    "for n in np.arange(10, 210, 10):\n",
    "    print('{} components explains {} % of variance.'.format(n, round(azdias_pca.explained_variance_ratio_[:n].sum()*100)))"
   ]
  },
  {
   "cell_type": "markdown",
   "metadata": {},
   "source": [
    "### Interpreting principal components"
   ]
  },
  {
   "cell_type": "code",
   "execution_count": 106,
   "metadata": {
    "scrolled": false
   },
   "outputs": [
    {
     "data": {
      "image/png": "[encoded data removed]",
      "text/plain": [
       "<Figure size 432x288 with 1 Axes>"
      ]
     },
     "metadata": {
      "needs_background": "light"
     },
     "output_type": "display_data"
    },
    {
     "name": "stdout",
     "output_type": "stream",
     "text": [
      "      Weights                    Features  abs_weights\n",
      "261 -0.141702                  MOBI_REGIO     0.141702\n",
      "264 -0.139756                  PLZ8_ANTG1     0.139756\n",
      "140 -0.138562                 KBA13_ANTG1     0.138562\n",
      "79  -0.138167                 KBA05_ANTG1     0.138167\n",
      "3    0.137178         ANZ_HAUSHALTE_AKTIV     0.137178\n",
      "260 -0.136995                 MOBI_RASTER     0.136995\n",
      "147  0.135768                KBA13_BAUMAX     0.135768\n",
      "258 -0.135587              LP_STATUS_GROB     0.135587\n",
      "6    0.135585  ANZ_STATISTISCHE_HAUSHALTE     0.135585\n",
      "143  0.132346                 KBA13_ANTG4     0.132346\n"
     ]
    },
    {
     "data": {
      "image/png": "[encoded data removed]",
      "text/plain": [
       "<Figure size 432x288 with 1 Axes>"
      ]
     },
     "metadata": {
      "needs_background": "light"
     },
     "output_type": "display_data"
    },
    {
     "name": "stdout",
     "output_type": "stream",
     "text": [
      "      Weights                     Features  abs_weights\n",
      "186  0.186283         KBA13_HERST_BMW_BENZ     0.186283\n",
      "221  0.162965               KBA13_MERCEDES     0.162965\n",
      "235  0.161508  KBA13_SEG_OBEREMITTELKLASSE     0.161508\n",
      "154  0.155055                    KBA13_BMW     0.155055\n",
      "243 -0.154574                KBA13_SITZE_5     0.154574\n",
      "242  0.154284                KBA13_SITZE_4     0.154284\n",
      "230 -0.133110         KBA13_SEG_KLEINWAGEN     0.133110\n",
      "194 -0.130648            KBA13_KMH_140_210     0.130648\n",
      "174 -0.125622              KBA13_HALTER_25     0.125622\n",
      "91   0.120393                 KBA05_HERST1     0.120393\n"
     ]
    },
    {
     "data": {
      "image/png": "[encoded data removed]",
      "text/plain": [
       "<Figure size 432x288 with 1 Axes>"
      ]
     },
     "metadata": {
      "needs_background": "light"
     },
     "output_type": "display_data"
    },
    {
     "name": "stdout",
     "output_type": "stream",
     "text": [
      "      Weights                                Features  abs_weights\n",
      "298 -0.168647                              VK_DISTANZ     0.168647\n",
      "299 -0.162590                                 VK_ZG11     0.162590\n",
      "297 -0.159894                                VK_DHT4A     0.159894\n",
      "454 -0.158976  D19_LETZTER_KAUF_BRANCHE_D19_UNBEKANNT     0.158976\n",
      "364 -0.158011                       D19_KONSUMTYP_9.0     0.158011\n",
      "36  -0.151070                       D19_KONSUMTYP_MAX     0.151070\n",
      "49  -0.142279               D19_TELKO_ONLINE_QUOTE_12     0.142279\n",
      "56  -0.140681               D19_VERSI_ONLINE_QUOTE_12     0.140681\n",
      "257  0.124361                     LP_LEBENSPHASE_GROB     0.124361\n",
      "45   0.121776                            D19_SONSTIGE     0.121776\n"
     ]
    }
   ],
   "source": [
    "pca_list = [0, 1, 3]\n",
    "  \n",
    "for i in pca_list:\n",
    "    result_data = plot_component_weights_and_features(i, azdias_pca, azdias_encoded)\n",
    "    print(result_data)"
   ]
  },
  {
   "cell_type": "markdown",
   "metadata": {},
   "source": [
    "### Finding the optimal number of clusters"
   ]
  },
  {
   "cell_type": "code",
   "execution_count": 107,
   "metadata": {
    "scrolled": true
   },
   "outputs": [],
   "source": [
    "num_of_clusters = range(1, 31)\n",
    "sum_of_squared_distances = []\n",
    "\n",
    "for i in num_of_clusters:\n",
    "    kmeans = KMeans(n_clusters = i, init = 'k-means++', n_jobs = -1)\n",
    "    kmeans.fit(azdias_pca_df.sample(30000))\n",
    "    sum_of_squared_distances.append(kmeans.inertia_)"
   ]
  },
  {
   "cell_type": "code",
   "execution_count": 108,
   "metadata": {
    "scrolled": false
   },
   "outputs": [
    {
     "data": {
      "text/plain": [
       "[<matplotlib.lines.Line2D at 0x7fea501df850>]"
      ]
     },
     "execution_count": 108,
     "metadata": {},
     "output_type": "execute_result"
    },
    {
     "data": {
      "image/png": "[encoded data removed]",
      "text/plain": [
       "<Figure size 1152x648 with 1 Axes>"
      ]
     },
     "metadata": {
      "needs_background": "light"
     },
     "output_type": "display_data"
    }
   ],
   "source": [
    "plt.figure(figsize=(16, 9))\n",
    "plt.xlabel('Number of clusters')\n",
    "plt.ylabel('Sum of squared distances')\n",
    "plt.title('Elbow Method For Optimal k number')\n",
    "plt.xticks(list(range(1, 31)))\n",
    "plt.plot(num_of_clusters, sum_of_squared_distances, 'bx-')"
   ]
  },
  {
   "cell_type": "markdown",
   "metadata": {},
   "source": [
    "### Calculating population clusters"
   ]
  },
  {
   "cell_type": "code",
   "execution_count": 109,
   "metadata": {
    "scrolled": true
   },
   "outputs": [
    {
     "data": {
      "text/plain": [
       "array([6, 7, 2, 1, 0, 9, 5, 3, 4, 8], dtype=int32)"
      ]
     },
     "execution_count": 109,
     "metadata": {},
     "output_type": "execute_result"
    }
   ],
   "source": [
    "azdias_km = KMeans(n_clusters = 10, init = 'k-means++', n_jobs = -1).fit(azdias_pca_df)\n",
    "azdias_clusters = azdias_km.predict(azdias_pca_df)\n",
    "azdias_clusters_df = pd.DataFrame(azdias_clusters, columns = ['Cluster Number'])\n",
    "azdias_clusters_df['Cluster Number'].unique()"
   ]
  },
  {
   "cell_type": "code",
   "execution_count": 110,
   "metadata": {
    "scrolled": true
   },
   "outputs": [],
   "source": [
    "azdias_clusters_df.to_pickle('azdias_clusters_df')\n",
    "#azdias_clusters_df = pd.read_pickle('azdias_clusters_df')"
   ]
  },
  {
   "cell_type": "markdown",
   "metadata": {},
   "source": [
    "### Plotting the population clusters"
   ]
  },
  {
   "cell_type": "code",
   "execution_count": 271,
   "metadata": {
    "scrolled": false
   },
   "outputs": [
    {
     "data": {
      "text/plain": [
       "<AxesSubplot:title={'center':'Population clusters'}>"
      ]
     },
     "execution_count": 271,
     "metadata": {},
     "output_type": "execute_result"
    },
    {
     "data": {
      "image/png": "[encoded data removed]",
      "text/plain": [
       "<Figure size 864x432 with 1 Axes>"
      ]
     },
     "metadata": {
      "needs_background": "light"
     },
     "output_type": "display_data"
    }
   ],
   "source": [
    "azdias_cs = pd.Series(azdias_clusters, name = 'Azdias')\n",
    "azdias_cs_counts = azdias_cs.value_counts().sort_index()\n",
    "azdias_cs_df = pd.DataFrame(azdias_cs_counts)\n",
    "azdias_cs_df.plot(figsize = (12, 6), kind = 'bar', title = 'Population clusters')"
   ]
  },
  {
   "cell_type": "markdown",
   "metadata": {},
   "source": [
    "Most of the clusters in this data set are of the similar scale."
   ]
  },
  {
   "cell_type": "markdown",
   "metadata": {},
   "source": [
    "### Calculating customers clusters"
   ]
  },
  {
   "cell_type": "code",
   "execution_count": 112,
   "metadata": {
    "scrolled": true
   },
   "outputs": [],
   "source": [
    "customers_pca = PCA(n_components = .8).fit(customers_scaled_df)\n",
    "customers_pca_df = pd.DataFrame(customers_pca.transform(customers_scaled_df))\n",
    "customers_pca_df = customers_pca_df.add_prefix('PC')"
   ]
  },
  {
   "cell_type": "code",
   "execution_count": 113,
   "metadata": {
    "scrolled": true
   },
   "outputs": [],
   "source": [
    "customers_km = KMeans(n_clusters = 10, init = 'k-means++', n_jobs = -1).fit(customers_pca_df)"
   ]
  },
  {
   "cell_type": "code",
   "execution_count": 114,
   "metadata": {
    "scrolled": true
   },
   "outputs": [],
   "source": [
    "customers_clusters = customers_km.predict(customers_pca_df)\n",
    "customers_clusters_df = pd.DataFrame(customers_clusters, columns = ['Cluster Number'])"
   ]
  },
  {
   "cell_type": "code",
   "execution_count": 115,
   "metadata": {
    "scrolled": true
   },
   "outputs": [],
   "source": [
    "customers_clusters_df.to_pickle('customers_clusters_df')\n",
    "#customers_clusters_df = pd.read_pickle('customers_clusters_df')"
   ]
  },
  {
   "cell_type": "markdown",
   "metadata": {},
   "source": [
    "### Plotting customers clusters"
   ]
  },
  {
   "cell_type": "code",
   "execution_count": 272,
   "metadata": {
    "scrolled": false
   },
   "outputs": [
    {
     "data": {
      "text/plain": [
       "<AxesSubplot:title={'center':'Customers clusters'}>"
      ]
     },
     "execution_count": 272,
     "metadata": {},
     "output_type": "execute_result"
    },
    {
     "data": {
      "image/png": "[encoded data removed]",
      "text/plain": [
       "<Figure size 864x432 with 1 Axes>"
      ]
     },
     "metadata": {
      "needs_background": "light"
     },
     "output_type": "display_data"
    }
   ],
   "source": [
    "customers_cs = pd.Series(customers_clusters, name = 'Customers')\n",
    "customers_cs_counts = customers_cs.value_counts().sort_index()\n",
    "customers_cs_df = pd.DataFrame(customers_cs_counts)\n",
    "customers_cs_df.plot(figsize = (12, 6), kind = 'bar', title = 'Customers clusters')"
   ]
  },
  {
   "cell_type": "markdown",
   "metadata": {},
   "source": [
    "Ther are much bigger differences among clusters in the \"customer\" data set,"
   ]
  },
  {
   "cell_type": "markdown",
   "metadata": {},
   "source": [
    "### Joining customers and population clusters"
   ]
  },
  {
   "cell_type": "code",
   "execution_count": 137,
   "metadata": {
    "scrolled": false
   },
   "outputs": [
    {
     "data": {
      "text/html": [
       "<div>\n",
       "<style scoped>\n",
       "    .dataframe tbody tr th:only-of-type {\n",
       "        vertical-align: middle;\n",
       "    }\n",
       "\n",
       "    .dataframe tbody tr th {\n",
       "        vertical-align: top;\n",
       "    }\n",
       "\n",
       "    .dataframe thead th {\n",
       "        text-align: right;\n",
       "    }\n",
       "</style>\n",
       "<table border=\"1\" class=\"dataframe\">\n",
       "  <thead>\n",
       "    <tr style=\"text-align: right;\">\n",
       "      <th></th>\n",
       "      <th>Azdias</th>\n",
       "      <th>Customers</th>\n",
       "    </tr>\n",
       "  </thead>\n",
       "  <tbody>\n",
       "    <tr>\n",
       "      <th>0</th>\n",
       "      <td>58976</td>\n",
       "      <td>28738</td>\n",
       "    </tr>\n",
       "    <tr>\n",
       "      <th>1</th>\n",
       "      <td>109507</td>\n",
       "      <td>4681</td>\n",
       "    </tr>\n",
       "    <tr>\n",
       "      <th>2</th>\n",
       "      <td>108884</td>\n",
       "      <td>46601</td>\n",
       "    </tr>\n",
       "    <tr>\n",
       "      <th>3</th>\n",
       "      <td>77535</td>\n",
       "      <td>1636</td>\n",
       "    </tr>\n",
       "    <tr>\n",
       "      <th>4</th>\n",
       "      <td>50311</td>\n",
       "      <td>26921</td>\n",
       "    </tr>\n",
       "  </tbody>\n",
       "</table>\n",
       "</div>"
      ],
      "text/plain": [
       "   Azdias  Customers\n",
       "0   58976      28738\n",
       "1  109507       4681\n",
       "2  108884      46601\n",
       "3   77535       1636\n",
       "4   50311      26921"
      ]
     },
     "execution_count": 137,
     "metadata": {},
     "output_type": "execute_result"
    }
   ],
   "source": [
    "clusters_df = pd.concat([azdias_cs_df, customers_cs_df], axis = 1)\n",
    "clusters_df.head()"
   ]
  },
  {
   "cell_type": "code",
   "execution_count": 153,
   "metadata": {
    "scrolled": false
   },
   "outputs": [
    {
     "data": {
      "text/html": [
       "<div>\n",
       "<style scoped>\n",
       "    .dataframe tbody tr th:only-of-type {\n",
       "        vertical-align: middle;\n",
       "    }\n",
       "\n",
       "    .dataframe tbody tr th {\n",
       "        vertical-align: top;\n",
       "    }\n",
       "\n",
       "    .dataframe thead th {\n",
       "        text-align: right;\n",
       "    }\n",
       "</style>\n",
       "<table border=\"1\" class=\"dataframe\">\n",
       "  <thead>\n",
       "    <tr style=\"text-align: right;\">\n",
       "      <th></th>\n",
       "      <th>Azdias</th>\n",
       "      <th>Customers</th>\n",
       "      <th>Azdias share</th>\n",
       "      <th>Customers share</th>\n",
       "      <th>Ratio</th>\n",
       "    </tr>\n",
       "  </thead>\n",
       "  <tbody>\n",
       "    <tr>\n",
       "      <th>0</th>\n",
       "      <td>58976</td>\n",
       "      <td>28738</td>\n",
       "      <td>7.53</td>\n",
       "      <td>14.99</td>\n",
       "      <td>1.99</td>\n",
       "    </tr>\n",
       "    <tr>\n",
       "      <th>1</th>\n",
       "      <td>109507</td>\n",
       "      <td>4681</td>\n",
       "      <td>13.97</td>\n",
       "      <td>2.44</td>\n",
       "      <td>0.17</td>\n",
       "    </tr>\n",
       "    <tr>\n",
       "      <th>2</th>\n",
       "      <td>108884</td>\n",
       "      <td>46601</td>\n",
       "      <td>13.89</td>\n",
       "      <td>24.32</td>\n",
       "      <td>1.75</td>\n",
       "    </tr>\n",
       "    <tr>\n",
       "      <th>3</th>\n",
       "      <td>77535</td>\n",
       "      <td>1636</td>\n",
       "      <td>9.89</td>\n",
       "      <td>0.85</td>\n",
       "      <td>0.09</td>\n",
       "    </tr>\n",
       "    <tr>\n",
       "      <th>4</th>\n",
       "      <td>50311</td>\n",
       "      <td>26921</td>\n",
       "      <td>6.42</td>\n",
       "      <td>14.05</td>\n",
       "      <td>2.19</td>\n",
       "    </tr>\n",
       "    <tr>\n",
       "      <th>5</th>\n",
       "      <td>28481</td>\n",
       "      <td>11671</td>\n",
       "      <td>3.63</td>\n",
       "      <td>6.09</td>\n",
       "      <td>1.68</td>\n",
       "    </tr>\n",
       "    <tr>\n",
       "      <th>6</th>\n",
       "      <td>90968</td>\n",
       "      <td>13878</td>\n",
       "      <td>11.61</td>\n",
       "      <td>7.24</td>\n",
       "      <td>0.62</td>\n",
       "    </tr>\n",
       "    <tr>\n",
       "      <th>7</th>\n",
       "      <td>100433</td>\n",
       "      <td>5747</td>\n",
       "      <td>12.81</td>\n",
       "      <td>3.00</td>\n",
       "      <td>0.23</td>\n",
       "    </tr>\n",
       "    <tr>\n",
       "      <th>8</th>\n",
       "      <td>54139</td>\n",
       "      <td>32767</td>\n",
       "      <td>6.91</td>\n",
       "      <td>17.10</td>\n",
       "      <td>2.47</td>\n",
       "    </tr>\n",
       "    <tr>\n",
       "      <th>9</th>\n",
       "      <td>104484</td>\n",
       "      <td>19012</td>\n",
       "      <td>13.33</td>\n",
       "      <td>9.92</td>\n",
       "      <td>0.74</td>\n",
       "    </tr>\n",
       "  </tbody>\n",
       "</table>\n",
       "</div>"
      ],
      "text/plain": [
       "   Azdias  Customers  Azdias share  Customers share  Ratio\n",
       "0   58976      28738          7.53            14.99   1.99\n",
       "1  109507       4681         13.97             2.44   0.17\n",
       "2  108884      46601         13.89            24.32   1.75\n",
       "3   77535       1636          9.89             0.85   0.09\n",
       "4   50311      26921          6.42            14.05   2.19\n",
       "5   28481      11671          3.63             6.09   1.68\n",
       "6   90968      13878         11.61             7.24   0.62\n",
       "7  100433       5747         12.81             3.00   0.23\n",
       "8   54139      32767          6.91            17.10   2.47\n",
       "9  104484      19012         13.33             9.92   0.74"
      ]
     },
     "execution_count": 153,
     "metadata": {},
     "output_type": "execute_result"
    }
   ],
   "source": [
    "clusters_df['Azdias share'] = round(clusters_df.Azdias / clusters_df.Azdias.sum() * 100, 2)\n",
    "clusters_df['Customers share'] = round(clusters_df.Customers / clusters_df.Customers.sum() * 100, 2)\n",
    "clusters_df['Ratio'] = round(clusters_df['Customers share'] / clusters_df['Azdias share'], 2)\n",
    "clusters_df.head(10)"
   ]
  },
  {
   "cell_type": "markdown",
   "metadata": {},
   "source": [
    "For both datasets we want to mesure the percentage of the total size in each cluster. We also want to see the ration between \"customers\" and \"population\" for those percentages. That ratio will tell us where the most of future prospects are, in which cluster. "
   ]
  },
  {
   "cell_type": "code",
   "execution_count": 273,
   "metadata": {
    "scrolled": false
   },
   "outputs": [
    {
     "data": {
      "text/plain": [
       "<AxesSubplot:title={'center':'Cluster share'}>"
      ]
     },
     "execution_count": 273,
     "metadata": {},
     "output_type": "execute_result"
    },
    {
     "data": {
      "image/png": "[encoded data removed]",
      "text/plain": [
       "<Figure size 864x432 with 1 Axes>"
      ]
     },
     "metadata": {
      "needs_background": "light"
     },
     "output_type": "display_data"
    }
   ],
   "source": [
    "clusters_df[['Azdias share', 'Customers share']].plot(kind = 'bar', figsize=(12, 6), title = \"Cluster share\")"
   ]
  },
  {
   "cell_type": "code",
   "execution_count": 156,
   "metadata": {
    "scrolled": true
   },
   "outputs": [
    {
     "data": {
      "text/plain": [
       "<AxesSubplot:>"
      ]
     },
     "execution_count": 156,
     "metadata": {},
     "output_type": "execute_result"
    },
    {
     "data": {
      "image/png": "[encoded data removed]",
      "text/plain": [
       "<Figure size 864x432 with 1 Axes>"
      ]
     },
     "metadata": {
      "needs_background": "light"
     },
     "output_type": "display_data"
    }
   ],
   "source": [
    "clusters_df[['Ratio']].plot(kind = 'bar', figsize=(12, 6))"
   ]
  },
  {
   "cell_type": "markdown",
   "metadata": {},
   "source": [
    "We can see that biggest potential of new customers lies in clusters 8, 4, 0 and 2."
   ]
  },
  {
   "cell_type": "markdown",
   "metadata": {},
   "source": [
    "### Plotting feature weights for most important clusters"
   ]
  },
  {
   "cell_type": "code",
   "execution_count": 229,
   "metadata": {
    "scrolled": false
   },
   "outputs": [
    {
     "data": {
      "image/png": "[encoded data removed]",
      "text/plain": [
       "<Figure size 432x288 with 1 Axes>"
      ]
     },
     "metadata": {
      "needs_background": "light"
     },
     "output_type": "display_data"
    },
    {
     "data": {
      "text/html": [
       "<div>\n",
       "<style scoped>\n",
       "    .dataframe tbody tr th:only-of-type {\n",
       "        vertical-align: middle;\n",
       "    }\n",
       "\n",
       "    .dataframe tbody tr th {\n",
       "        vertical-align: top;\n",
       "    }\n",
       "\n",
       "    .dataframe thead th {\n",
       "        text-align: right;\n",
       "    }\n",
       "</style>\n",
       "<table border=\"1\" class=\"dataframe\">\n",
       "  <thead>\n",
       "    <tr style=\"text-align: right;\">\n",
       "      <th></th>\n",
       "      <th>Features</th>\n",
       "      <th>Descriptions</th>\n",
       "    </tr>\n",
       "  </thead>\n",
       "  <tbody>\n",
       "    <tr>\n",
       "      <th>423</th>\n",
       "      <td>GREEN_AVANTGARDE_1</td>\n",
       "      <td>Description missing</td>\n",
       "    </tr>\n",
       "    <tr>\n",
       "      <th>91</th>\n",
       "      <td>KBA05_HERST1</td>\n",
       "      <td>share of top German manufacturer (Mercedes, BMW)</td>\n",
       "    </tr>\n",
       "    <tr>\n",
       "      <th>107</th>\n",
       "      <td>KBA05_KW3</td>\n",
       "      <td>share of cars with an engine power of more tha...</td>\n",
       "    </tr>\n",
       "    <tr>\n",
       "      <th>118</th>\n",
       "      <td>KBA05_MOTOR</td>\n",
       "      <td>most common engine size in the microcell</td>\n",
       "    </tr>\n",
       "    <tr>\n",
       "      <th>186</th>\n",
       "      <td>KBA13_HERST_BMW_BENZ</td>\n",
       "      <td>share of BMW &amp; Mercedes Benz within the PLZ8</td>\n",
       "    </tr>\n",
       "    <tr>\n",
       "      <th>82</th>\n",
       "      <td>KBA05_ANTG4</td>\n",
       "      <td>number of &gt;10 family houses in the cell</td>\n",
       "    </tr>\n",
       "    <tr>\n",
       "      <th>65</th>\n",
       "      <td>FINANZ_SPARER</td>\n",
       "      <td>financial typology: money saver</td>\n",
       "    </tr>\n",
       "    <tr>\n",
       "      <th>12</th>\n",
       "      <td>CJT_TYP_1</td>\n",
       "      <td>Description missing</td>\n",
       "    </tr>\n",
       "    <tr>\n",
       "      <th>274</th>\n",
       "      <td>RT_KEIN_ANREIZ</td>\n",
       "      <td>Description missing</td>\n",
       "    </tr>\n",
       "    <tr>\n",
       "      <th>62</th>\n",
       "      <td>FINANZ_ANLEGER</td>\n",
       "      <td>financial typology: investor</td>\n",
       "    </tr>\n",
       "  </tbody>\n",
       "</table>\n",
       "</div>"
      ],
      "text/plain": [
       "                 Features                                       Descriptions\n",
       "423    GREEN_AVANTGARDE_1                                Description missing\n",
       "91           KBA05_HERST1  share of top German manufacturer (Mercedes, BMW) \n",
       "107             KBA05_KW3  share of cars with an engine power of more tha...\n",
       "118           KBA05_MOTOR           most common engine size in the microcell\n",
       "186  KBA13_HERST_BMW_BENZ       share of BMW & Mercedes Benz within the PLZ8\n",
       "82            KBA05_ANTG4            number of >10 family houses in the cell\n",
       "65          FINANZ_SPARER                    financial typology: money saver\n",
       "12              CJT_TYP_1                                Description missing\n",
       "274        RT_KEIN_ANREIZ                                Description missing\n",
       "62         FINANZ_ANLEGER                       financial typology: investor"
      ]
     },
     "execution_count": 229,
     "metadata": {},
     "output_type": "execute_result"
    }
   ],
   "source": [
    "customers_cluster_0 = plot_cluster_details(0, customers_pca, customers_km, customers_scaled_df, attribute_values)\n",
    "customers_cluster_0[['Features', 'Descriptions']].head(10)"
   ]
  },
  {
   "cell_type": "markdown",
   "metadata": {},
   "source": [
    "The most important features of the cluster no.0 are:\n",
    "- GREEN_AVANTGARDE_1: belongs to the green avantgarde\n",
    "- KBA05_HERST1: share of top German manufacturer (Mercedes, BMW)\n",
    "- KBA05_KW3: share of cars with and engine power more than 119 KW\n",
    "- FINANZ_ANLEGER: financial topology - investor"
   ]
  },
  {
   "cell_type": "code",
   "execution_count": 230,
   "metadata": {
    "scrolled": true
   },
   "outputs": [
    {
     "data": {
      "image/png": "[encoded data removed]",
      "text/plain": [
       "<Figure size 432x288 with 1 Axes>"
      ]
     },
     "metadata": {
      "needs_background": "light"
     },
     "output_type": "display_data"
    },
    {
     "data": {
      "text/html": [
       "<div>\n",
       "<style scoped>\n",
       "    .dataframe tbody tr th:only-of-type {\n",
       "        vertical-align: middle;\n",
       "    }\n",
       "\n",
       "    .dataframe tbody tr th {\n",
       "        vertical-align: top;\n",
       "    }\n",
       "\n",
       "    .dataframe thead th {\n",
       "        text-align: right;\n",
       "    }\n",
       "</style>\n",
       "<table border=\"1\" class=\"dataframe\">\n",
       "  <thead>\n",
       "    <tr style=\"text-align: right;\">\n",
       "      <th></th>\n",
       "      <th>Features</th>\n",
       "      <th>Descriptions</th>\n",
       "    </tr>\n",
       "  </thead>\n",
       "  <tbody>\n",
       "    <tr>\n",
       "      <th>49</th>\n",
       "      <td>D19_TELKO_ONLINE_QUOTE_12</td>\n",
       "      <td>Description missing</td>\n",
       "    </tr>\n",
       "    <tr>\n",
       "      <th>56</th>\n",
       "      <td>D19_VERSI_ONLINE_QUOTE_12</td>\n",
       "      <td>Description missing</td>\n",
       "    </tr>\n",
       "    <tr>\n",
       "      <th>405</th>\n",
       "      <td>LP_STATUS_FEIN_5.0</td>\n",
       "      <td>Description missing</td>\n",
       "    </tr>\n",
       "    <tr>\n",
       "      <th>253</th>\n",
       "      <td>KOMBIALTER</td>\n",
       "      <td>Description missing</td>\n",
       "    </tr>\n",
       "    <tr>\n",
       "      <th>322</th>\n",
       "      <td>CAMEO_DEU_2015_2D</td>\n",
       "      <td>Description missing</td>\n",
       "    </tr>\n",
       "    <tr>\n",
       "      <th>10</th>\n",
       "      <td>CAMEO_INTL_2015</td>\n",
       "      <td>Description missing</td>\n",
       "    </tr>\n",
       "    <tr>\n",
       "      <th>144</th>\n",
       "      <td>KBA13_ANZAHL_PKW</td>\n",
       "      <td>number of cars in the PLZ8</td>\n",
       "    </tr>\n",
       "    <tr>\n",
       "      <th>259</th>\n",
       "      <td>MIN_GEBAEUDEJAHR</td>\n",
       "      <td>year the building was first mentioned in our d...</td>\n",
       "    </tr>\n",
       "    <tr>\n",
       "      <th>301</th>\n",
       "      <td>WOHNDAUER_2008</td>\n",
       "      <td>length of residence</td>\n",
       "    </tr>\n",
       "    <tr>\n",
       "      <th>60</th>\n",
       "      <td>EINGEZOGENAM_HH_JAHR</td>\n",
       "      <td>Description missing</td>\n",
       "    </tr>\n",
       "  </tbody>\n",
       "</table>\n",
       "</div>"
      ],
      "text/plain": [
       "                      Features  \\\n",
       "49   D19_TELKO_ONLINE_QUOTE_12   \n",
       "56   D19_VERSI_ONLINE_QUOTE_12   \n",
       "405         LP_STATUS_FEIN_5.0   \n",
       "253                 KOMBIALTER   \n",
       "322          CAMEO_DEU_2015_2D   \n",
       "10             CAMEO_INTL_2015   \n",
       "144           KBA13_ANZAHL_PKW   \n",
       "259           MIN_GEBAEUDEJAHR   \n",
       "301             WOHNDAUER_2008   \n",
       "60        EINGEZOGENAM_HH_JAHR   \n",
       "\n",
       "                                          Descriptions  \n",
       "49                                 Description missing  \n",
       "56                                 Description missing  \n",
       "405                                Description missing  \n",
       "253                                Description missing  \n",
       "322                                Description missing  \n",
       "10                                 Description missing  \n",
       "144                         number of cars in the PLZ8  \n",
       "259  year the building was first mentioned in our d...  \n",
       "301                                length of residence  \n",
       "60                                 Description missing  "
      ]
     },
     "execution_count": 230,
     "metadata": {},
     "output_type": "execute_result"
    }
   ],
   "source": [
    "customers_cluster_2 = plot_cluster_details(2, customers_pca, customers_km, customers_scaled_df, attribute_values)\n",
    "customers_cluster_2[['Features', 'Descriptions']].head(10)"
   ]
  },
  {
   "cell_type": "markdown",
   "metadata": {},
   "source": [
    "The most important features of the cluster no.2 are:\n",
    "- D19_TELKO_ONLINE_QUOTE_12\n",
    "- D19_VERSI_ONLINE_QUOTE_12\n",
    "- EINGEZOGENAM_HH_JAHR\n",
    "- WOHNDAUER_2008: length of residence"
   ]
  },
  {
   "cell_type": "code",
   "execution_count": 231,
   "metadata": {
    "scrolled": true
   },
   "outputs": [
    {
     "data": {
      "image/png": "[encoded data removed]",
      "text/plain": [
       "<Figure size 432x288 with 1 Axes>"
      ]
     },
     "metadata": {
      "needs_background": "light"
     },
     "output_type": "display_data"
    },
    {
     "data": {
      "text/html": [
       "<div>\n",
       "<style scoped>\n",
       "    .dataframe tbody tr th:only-of-type {\n",
       "        vertical-align: middle;\n",
       "    }\n",
       "\n",
       "    .dataframe tbody tr th {\n",
       "        vertical-align: top;\n",
       "    }\n",
       "\n",
       "    .dataframe thead th {\n",
       "        text-align: right;\n",
       "    }\n",
       "</style>\n",
       "<table border=\"1\" class=\"dataframe\">\n",
       "  <thead>\n",
       "    <tr style=\"text-align: right;\">\n",
       "      <th></th>\n",
       "      <th>Features</th>\n",
       "      <th>Descriptions</th>\n",
       "    </tr>\n",
       "  </thead>\n",
       "  <tbody>\n",
       "    <tr>\n",
       "      <th>5</th>\n",
       "      <td>ANZ_PERSONEN</td>\n",
       "      <td>number of adult persons in the household</td>\n",
       "    </tr>\n",
       "    <tr>\n",
       "      <th>255</th>\n",
       "      <td>LP_FAMILIE_GROB</td>\n",
       "      <td>familytyp rough</td>\n",
       "    </tr>\n",
       "    <tr>\n",
       "      <th>257</th>\n",
       "      <td>LP_LEBENSPHASE_GROB</td>\n",
       "      <td>lifestage rough</td>\n",
       "    </tr>\n",
       "    <tr>\n",
       "      <th>262</th>\n",
       "      <td>ONLINE_AFFINITAET</td>\n",
       "      <td>online affinity</td>\n",
       "    </tr>\n",
       "    <tr>\n",
       "      <th>374</th>\n",
       "      <td>LP_FAMILIE_FEIN_11.0</td>\n",
       "      <td>Description missing</td>\n",
       "    </tr>\n",
       "    <tr>\n",
       "      <th>11</th>\n",
       "      <td>CJT_KATALOGNUTZER</td>\n",
       "      <td>Description missing</td>\n",
       "    </tr>\n",
       "    <tr>\n",
       "      <th>267</th>\n",
       "      <td>PLZ8_ANTG4</td>\n",
       "      <td>number of &gt;10 family houses in the PLZ8</td>\n",
       "    </tr>\n",
       "    <tr>\n",
       "      <th>143</th>\n",
       "      <td>KBA13_ANTG4</td>\n",
       "      <td>Description missing</td>\n",
       "    </tr>\n",
       "    <tr>\n",
       "      <th>453</th>\n",
       "      <td>D19_LETZTER_KAUF_BRANCHE_D19_UNBEKANNT</td>\n",
       "      <td>Description missing</td>\n",
       "    </tr>\n",
       "    <tr>\n",
       "      <th>359</th>\n",
       "      <td>D19_KONSUMTYP_3.0</td>\n",
       "      <td>Description missing</td>\n",
       "    </tr>\n",
       "  </tbody>\n",
       "</table>\n",
       "</div>"
      ],
      "text/plain": [
       "                                   Features  \\\n",
       "5                              ANZ_PERSONEN   \n",
       "255                         LP_FAMILIE_GROB   \n",
       "257                     LP_LEBENSPHASE_GROB   \n",
       "262                       ONLINE_AFFINITAET   \n",
       "374                    LP_FAMILIE_FEIN_11.0   \n",
       "11                        CJT_KATALOGNUTZER   \n",
       "267                              PLZ8_ANTG4   \n",
       "143                             KBA13_ANTG4   \n",
       "453  D19_LETZTER_KAUF_BRANCHE_D19_UNBEKANNT   \n",
       "359                       D19_KONSUMTYP_3.0   \n",
       "\n",
       "                                 Descriptions  \n",
       "5    number of adult persons in the household  \n",
       "255                           familytyp rough  \n",
       "257                           lifestage rough  \n",
       "262                           online affinity  \n",
       "374                       Description missing  \n",
       "11                        Description missing  \n",
       "267   number of >10 family houses in the PLZ8  \n",
       "143                       Description missing  \n",
       "453                       Description missing  \n",
       "359                       Description missing  "
      ]
     },
     "execution_count": 231,
     "metadata": {},
     "output_type": "execute_result"
    }
   ],
   "source": [
    "customers_cluster_4 = plot_cluster_details(4, customers_pca, customers_km, customers_scaled_df, attribute_values)\n",
    "customers_cluster_4[['Features', 'Descriptions']].head(10)"
   ]
  },
  {
   "cell_type": "markdown",
   "metadata": {},
   "source": [
    "The most important features of the cluster no.4 are:\n",
    "- ANZ_PERSONEN: number of adult persons in the household\n",
    "- LP_FAMILIE_GROB: family type\n",
    "- LP_LEBENSPHASE_GROB: life style\n",
    "- ONLINE_AFFINITAET: online affinity"
   ]
  },
  {
   "cell_type": "code",
   "execution_count": 232,
   "metadata": {
    "scrolled": true
   },
   "outputs": [
    {
     "data": {
      "image/png": "[encoded data removed]",
      "text/plain": [
       "<Figure size 432x288 with 1 Axes>"
      ]
     },
     "metadata": {
      "needs_background": "light"
     },
     "output_type": "display_data"
    },
    {
     "data": {
      "text/html": [
       "<div>\n",
       "<style scoped>\n",
       "    .dataframe tbody tr th:only-of-type {\n",
       "        vertical-align: middle;\n",
       "    }\n",
       "\n",
       "    .dataframe tbody tr th {\n",
       "        vertical-align: top;\n",
       "    }\n",
       "\n",
       "    .dataframe thead th {\n",
       "        text-align: right;\n",
       "    }\n",
       "</style>\n",
       "<table border=\"1\" class=\"dataframe\">\n",
       "  <thead>\n",
       "    <tr style=\"text-align: right;\">\n",
       "      <th></th>\n",
       "      <th>Features</th>\n",
       "      <th>Descriptions</th>\n",
       "    </tr>\n",
       "  </thead>\n",
       "  <tbody>\n",
       "    <tr>\n",
       "      <th>138</th>\n",
       "      <td>KBA13_ALTERHALTER_60</td>\n",
       "      <td>share of car owners between 46 and 60 within t...</td>\n",
       "    </tr>\n",
       "    <tr>\n",
       "      <th>261</th>\n",
       "      <td>MOBI_REGIO</td>\n",
       "      <td>moving patterns</td>\n",
       "    </tr>\n",
       "    <tr>\n",
       "      <th>180</th>\n",
       "      <td>KBA13_HALTER_55</td>\n",
       "      <td>share of car owners between 51 and 55 within t...</td>\n",
       "    </tr>\n",
       "    <tr>\n",
       "      <th>179</th>\n",
       "      <td>KBA13_HALTER_50</td>\n",
       "      <td>share of car owners between 46 and 50 within t...</td>\n",
       "    </tr>\n",
       "    <tr>\n",
       "      <th>90</th>\n",
       "      <td>KBA05_GBZ</td>\n",
       "      <td>number of buildings in the microcell</td>\n",
       "    </tr>\n",
       "    <tr>\n",
       "      <th>65</th>\n",
       "      <td>FINANZ_SPARER</td>\n",
       "      <td>financial typology: money saver</td>\n",
       "    </tr>\n",
       "    <tr>\n",
       "      <th>267</th>\n",
       "      <td>PLZ8_ANTG4</td>\n",
       "      <td>number of &gt;10 family houses in the PLZ8</td>\n",
       "    </tr>\n",
       "    <tr>\n",
       "      <th>143</th>\n",
       "      <td>KBA13_ANTG4</td>\n",
       "      <td>Description missing</td>\n",
       "    </tr>\n",
       "    <tr>\n",
       "      <th>82</th>\n",
       "      <td>KBA05_ANTG4</td>\n",
       "      <td>number of &gt;10 family houses in the cell</td>\n",
       "    </tr>\n",
       "    <tr>\n",
       "      <th>13</th>\n",
       "      <td>CJT_TYP_2</td>\n",
       "      <td>Description missing</td>\n",
       "    </tr>\n",
       "  </tbody>\n",
       "</table>\n",
       "</div>"
      ],
      "text/plain": [
       "                 Features                                       Descriptions\n",
       "138  KBA13_ALTERHALTER_60  share of car owners between 46 and 60 within t...\n",
       "261            MOBI_REGIO                                    moving patterns\n",
       "180       KBA13_HALTER_55  share of car owners between 51 and 55 within t...\n",
       "179       KBA13_HALTER_50  share of car owners between 46 and 50 within t...\n",
       "90              KBA05_GBZ               number of buildings in the microcell\n",
       "65          FINANZ_SPARER                    financial typology: money saver\n",
       "267            PLZ8_ANTG4            number of >10 family houses in the PLZ8\n",
       "143           KBA13_ANTG4                                Description missing\n",
       "82            KBA05_ANTG4            number of >10 family houses in the cell\n",
       "13              CJT_TYP_2                                Description missing"
      ]
     },
     "execution_count": 232,
     "metadata": {},
     "output_type": "execute_result"
    }
   ],
   "source": [
    "customers_cluster_8 = plot_cluster_details(8, customers_pca, customers_km, customers_scaled_df, attribute_values)\n",
    "customers_cluster_8[['Features', 'Descriptions']].head(10)"
   ]
  },
  {
   "cell_type": "markdown",
   "metadata": {},
   "source": [
    "The most important features of the cluster no.8 are:\n",
    "- KBA13_ALTERHALTER_60: share of car owners between 46 and 60 within the PLZ8\n",
    "- MOBI_REGIO: moving patterns\n",
    "- KBA13_HALTER_55: share of car owners between 51 and 55 within the PLZ8\n",
    "- KBA13_HALTER_50: share of car owners between 46 and 50 within the PLZ8"
   ]
  },
  {
   "cell_type": "markdown",
   "metadata": {},
   "source": [
    "## Part 2: Supervised Learning Model\n",
    "\n",
    "Now that you've found which parts of the population are more likely to be customers of the mail-order company, it's time to build a prediction model. Each of the rows in the \"MAILOUT\" data files represents an individual that was targeted for a mailout campaign. Ideally, we should be able to use the demographic information from each individual to decide whether or not it will be worth it to include that person in the campaign.\n",
    "\n",
    "The \"MAILOUT\" data has been split into two approximately equal parts, each with almost 43 000 data rows. In this part, you can verify your model with the \"TRAIN\" partition, which includes a column, \"RESPONSE\", that states whether or not a person became a customer of the company following the campaign. In the next part, you'll need to create predictions on the \"TEST\" partition, where the \"RESPONSE\" column has been withheld."
   ]
  },
  {
   "cell_type": "markdown",
   "metadata": {},
   "source": [
    "### The list of nominal columns"
   ]
  },
  {
   "cell_type": "code",
   "execution_count": 159,
   "metadata": {
    "scrolled": true
   },
   "outputs": [],
   "source": [
    "mail_nominal = ['AGER_TYP', 'CAMEO_DEU_2015', 'CJT_GESAMTTYP', 'D19_KONSUMTYP', 'GEBAEUDETYP', 'GEBAEUDETYP_RASTER',\n",
    "                'GFK_URLAUBERTYP', 'HEALTH_TYP', 'KBA05_MAXHERST', 'LP_FAMILIE_FEIN', 'LP_STATUS_FEIN', \n",
    "                'NATIONALITAET_KZ', 'RETOURTYP_BK_S', 'SHOPPER_TYP', 'TITEL_KZ']"
   ]
  },
  {
   "cell_type": "code",
   "execution_count": 160,
   "metadata": {
    "scrolled": true
   },
   "outputs": [],
   "source": [
    "mail_to_drop = columns_to_drop"
   ]
  },
  {
   "cell_type": "markdown",
   "metadata": {},
   "source": [
    "### The list of columns with a lot of missing data"
   ]
  },
  {
   "cell_type": "code",
   "execution_count": 161,
   "metadata": {
    "scrolled": true
   },
   "outputs": [],
   "source": [
    "mail_hidden = ['D19_DIGIT_SERV', 'D19_VERSI_OFFLINE_DATUM', 'D19_VERSI_ONLINE_DATUM', 'D19_BANKEN_LOKAL', \n",
    "               'ANZ_TITEL', 'ANZ_HH_TITEL']"
   ]
  },
  {
   "cell_type": "code",
   "execution_count": 162,
   "metadata": {
    "scrolled": true
   },
   "outputs": [
    {
     "name": "stderr",
     "output_type": "stream",
     "text": [
      "/Users/vajolukic/anaconda3/lib/python3.7/site-packages/IPython/core/interactiveshell.py:3170: DtypeWarning: Columns (18,19) have mixed types.Specify dtype option on import or set low_memory=False.\n",
      "  interactivity=interactivity, compiler=compiler, result=result)\n"
     ]
    }
   ],
   "source": [
    "mailout_train = pd.read_csv('data/Udacity_MAILOUT_052018_TRAIN.csv', sep=';')"
   ]
  },
  {
   "cell_type": "code",
   "execution_count": 163,
   "metadata": {
    "scrolled": false
   },
   "outputs": [
    {
     "data": {
      "text/plain": [
       "(42962, 367)"
      ]
     },
     "execution_count": 163,
     "metadata": {},
     "output_type": "execute_result"
    }
   ],
   "source": [
    "mailout_train.shape"
   ]
  },
  {
   "cell_type": "code",
   "execution_count": 164,
   "metadata": {
    "scrolled": false
   },
   "outputs": [
    {
     "data": {
      "text/html": [
       "<div>\n",
       "<style scoped>\n",
       "    .dataframe tbody tr th:only-of-type {\n",
       "        vertical-align: middle;\n",
       "    }\n",
       "\n",
       "    .dataframe tbody tr th {\n",
       "        vertical-align: top;\n",
       "    }\n",
       "\n",
       "    .dataframe thead th {\n",
       "        text-align: right;\n",
       "    }\n",
       "</style>\n",
       "<table border=\"1\" class=\"dataframe\">\n",
       "  <thead>\n",
       "    <tr style=\"text-align: right;\">\n",
       "      <th></th>\n",
       "      <th>LNR</th>\n",
       "      <th>AGER_TYP</th>\n",
       "      <th>AKT_DAT_KL</th>\n",
       "      <th>ALTER_HH</th>\n",
       "      <th>ALTER_KIND1</th>\n",
       "      <th>ALTER_KIND2</th>\n",
       "      <th>ALTER_KIND3</th>\n",
       "      <th>ALTER_KIND4</th>\n",
       "      <th>ALTERSKATEGORIE_FEIN</th>\n",
       "      <th>ANZ_HAUSHALTE_AKTIV</th>\n",
       "      <th>...</th>\n",
       "      <th>VK_DHT4A</th>\n",
       "      <th>VK_DISTANZ</th>\n",
       "      <th>VK_ZG11</th>\n",
       "      <th>W_KEIT_KIND_HH</th>\n",
       "      <th>WOHNDAUER_2008</th>\n",
       "      <th>WOHNLAGE</th>\n",
       "      <th>ZABEOTYP</th>\n",
       "      <th>RESPONSE</th>\n",
       "      <th>ANREDE_KZ</th>\n",
       "      <th>ALTERSKATEGORIE_GROB</th>\n",
       "    </tr>\n",
       "  </thead>\n",
       "  <tbody>\n",
       "    <tr>\n",
       "      <th>0</th>\n",
       "      <td>1763</td>\n",
       "      <td>2</td>\n",
       "      <td>1.0</td>\n",
       "      <td>8.0</td>\n",
       "      <td>NaN</td>\n",
       "      <td>NaN</td>\n",
       "      <td>NaN</td>\n",
       "      <td>NaN</td>\n",
       "      <td>8.0</td>\n",
       "      <td>15.0</td>\n",
       "      <td>...</td>\n",
       "      <td>5.0</td>\n",
       "      <td>2.0</td>\n",
       "      <td>1.0</td>\n",
       "      <td>6.0</td>\n",
       "      <td>9.0</td>\n",
       "      <td>3.0</td>\n",
       "      <td>3</td>\n",
       "      <td>0</td>\n",
       "      <td>2</td>\n",
       "      <td>4</td>\n",
       "    </tr>\n",
       "    <tr>\n",
       "      <th>1</th>\n",
       "      <td>1771</td>\n",
       "      <td>1</td>\n",
       "      <td>4.0</td>\n",
       "      <td>13.0</td>\n",
       "      <td>NaN</td>\n",
       "      <td>NaN</td>\n",
       "      <td>NaN</td>\n",
       "      <td>NaN</td>\n",
       "      <td>13.0</td>\n",
       "      <td>1.0</td>\n",
       "      <td>...</td>\n",
       "      <td>1.0</td>\n",
       "      <td>2.0</td>\n",
       "      <td>1.0</td>\n",
       "      <td>4.0</td>\n",
       "      <td>9.0</td>\n",
       "      <td>7.0</td>\n",
       "      <td>1</td>\n",
       "      <td>0</td>\n",
       "      <td>2</td>\n",
       "      <td>3</td>\n",
       "    </tr>\n",
       "    <tr>\n",
       "      <th>2</th>\n",
       "      <td>1776</td>\n",
       "      <td>1</td>\n",
       "      <td>1.0</td>\n",
       "      <td>9.0</td>\n",
       "      <td>NaN</td>\n",
       "      <td>NaN</td>\n",
       "      <td>NaN</td>\n",
       "      <td>NaN</td>\n",
       "      <td>7.0</td>\n",
       "      <td>0.0</td>\n",
       "      <td>...</td>\n",
       "      <td>6.0</td>\n",
       "      <td>4.0</td>\n",
       "      <td>2.0</td>\n",
       "      <td>NaN</td>\n",
       "      <td>9.0</td>\n",
       "      <td>2.0</td>\n",
       "      <td>3</td>\n",
       "      <td>0</td>\n",
       "      <td>1</td>\n",
       "      <td>4</td>\n",
       "    </tr>\n",
       "    <tr>\n",
       "      <th>3</th>\n",
       "      <td>1460</td>\n",
       "      <td>2</td>\n",
       "      <td>1.0</td>\n",
       "      <td>6.0</td>\n",
       "      <td>NaN</td>\n",
       "      <td>NaN</td>\n",
       "      <td>NaN</td>\n",
       "      <td>NaN</td>\n",
       "      <td>6.0</td>\n",
       "      <td>4.0</td>\n",
       "      <td>...</td>\n",
       "      <td>8.0</td>\n",
       "      <td>11.0</td>\n",
       "      <td>11.0</td>\n",
       "      <td>6.0</td>\n",
       "      <td>9.0</td>\n",
       "      <td>1.0</td>\n",
       "      <td>3</td>\n",
       "      <td>0</td>\n",
       "      <td>2</td>\n",
       "      <td>4</td>\n",
       "    </tr>\n",
       "    <tr>\n",
       "      <th>4</th>\n",
       "      <td>1783</td>\n",
       "      <td>2</td>\n",
       "      <td>1.0</td>\n",
       "      <td>9.0</td>\n",
       "      <td>NaN</td>\n",
       "      <td>NaN</td>\n",
       "      <td>NaN</td>\n",
       "      <td>NaN</td>\n",
       "      <td>9.0</td>\n",
       "      <td>53.0</td>\n",
       "      <td>...</td>\n",
       "      <td>2.0</td>\n",
       "      <td>2.0</td>\n",
       "      <td>1.0</td>\n",
       "      <td>6.0</td>\n",
       "      <td>9.0</td>\n",
       "      <td>3.0</td>\n",
       "      <td>3</td>\n",
       "      <td>0</td>\n",
       "      <td>1</td>\n",
       "      <td>3</td>\n",
       "    </tr>\n",
       "  </tbody>\n",
       "</table>\n",
       "<p>5 rows × 367 columns</p>\n",
       "</div>"
      ],
      "text/plain": [
       "    LNR  AGER_TYP  AKT_DAT_KL  ALTER_HH  ALTER_KIND1  ALTER_KIND2  \\\n",
       "0  1763         2         1.0       8.0          NaN          NaN   \n",
       "1  1771         1         4.0      13.0          NaN          NaN   \n",
       "2  1776         1         1.0       9.0          NaN          NaN   \n",
       "3  1460         2         1.0       6.0          NaN          NaN   \n",
       "4  1783         2         1.0       9.0          NaN          NaN   \n",
       "\n",
       "   ALTER_KIND3  ALTER_KIND4  ALTERSKATEGORIE_FEIN  ANZ_HAUSHALTE_AKTIV  ...  \\\n",
       "0          NaN          NaN                   8.0                 15.0  ...   \n",
       "1          NaN          NaN                  13.0                  1.0  ...   \n",
       "2          NaN          NaN                   7.0                  0.0  ...   \n",
       "3          NaN          NaN                   6.0                  4.0  ...   \n",
       "4          NaN          NaN                   9.0                 53.0  ...   \n",
       "\n",
       "   VK_DHT4A  VK_DISTANZ  VK_ZG11  W_KEIT_KIND_HH  WOHNDAUER_2008  WOHNLAGE  \\\n",
       "0       5.0         2.0      1.0             6.0             9.0       3.0   \n",
       "1       1.0         2.0      1.0             4.0             9.0       7.0   \n",
       "2       6.0         4.0      2.0             NaN             9.0       2.0   \n",
       "3       8.0        11.0     11.0             6.0             9.0       1.0   \n",
       "4       2.0         2.0      1.0             6.0             9.0       3.0   \n",
       "\n",
       "   ZABEOTYP RESPONSE ANREDE_KZ ALTERSKATEGORIE_GROB  \n",
       "0         3        0         2                    4  \n",
       "1         1        0         2                    3  \n",
       "2         3        0         1                    4  \n",
       "3         3        0         2                    4  \n",
       "4         3        0         1                    3  \n",
       "\n",
       "[5 rows x 367 columns]"
      ]
     },
     "execution_count": 164,
     "metadata": {},
     "output_type": "execute_result"
    }
   ],
   "source": [
    "mailout_train.head()"
   ]
  },
  {
   "cell_type": "code",
   "execution_count": 165,
   "metadata": {
    "scrolled": false
   },
   "outputs": [
    {
     "data": {
      "text/plain": [
       "0    42430\n",
       "1      532\n",
       "Name: RESPONSE, dtype: int64"
      ]
     },
     "execution_count": 165,
     "metadata": {},
     "output_type": "execute_result"
    }
   ],
   "source": [
    "mailout_train['RESPONSE'].value_counts()"
   ]
  },
  {
   "cell_type": "markdown",
   "metadata": {},
   "source": [
    "### Plot the distribution of the \"response\" variable"
   ]
  },
  {
   "cell_type": "code",
   "execution_count": 166,
   "metadata": {
    "scrolled": false
   },
   "outputs": [
    {
     "data": {
      "text/plain": [
       "<AxesSubplot:>"
      ]
     },
     "execution_count": 166,
     "metadata": {},
     "output_type": "execute_result"
    },
    {
     "data": {
      "image/png": "[encoded data removed]",
      "text/plain": [
       "<Figure size 864x432 with 1 Axes>"
      ]
     },
     "metadata": {
      "needs_background": "light"
     },
     "output_type": "display_data"
    }
   ],
   "source": [
    "mailout_train['RESPONSE'].value_counts().plot(kind = 'bar', figsize=(12, 6), color=['C0', 'C1'])"
   ]
  },
  {
   "cell_type": "markdown",
   "metadata": {},
   "source": [
    "### Cleaning \"mailout\" data set"
   ]
  },
  {
   "cell_type": "code",
   "execution_count": 168,
   "metadata": {
    "scrolled": true
   },
   "outputs": [
    {
     "data": {
      "text/html": [
       "<div>\n",
       "<style scoped>\n",
       "    .dataframe tbody tr th:only-of-type {\n",
       "        vertical-align: middle;\n",
       "    }\n",
       "\n",
       "    .dataframe tbody tr th {\n",
       "        vertical-align: top;\n",
       "    }\n",
       "\n",
       "    .dataframe thead th {\n",
       "        text-align: right;\n",
       "    }\n",
       "</style>\n",
       "<table border=\"1\" class=\"dataframe\">\n",
       "  <thead>\n",
       "    <tr style=\"text-align: right;\">\n",
       "      <th></th>\n",
       "      <th>AKT_DAT_KL</th>\n",
       "      <th>ALTER_HH</th>\n",
       "      <th>ALTERSKATEGORIE_FEIN</th>\n",
       "      <th>ANZ_HAUSHALTE_AKTIV</th>\n",
       "      <th>ANZ_KINDER</th>\n",
       "      <th>ANZ_PERSONEN</th>\n",
       "      <th>ANZ_STATISTISCHE_HAUSHALTE</th>\n",
       "      <th>ARBEIT</th>\n",
       "      <th>BALLRAUM</th>\n",
       "      <th>CAMEO_DEU_2015</th>\n",
       "      <th>...</th>\n",
       "      <th>VK_DHT4A</th>\n",
       "      <th>VK_DISTANZ</th>\n",
       "      <th>VK_ZG11</th>\n",
       "      <th>W_KEIT_KIND_HH</th>\n",
       "      <th>WOHNDAUER_2008</th>\n",
       "      <th>WOHNLAGE</th>\n",
       "      <th>ZABEOTYP</th>\n",
       "      <th>RESPONSE</th>\n",
       "      <th>ANREDE_KZ</th>\n",
       "      <th>ALTERSKATEGORIE_GROB</th>\n",
       "    </tr>\n",
       "  </thead>\n",
       "  <tbody>\n",
       "    <tr>\n",
       "      <th>0</th>\n",
       "      <td>1.0</td>\n",
       "      <td>8.0</td>\n",
       "      <td>8.0</td>\n",
       "      <td>15.0</td>\n",
       "      <td>0.0</td>\n",
       "      <td>1.0</td>\n",
       "      <td>13.0</td>\n",
       "      <td>3.0</td>\n",
       "      <td>5.0</td>\n",
       "      <td>5D</td>\n",
       "      <td>...</td>\n",
       "      <td>5.0</td>\n",
       "      <td>2.0</td>\n",
       "      <td>1.0</td>\n",
       "      <td>6.0</td>\n",
       "      <td>9.0</td>\n",
       "      <td>3.0</td>\n",
       "      <td>3</td>\n",
       "      <td>0</td>\n",
       "      <td>1.0</td>\n",
       "      <td>4</td>\n",
       "    </tr>\n",
       "    <tr>\n",
       "      <th>1</th>\n",
       "      <td>4.0</td>\n",
       "      <td>13.0</td>\n",
       "      <td>13.0</td>\n",
       "      <td>1.0</td>\n",
       "      <td>0.0</td>\n",
       "      <td>2.0</td>\n",
       "      <td>1.0</td>\n",
       "      <td>2.0</td>\n",
       "      <td>5.0</td>\n",
       "      <td>5B</td>\n",
       "      <td>...</td>\n",
       "      <td>1.0</td>\n",
       "      <td>2.0</td>\n",
       "      <td>1.0</td>\n",
       "      <td>4.0</td>\n",
       "      <td>9.0</td>\n",
       "      <td>7.0</td>\n",
       "      <td>1</td>\n",
       "      <td>0</td>\n",
       "      <td>1.0</td>\n",
       "      <td>3</td>\n",
       "    </tr>\n",
       "    <tr>\n",
       "      <th>2</th>\n",
       "      <td>1.0</td>\n",
       "      <td>9.0</td>\n",
       "      <td>7.0</td>\n",
       "      <td>0.0</td>\n",
       "      <td>0.0</td>\n",
       "      <td>0.0</td>\n",
       "      <td>1.0</td>\n",
       "      <td>4.0</td>\n",
       "      <td>1.0</td>\n",
       "      <td>2D</td>\n",
       "      <td>...</td>\n",
       "      <td>6.0</td>\n",
       "      <td>4.0</td>\n",
       "      <td>2.0</td>\n",
       "      <td>NaN</td>\n",
       "      <td>9.0</td>\n",
       "      <td>2.0</td>\n",
       "      <td>3</td>\n",
       "      <td>0</td>\n",
       "      <td>NaN</td>\n",
       "      <td>4</td>\n",
       "    </tr>\n",
       "    <tr>\n",
       "      <th>3</th>\n",
       "      <td>1.0</td>\n",
       "      <td>6.0</td>\n",
       "      <td>6.0</td>\n",
       "      <td>4.0</td>\n",
       "      <td>0.0</td>\n",
       "      <td>2.0</td>\n",
       "      <td>4.0</td>\n",
       "      <td>4.0</td>\n",
       "      <td>2.0</td>\n",
       "      <td>2D</td>\n",
       "      <td>...</td>\n",
       "      <td>8.0</td>\n",
       "      <td>11.0</td>\n",
       "      <td>11.0</td>\n",
       "      <td>6.0</td>\n",
       "      <td>9.0</td>\n",
       "      <td>1.0</td>\n",
       "      <td>3</td>\n",
       "      <td>0</td>\n",
       "      <td>1.0</td>\n",
       "      <td>4</td>\n",
       "    </tr>\n",
       "    <tr>\n",
       "      <th>4</th>\n",
       "      <td>1.0</td>\n",
       "      <td>9.0</td>\n",
       "      <td>9.0</td>\n",
       "      <td>53.0</td>\n",
       "      <td>0.0</td>\n",
       "      <td>1.0</td>\n",
       "      <td>44.0</td>\n",
       "      <td>3.0</td>\n",
       "      <td>4.0</td>\n",
       "      <td>7B</td>\n",
       "      <td>...</td>\n",
       "      <td>2.0</td>\n",
       "      <td>2.0</td>\n",
       "      <td>1.0</td>\n",
       "      <td>6.0</td>\n",
       "      <td>9.0</td>\n",
       "      <td>3.0</td>\n",
       "      <td>3</td>\n",
       "      <td>0</td>\n",
       "      <td>NaN</td>\n",
       "      <td>3</td>\n",
       "    </tr>\n",
       "  </tbody>\n",
       "</table>\n",
       "<p>5 rows × 330 columns</p>\n",
       "</div>"
      ],
      "text/plain": [
       "   AKT_DAT_KL  ALTER_HH  ALTERSKATEGORIE_FEIN  ANZ_HAUSHALTE_AKTIV  \\\n",
       "0         1.0       8.0                   8.0                 15.0   \n",
       "1         4.0      13.0                  13.0                  1.0   \n",
       "2         1.0       9.0                   7.0                  0.0   \n",
       "3         1.0       6.0                   6.0                  4.0   \n",
       "4         1.0       9.0                   9.0                 53.0   \n",
       "\n",
       "   ANZ_KINDER  ANZ_PERSONEN  ANZ_STATISTISCHE_HAUSHALTE  ARBEIT  BALLRAUM  \\\n",
       "0         0.0           1.0                        13.0     3.0       5.0   \n",
       "1         0.0           2.0                         1.0     2.0       5.0   \n",
       "2         0.0           0.0                         1.0     4.0       1.0   \n",
       "3         0.0           2.0                         4.0     4.0       2.0   \n",
       "4         0.0           1.0                        44.0     3.0       4.0   \n",
       "\n",
       "  CAMEO_DEU_2015  ...  VK_DHT4A  VK_DISTANZ  VK_ZG11  W_KEIT_KIND_HH  \\\n",
       "0             5D  ...       5.0         2.0      1.0             6.0   \n",
       "1             5B  ...       1.0         2.0      1.0             4.0   \n",
       "2             2D  ...       6.0         4.0      2.0             NaN   \n",
       "3             2D  ...       8.0        11.0     11.0             6.0   \n",
       "4             7B  ...       2.0         2.0      1.0             6.0   \n",
       "\n",
       "   WOHNDAUER_2008  WOHNLAGE  ZABEOTYP  RESPONSE  ANREDE_KZ  \\\n",
       "0             9.0       3.0         3         0        1.0   \n",
       "1             9.0       7.0         1         0        1.0   \n",
       "2             9.0       2.0         3         0        NaN   \n",
       "3             9.0       1.0         3         0        1.0   \n",
       "4             9.0       3.0         3         0        NaN   \n",
       "\n",
       "   ALTERSKATEGORIE_GROB  \n",
       "0                     4  \n",
       "1                     3  \n",
       "2                     4  \n",
       "3                     4  \n",
       "4                     3  \n",
       "\n",
       "[5 rows x 330 columns]"
      ]
     },
     "execution_count": 168,
     "metadata": {},
     "output_type": "execute_result"
    }
   ],
   "source": [
    "mailout_train_reduced = clean_mailout_data(mailout_train, unknown_values_dict, columns_to_drop, hidden_missing_data)\n",
    "mailout_train_reduced.head()"
   ]
  },
  {
   "cell_type": "code",
   "execution_count": 169,
   "metadata": {
    "scrolled": false
   },
   "outputs": [
    {
     "data": {
      "text/plain": [
       "(42962, 330)"
      ]
     },
     "execution_count": 169,
     "metadata": {},
     "output_type": "execute_result"
    }
   ],
   "source": [
    "mailout_train_reduced.shape"
   ]
  },
  {
   "cell_type": "code",
   "execution_count": 170,
   "metadata": {
    "scrolled": true
   },
   "outputs": [],
   "source": [
    "response_df = pd.DataFrame(mailout_train_reduced['RESPONSE'].values, columns = ['RESPONSE'])\n",
    "mailout_train_features = mailout_train_reduced.drop(['RESPONSE'], axis = 1)    "
   ]
  },
  {
   "cell_type": "code",
   "execution_count": 172,
   "metadata": {
    "scrolled": true
   },
   "outputs": [],
   "source": [
    "mailout_train_imputed, categorical_columns = impute_mailout_data(mailout_train_features, \n",
    "                                                                 columns_to_drop, \n",
    "                                                                 mail_nominal)"
   ]
  },
  {
   "cell_type": "code",
   "execution_count": 173,
   "metadata": {
    "scrolled": false
   },
   "outputs": [
    {
     "data": {
      "text/plain": [
       "False"
      ]
     },
     "execution_count": 173,
     "metadata": {},
     "output_type": "execute_result"
    }
   ],
   "source": [
    "mailout_train_imputed.isnull().values.any()"
   ]
  },
  {
   "cell_type": "code",
   "execution_count": 174,
   "metadata": {
    "scrolled": true
   },
   "outputs": [
    {
     "data": {
      "text/plain": [
       "0    42430\n",
       "1      532\n",
       "Name: RESPONSE, dtype: int64"
      ]
     },
     "execution_count": 174,
     "metadata": {},
     "output_type": "execute_result"
    }
   ],
   "source": [
    "response_df['RESPONSE'].value_counts()"
   ]
  },
  {
   "cell_type": "markdown",
   "metadata": {},
   "source": [
    "### Encode and scale the \"mailout\" data set"
   ]
  },
  {
   "cell_type": "code",
   "execution_count": 176,
   "metadata": {
    "scrolled": true
   },
   "outputs": [
    {
     "data": {
      "text/plain": [
       "(42962, 458)"
      ]
     },
     "execution_count": 176,
     "metadata": {},
     "output_type": "execute_result"
    }
   ],
   "source": [
    "mailout_train_scaled_df = encode_and_scale_mailout_data(mailout_train_imputed, categorical_columns)\n",
    "mailout_train_scaled_df.shape"
   ]
  },
  {
   "cell_type": "code",
   "execution_count": 177,
   "metadata": {
    "scrolled": true
   },
   "outputs": [
    {
     "data": {
      "text/html": [
       "<div>\n",
       "<style scoped>\n",
       "    .dataframe tbody tr th:only-of-type {\n",
       "        vertical-align: middle;\n",
       "    }\n",
       "\n",
       "    .dataframe tbody tr th {\n",
       "        vertical-align: top;\n",
       "    }\n",
       "\n",
       "    .dataframe thead th {\n",
       "        text-align: right;\n",
       "    }\n",
       "</style>\n",
       "<table border=\"1\" class=\"dataframe\">\n",
       "  <thead>\n",
       "    <tr style=\"text-align: right;\">\n",
       "      <th></th>\n",
       "      <th>AKT_DAT_KL</th>\n",
       "      <th>ALTER_HH</th>\n",
       "      <th>ALTERSKATEGORIE_FEIN</th>\n",
       "      <th>ANZ_HAUSHALTE_AKTIV</th>\n",
       "      <th>ANZ_KINDER</th>\n",
       "      <th>ANZ_PERSONEN</th>\n",
       "      <th>ANZ_STATISTISCHE_HAUSHALTE</th>\n",
       "      <th>ARBEIT</th>\n",
       "      <th>BALLRAUM</th>\n",
       "      <th>CAMEO_DEUG_2015</th>\n",
       "      <th>...</th>\n",
       "      <th>D19_LETZTER_KAUF_BRANCHE_D19_SONSTIGE</th>\n",
       "      <th>D19_LETZTER_KAUF_BRANCHE_D19_TECHNIK</th>\n",
       "      <th>D19_LETZTER_KAUF_BRANCHE_D19_TELKO_MOBILE</th>\n",
       "      <th>D19_LETZTER_KAUF_BRANCHE_D19_TELKO_REST</th>\n",
       "      <th>D19_LETZTER_KAUF_BRANCHE_D19_TIERARTIKEL</th>\n",
       "      <th>D19_LETZTER_KAUF_BRANCHE_D19_UNBEKANNT</th>\n",
       "      <th>D19_LETZTER_KAUF_BRANCHE_D19_VERSAND_REST</th>\n",
       "      <th>D19_LETZTER_KAUF_BRANCHE_D19_VERSICHERUNGEN</th>\n",
       "      <th>D19_LETZTER_KAUF_BRANCHE_D19_VOLLSORTIMENT</th>\n",
       "      <th>D19_LETZTER_KAUF_BRANCHE_D19_WEIN_FEINKOST</th>\n",
       "    </tr>\n",
       "  </thead>\n",
       "  <tbody>\n",
       "    <tr>\n",
       "      <th>0</th>\n",
       "      <td>-0.294146</td>\n",
       "      <td>0.243780</td>\n",
       "      <td>0.306852</td>\n",
       "      <td>1.643132</td>\n",
       "      <td>-0.507373</td>\n",
       "      <td>-0.610154</td>\n",
       "      <td>1.579700</td>\n",
       "      <td>0.408840</td>\n",
       "      <td>0.708125</td>\n",
       "      <td>0.502711</td>\n",
       "      <td>...</td>\n",
       "      <td>-0.261662</td>\n",
       "      <td>-0.094717</td>\n",
       "      <td>-0.113246</td>\n",
       "      <td>-0.112718</td>\n",
       "      <td>-0.052032</td>\n",
       "      <td>1.185532</td>\n",
       "      <td>-0.138797</td>\n",
       "      <td>-0.257011</td>\n",
       "      <td>-0.23723</td>\n",
       "      <td>-0.085392</td>\n",
       "    </tr>\n",
       "    <tr>\n",
       "      <th>1</th>\n",
       "      <td>2.299651</td>\n",
       "      <td>0.737730</td>\n",
       "      <td>0.789100</td>\n",
       "      <td>-0.705536</td>\n",
       "      <td>-0.507373</td>\n",
       "      <td>0.334210</td>\n",
       "      <td>-0.705277</td>\n",
       "      <td>-0.373297</td>\n",
       "      <td>0.708125</td>\n",
       "      <td>0.502711</td>\n",
       "      <td>...</td>\n",
       "      <td>-0.261662</td>\n",
       "      <td>-0.094717</td>\n",
       "      <td>8.830304</td>\n",
       "      <td>-0.112718</td>\n",
       "      <td>-0.052032</td>\n",
       "      <td>-0.843503</td>\n",
       "      <td>-0.138797</td>\n",
       "      <td>-0.257011</td>\n",
       "      <td>-0.23723</td>\n",
       "      <td>-0.085392</td>\n",
       "    </tr>\n",
       "    <tr>\n",
       "      <th>2</th>\n",
       "      <td>-0.294146</td>\n",
       "      <td>0.361569</td>\n",
       "      <td>0.178295</td>\n",
       "      <td>-1.488425</td>\n",
       "      <td>-0.507373</td>\n",
       "      <td>-2.224555</td>\n",
       "      <td>-0.705277</td>\n",
       "      <td>1.015513</td>\n",
       "      <td>-1.235171</td>\n",
       "      <td>-0.716065</td>\n",
       "      <td>...</td>\n",
       "      <td>-0.261662</td>\n",
       "      <td>-0.094717</td>\n",
       "      <td>-0.113246</td>\n",
       "      <td>-0.112718</td>\n",
       "      <td>-0.052032</td>\n",
       "      <td>-0.843503</td>\n",
       "      <td>-0.138797</td>\n",
       "      <td>-0.257011</td>\n",
       "      <td>-0.23723</td>\n",
       "      <td>-0.085392</td>\n",
       "    </tr>\n",
       "    <tr>\n",
       "      <th>3</th>\n",
       "      <td>-0.294146</td>\n",
       "      <td>-0.037178</td>\n",
       "      <td>0.032549</td>\n",
       "      <td>0.329388</td>\n",
       "      <td>-0.507373</td>\n",
       "      <td>0.334210</td>\n",
       "      <td>0.370673</td>\n",
       "      <td>1.015513</td>\n",
       "      <td>-0.517958</td>\n",
       "      <td>-0.716065</td>\n",
       "      <td>...</td>\n",
       "      <td>-0.261662</td>\n",
       "      <td>-0.094717</td>\n",
       "      <td>-0.113246</td>\n",
       "      <td>-0.112718</td>\n",
       "      <td>-0.052032</td>\n",
       "      <td>1.185532</td>\n",
       "      <td>-0.138797</td>\n",
       "      <td>-0.257011</td>\n",
       "      <td>-0.23723</td>\n",
       "      <td>-0.085392</td>\n",
       "    </tr>\n",
       "    <tr>\n",
       "      <th>4</th>\n",
       "      <td>-0.294146</td>\n",
       "      <td>0.361569</td>\n",
       "      <td>0.421850</td>\n",
       "      <td>3.017015</td>\n",
       "      <td>-0.507373</td>\n",
       "      <td>-0.610154</td>\n",
       "      <td>2.950755</td>\n",
       "      <td>0.408840</td>\n",
       "      <td>0.385623</td>\n",
       "      <td>1.008548</td>\n",
       "      <td>...</td>\n",
       "      <td>-0.261662</td>\n",
       "      <td>-0.094717</td>\n",
       "      <td>-0.113246</td>\n",
       "      <td>-0.112718</td>\n",
       "      <td>-0.052032</td>\n",
       "      <td>-0.843503</td>\n",
       "      <td>-0.138797</td>\n",
       "      <td>-0.257011</td>\n",
       "      <td>-0.23723</td>\n",
       "      <td>-0.085392</td>\n",
       "    </tr>\n",
       "  </tbody>\n",
       "</table>\n",
       "<p>5 rows × 458 columns</p>\n",
       "</div>"
      ],
      "text/plain": [
       "   AKT_DAT_KL  ALTER_HH  ALTERSKATEGORIE_FEIN  ANZ_HAUSHALTE_AKTIV  \\\n",
       "0   -0.294146  0.243780              0.306852             1.643132   \n",
       "1    2.299651  0.737730              0.789100            -0.705536   \n",
       "2   -0.294146  0.361569              0.178295            -1.488425   \n",
       "3   -0.294146 -0.037178              0.032549             0.329388   \n",
       "4   -0.294146  0.361569              0.421850             3.017015   \n",
       "\n",
       "   ANZ_KINDER  ANZ_PERSONEN  ANZ_STATISTISCHE_HAUSHALTE    ARBEIT  BALLRAUM  \\\n",
       "0   -0.507373     -0.610154                    1.579700  0.408840  0.708125   \n",
       "1   -0.507373      0.334210                   -0.705277 -0.373297  0.708125   \n",
       "2   -0.507373     -2.224555                   -0.705277  1.015513 -1.235171   \n",
       "3   -0.507373      0.334210                    0.370673  1.015513 -0.517958   \n",
       "4   -0.507373     -0.610154                    2.950755  0.408840  0.385623   \n",
       "\n",
       "   CAMEO_DEUG_2015  ...  D19_LETZTER_KAUF_BRANCHE_D19_SONSTIGE  \\\n",
       "0         0.502711  ...                              -0.261662   \n",
       "1         0.502711  ...                              -0.261662   \n",
       "2        -0.716065  ...                              -0.261662   \n",
       "3        -0.716065  ...                              -0.261662   \n",
       "4         1.008548  ...                              -0.261662   \n",
       "\n",
       "   D19_LETZTER_KAUF_BRANCHE_D19_TECHNIK  \\\n",
       "0                             -0.094717   \n",
       "1                             -0.094717   \n",
       "2                             -0.094717   \n",
       "3                             -0.094717   \n",
       "4                             -0.094717   \n",
       "\n",
       "   D19_LETZTER_KAUF_BRANCHE_D19_TELKO_MOBILE  \\\n",
       "0                                  -0.113246   \n",
       "1                                   8.830304   \n",
       "2                                  -0.113246   \n",
       "3                                  -0.113246   \n",
       "4                                  -0.113246   \n",
       "\n",
       "   D19_LETZTER_KAUF_BRANCHE_D19_TELKO_REST  \\\n",
       "0                                -0.112718   \n",
       "1                                -0.112718   \n",
       "2                                -0.112718   \n",
       "3                                -0.112718   \n",
       "4                                -0.112718   \n",
       "\n",
       "   D19_LETZTER_KAUF_BRANCHE_D19_TIERARTIKEL  \\\n",
       "0                                 -0.052032   \n",
       "1                                 -0.052032   \n",
       "2                                 -0.052032   \n",
       "3                                 -0.052032   \n",
       "4                                 -0.052032   \n",
       "\n",
       "   D19_LETZTER_KAUF_BRANCHE_D19_UNBEKANNT  \\\n",
       "0                                1.185532   \n",
       "1                               -0.843503   \n",
       "2                               -0.843503   \n",
       "3                                1.185532   \n",
       "4                               -0.843503   \n",
       "\n",
       "   D19_LETZTER_KAUF_BRANCHE_D19_VERSAND_REST  \\\n",
       "0                                  -0.138797   \n",
       "1                                  -0.138797   \n",
       "2                                  -0.138797   \n",
       "3                                  -0.138797   \n",
       "4                                  -0.138797   \n",
       "\n",
       "   D19_LETZTER_KAUF_BRANCHE_D19_VERSICHERUNGEN  \\\n",
       "0                                    -0.257011   \n",
       "1                                    -0.257011   \n",
       "2                                    -0.257011   \n",
       "3                                    -0.257011   \n",
       "4                                    -0.257011   \n",
       "\n",
       "   D19_LETZTER_KAUF_BRANCHE_D19_VOLLSORTIMENT  \\\n",
       "0                                    -0.23723   \n",
       "1                                    -0.23723   \n",
       "2                                    -0.23723   \n",
       "3                                    -0.23723   \n",
       "4                                    -0.23723   \n",
       "\n",
       "   D19_LETZTER_KAUF_BRANCHE_D19_WEIN_FEINKOST  \n",
       "0                                   -0.085392  \n",
       "1                                   -0.085392  \n",
       "2                                   -0.085392  \n",
       "3                                   -0.085392  \n",
       "4                                   -0.085392  \n",
       "\n",
       "[5 rows x 458 columns]"
      ]
     },
     "execution_count": 177,
     "metadata": {},
     "output_type": "execute_result"
    }
   ],
   "source": [
    "mailout_train_scaled_df.head()"
   ]
  },
  {
   "cell_type": "code",
   "execution_count": 178,
   "metadata": {
    "scrolled": true
   },
   "outputs": [
    {
     "data": {
      "text/plain": [
       "False"
      ]
     },
     "execution_count": 178,
     "metadata": {},
     "output_type": "execute_result"
    }
   ],
   "source": [
    "mailout_train_scaled_df.isnull().values.any()"
   ]
  },
  {
   "cell_type": "markdown",
   "metadata": {},
   "source": [
    "### Create train and validation data sets"
   ]
  },
  {
   "cell_type": "code",
   "execution_count": 180,
   "metadata": {
    "scrolled": true
   },
   "outputs": [],
   "source": [
    "train_y = response_df\n",
    "train_x = mailout_train_scaled_df"
   ]
  },
  {
   "cell_type": "code",
   "execution_count": 182,
   "metadata": {
    "scrolled": true
   },
   "outputs": [],
   "source": [
    "X_train, X_validation, y_train, y_validation = train_test_split(train_x, train_y, test_size = 0.2, random_state = 37)"
   ]
  },
  {
   "cell_type": "markdown",
   "metadata": {},
   "source": [
    "### Train logistic regression model as a benchmark"
   ]
  },
  {
   "cell_type": "code",
   "execution_count": 185,
   "metadata": {
    "scrolled": true
   },
   "outputs": [
    {
     "name": "stderr",
     "output_type": "stream",
     "text": [
      "/Users/vajolukic/anaconda3/lib/python3.7/site-packages/sklearn/linear_model/_logistic.py:940: ConvergenceWarning: lbfgs failed to converge (status=1):\n",
      "STOP: TOTAL NO. of ITERATIONS REACHED LIMIT.\n",
      "\n",
      "Increase the number of iterations (max_iter) or scale the data as shown in:\n",
      "    https://scikit-learn.org/stable/modules/preprocessing.html\n",
      "Please also refer to the documentation for alternative solver options:\n",
      "    https://scikit-learn.org/stable/modules/linear_model.html#logistic-regression\n",
      "  extra_warning_msg=_LOGISTIC_SOLVER_CONVERGENCE_MSG)\n"
     ]
    },
    {
     "data": {
      "text/plain": [
       "LogisticRegression(C=1.0, class_weight=None, dual=False, fit_intercept=True,\n",
       "                   intercept_scaling=1, l1_ratio=None, max_iter=100,\n",
       "                   multi_class='auto', n_jobs=None, penalty='l2',\n",
       "                   random_state=37, solver='lbfgs', tol=0.0001, verbose=0,\n",
       "                   warm_start=False)"
      ]
     },
     "execution_count": 185,
     "metadata": {},
     "output_type": "execute_result"
    }
   ],
   "source": [
    "lr = LogisticRegression(random_state = 37)\n",
    "lr.fit(X_train, y_train.values.ravel())"
   ]
  },
  {
   "cell_type": "code",
   "execution_count": 186,
   "metadata": {
    "scrolled": true
   },
   "outputs": [],
   "source": [
    "y_pred = lr.predict_proba(X_validation)[:,1]"
   ]
  },
  {
   "cell_type": "code",
   "execution_count": 187,
   "metadata": {
    "scrolled": true
   },
   "outputs": [
    {
     "name": "stdout",
     "output_type": "stream",
     "text": [
      "Accuracy on validation set: 0.99\n",
      "Logistic regression ROC-AUC: 0.61\n"
     ]
    }
   ],
   "source": [
    "print('Accuracy on validation set: {:.2f}'.format(lr.score(X_validation, y_validation)))\n",
    "print('Logistic regression ROC-AUC: {:.2f}'.format(roc_auc_score(y_validation, y_pred)))"
   ]
  },
  {
   "cell_type": "markdown",
   "metadata": {},
   "source": [
    "### Try various classification models"
   ]
  },
  {
   "cell_type": "code",
   "execution_count": 188,
   "metadata": {
    "scrolled": true
   },
   "outputs": [],
   "source": [
    "warnings.filterwarnings(\"ignore\")\n",
    "\n",
    "n_jobs = -1\n",
    "models = [\n",
    "    ('LR', LogisticRegression(n_jobs = -1)), \n",
    "    ('XGB', XGBClassifier(nthread = -1)),\n",
    "    ('GNB', GaussianNB()),\n",
    "    ('KNN', KNeighborsClassifier(n_neighbors=5,n_jobs = -1)),\n",
    "    ('AB', AdaBoostClassifier()),  \n",
    "    ('RF', RandomForestClassifier(n_jobs = -1)),\n",
    "    (\"GRB\", GradientBoostingClassifier())\n",
    "]\n",
    "\n",
    "results = []\n",
    "names = []"
   ]
  },
  {
   "cell_type": "code",
   "execution_count": 189,
   "metadata": {
    "scrolled": true
   },
   "outputs": [
    {
     "name": "stdout",
     "output_type": "stream",
     "text": [
      "[12:51:34] WARNING: /Users/travis/build/dmlc/xgboost/src/learner.cc:1095: Starting in XGBoost 1.3.0, the default evaluation metric used with the objective 'binary:logistic' was changed from 'error' to 'logloss'. Explicitly set eval_metric if you'd like to restore the old behavior.\n"
     ]
    }
   ],
   "source": [
    "for name, model in models:\n",
    "    model = model.fit(X_train, y_train.values.ravel())\n",
    "    y_pred = model.predict_proba(X_validation)[:,1]\n",
    "    roc_score = roc_auc_score(y_validation, y_pred)\n",
    "\n",
    "    results.append(roc_score)\n",
    "    names.append(name)\n",
    "\n",
    "result_df = pd.DataFrame(list(zip(names, results)), columns = ['Model', 'Score'])"
   ]
  },
  {
   "cell_type": "code",
   "execution_count": 190,
   "metadata": {
    "scrolled": true
   },
   "outputs": [
    {
     "data": {
      "text/html": [
       "<div>\n",
       "<style scoped>\n",
       "    .dataframe tbody tr th:only-of-type {\n",
       "        vertical-align: middle;\n",
       "    }\n",
       "\n",
       "    .dataframe tbody tr th {\n",
       "        vertical-align: top;\n",
       "    }\n",
       "\n",
       "    .dataframe thead th {\n",
       "        text-align: right;\n",
       "    }\n",
       "</style>\n",
       "<table border=\"1\" class=\"dataframe\">\n",
       "  <thead>\n",
       "    <tr style=\"text-align: right;\">\n",
       "      <th></th>\n",
       "      <th>Model</th>\n",
       "      <th>Score</th>\n",
       "    </tr>\n",
       "  </thead>\n",
       "  <tbody>\n",
       "    <tr>\n",
       "      <th>0</th>\n",
       "      <td>LR</td>\n",
       "      <td>0.611429</td>\n",
       "    </tr>\n",
       "    <tr>\n",
       "      <th>1</th>\n",
       "      <td>XGB</td>\n",
       "      <td>0.639996</td>\n",
       "    </tr>\n",
       "    <tr>\n",
       "      <th>2</th>\n",
       "      <td>GNB</td>\n",
       "      <td>0.509893</td>\n",
       "    </tr>\n",
       "    <tr>\n",
       "      <th>3</th>\n",
       "      <td>KNN</td>\n",
       "      <td>0.516694</td>\n",
       "    </tr>\n",
       "    <tr>\n",
       "      <th>4</th>\n",
       "      <td>AB</td>\n",
       "      <td>0.727124</td>\n",
       "    </tr>\n",
       "    <tr>\n",
       "      <th>5</th>\n",
       "      <td>RF</td>\n",
       "      <td>0.571227</td>\n",
       "    </tr>\n",
       "    <tr>\n",
       "      <th>6</th>\n",
       "      <td>GRB</td>\n",
       "      <td>0.753262</td>\n",
       "    </tr>\n",
       "  </tbody>\n",
       "</table>\n",
       "</div>"
      ],
      "text/plain": [
       "  Model     Score\n",
       "0    LR  0.611429\n",
       "1   XGB  0.639996\n",
       "2   GNB  0.509893\n",
       "3   KNN  0.516694\n",
       "4    AB  0.727124\n",
       "5    RF  0.571227\n",
       "6   GRB  0.753262"
      ]
     },
     "execution_count": 190,
     "metadata": {},
     "output_type": "execute_result"
    }
   ],
   "source": [
    "result_df"
   ]
  },
  {
   "cell_type": "markdown",
   "metadata": {},
   "source": [
    "It seams that the \"Gradient boosting\" model has the best score. We will tune hyper parameters of that mdoel further."
   ]
  },
  {
   "cell_type": "markdown",
   "metadata": {},
   "source": [
    "### Hyperparameter tuning"
   ]
  },
  {
   "cell_type": "code",
   "execution_count": 195,
   "metadata": {
    "scrolled": true
   },
   "outputs": [],
   "source": [
    "parameters = {\n",
    "    \"learning_rate\": [0.05, 0.1, 0.5, 1],\n",
    "    \"max_depth\": [3, 5, 7, 9],\n",
    "    \"n_estimators\": [50, 100, 150, 200],\n",
    "    \"max_features\": [25, 50, 75, 100]\n",
    "    }\n",
    "        \n",
    "clf = GridSearchCV(GradientBoostingClassifier(), \n",
    "                   parameters, \n",
    "                   scoring = 'roc_auc', \n",
    "                   n_jobs = -1,\n",
    "                   cv = 5,\n",
    "                   verbose = 10)"
   ]
  },
  {
   "cell_type": "code",
   "execution_count": 196,
   "metadata": {
    "scrolled": true
   },
   "outputs": [
    {
     "name": "stdout",
     "output_type": "stream",
     "text": [
      "Fitting 5 folds for each of 256 candidates, totalling 1280 fits\n"
     ]
    },
    {
     "name": "stderr",
     "output_type": "stream",
     "text": [
      "[Parallel(n_jobs=-1)]: Using backend LokyBackend with 16 concurrent workers.\n",
      "[Parallel(n_jobs=-1)]: Done   9 tasks      | elapsed:    5.8s\n",
      "[Parallel(n_jobs=-1)]: Done  18 tasks      | elapsed:    9.9s\n",
      "[Parallel(n_jobs=-1)]: Done  29 tasks      | elapsed:   16.2s\n",
      "[Parallel(n_jobs=-1)]: Done  40 tasks      | elapsed:   22.8s\n",
      "[Parallel(n_jobs=-1)]: Done  53 tasks      | elapsed:   40.8s\n",
      "[Parallel(n_jobs=-1)]: Done  66 tasks      | elapsed:   54.5s\n",
      "[Parallel(n_jobs=-1)]: Done  81 tasks      | elapsed:  1.1min\n",
      "[Parallel(n_jobs=-1)]: Done  96 tasks      | elapsed:  1.4min\n",
      "[Parallel(n_jobs=-1)]: Done 113 tasks      | elapsed:  1.9min\n",
      "[Parallel(n_jobs=-1)]: Done 130 tasks      | elapsed:  2.3min\n",
      "[Parallel(n_jobs=-1)]: Done 149 tasks      | elapsed:  3.0min\n",
      "[Parallel(n_jobs=-1)]: Done 168 tasks      | elapsed:  3.6min\n",
      "[Parallel(n_jobs=-1)]: Done 189 tasks      | elapsed:  4.1min\n",
      "[Parallel(n_jobs=-1)]: Done 210 tasks      | elapsed:  5.0min\n",
      "[Parallel(n_jobs=-1)]: Done 233 tasks      | elapsed:  6.2min\n",
      "[Parallel(n_jobs=-1)]: Done 256 tasks      | elapsed:  7.4min\n",
      "[Parallel(n_jobs=-1)]: Done 281 tasks      | elapsed:  8.7min\n",
      "[Parallel(n_jobs=-1)]: Done 306 tasks      | elapsed: 10.5min\n",
      "[Parallel(n_jobs=-1)]: Done 333 tasks      | elapsed: 11.1min\n",
      "[Parallel(n_jobs=-1)]: Done 360 tasks      | elapsed: 11.8min\n",
      "[Parallel(n_jobs=-1)]: Done 389 tasks      | elapsed: 12.6min\n",
      "[Parallel(n_jobs=-1)]: Done 418 tasks      | elapsed: 13.2min\n",
      "[Parallel(n_jobs=-1)]: Done 449 tasks      | elapsed: 14.0min\n",
      "[Parallel(n_jobs=-1)]: Done 480 tasks      | elapsed: 15.1min\n",
      "[Parallel(n_jobs=-1)]: Done 513 tasks      | elapsed: 16.3min\n",
      "[Parallel(n_jobs=-1)]: Done 546 tasks      | elapsed: 17.9min\n",
      "[Parallel(n_jobs=-1)]: Done 581 tasks      | elapsed: 19.2min\n",
      "[Parallel(n_jobs=-1)]: Done 616 tasks      | elapsed: 21.3min\n",
      "[Parallel(n_jobs=-1)]: Done 653 tasks      | elapsed: 22.7min\n",
      "[Parallel(n_jobs=-1)]: Done 690 tasks      | elapsed: 23.6min\n",
      "[Parallel(n_jobs=-1)]: Done 729 tasks      | elapsed: 24.4min\n",
      "[Parallel(n_jobs=-1)]: Done 768 tasks      | elapsed: 25.4min\n",
      "[Parallel(n_jobs=-1)]: Done 809 tasks      | elapsed: 26.7min\n",
      "[Parallel(n_jobs=-1)]: Done 850 tasks      | elapsed: 27.9min\n",
      "[Parallel(n_jobs=-1)]: Done 893 tasks      | elapsed: 29.5min\n",
      "[Parallel(n_jobs=-1)]: Done 936 tasks      | elapsed: 31.0min\n",
      "[Parallel(n_jobs=-1)]: Done 981 tasks      | elapsed: 32.2min\n",
      "[Parallel(n_jobs=-1)]: Done 1026 tasks      | elapsed: 33.1min\n",
      "[Parallel(n_jobs=-1)]: Done 1073 tasks      | elapsed: 34.2min\n",
      "[Parallel(n_jobs=-1)]: Done 1120 tasks      | elapsed: 35.8min\n",
      "[Parallel(n_jobs=-1)]: Done 1169 tasks      | elapsed: 37.5min\n",
      "[Parallel(n_jobs=-1)]: Done 1218 tasks      | elapsed: 39.9min\n",
      "[Parallel(n_jobs=-1)]: Done 1280 out of 1280 | elapsed: 44.4min finished\n"
     ]
    },
    {
     "data": {
      "text/plain": [
       "GridSearchCV(cv=5, error_score=nan,\n",
       "             estimator=GradientBoostingClassifier(ccp_alpha=0.0,\n",
       "                                                  criterion='friedman_mse',\n",
       "                                                  init=None, learning_rate=0.1,\n",
       "                                                  loss='deviance', max_depth=3,\n",
       "                                                  max_features=None,\n",
       "                                                  max_leaf_nodes=None,\n",
       "                                                  min_impurity_decrease=0.0,\n",
       "                                                  min_impurity_split=None,\n",
       "                                                  min_samples_leaf=1,\n",
       "                                                  min_samples_split=2,\n",
       "                                                  min_weight_fraction_leaf=0.0,\n",
       "                                                  n_estimators=100,\n",
       "                                                  n_iter_no_c...\n",
       "                                                  presort='deprecated',\n",
       "                                                  random_state=None,\n",
       "                                                  subsample=1.0, tol=0.0001,\n",
       "                                                  validation_fraction=0.1,\n",
       "                                                  verbose=0, warm_start=False),\n",
       "             iid='deprecated', n_jobs=-1,\n",
       "             param_grid={'learning_rate': [0.05, 0.1, 0.5, 1],\n",
       "                         'max_depth': [3, 5, 7, 9],\n",
       "                         'max_features': [25, 50, 75, 100],\n",
       "                         'n_estimators': [50, 100, 150, 200]},\n",
       "             pre_dispatch='2*n_jobs', refit=True, return_train_score=False,\n",
       "             scoring='roc_auc', verbose=10)"
      ]
     },
     "execution_count": 196,
     "metadata": {},
     "output_type": "execute_result"
    }
   ],
   "source": [
    "clf.fit(X_train, y_train.values.ravel())"
   ]
  },
  {
   "cell_type": "code",
   "execution_count": 203,
   "metadata": {
    "scrolled": true
   },
   "outputs": [
    {
     "name": "stdout",
     "output_type": "stream",
     "text": [
      "Best estimator on validation data: GradientBoostingClassifier(ccp_alpha=0.0, criterion='friedman_mse', init=None,\n",
      "                           learning_rate=0.05, loss='deviance', max_depth=3,\n",
      "                           max_features=100, max_leaf_nodes=None,\n",
      "                           min_impurity_decrease=0.0, min_impurity_split=None,\n",
      "                           min_samples_leaf=1, min_samples_split=2,\n",
      "                           min_weight_fraction_leaf=0.0, n_estimators=100,\n",
      "                           n_iter_no_change=None, presort='deprecated',\n",
      "                           random_state=None, subsample=1.0, tol=0.0001,\n",
      "                           validation_fraction=0.1, verbose=0,\n",
      "                           warm_start=False)\n"
     ]
    }
   ],
   "source": [
    "best_estimator = clf.best_estimator_\n",
    "print(\"Best estimator on validation data: {}\".format(best_estimator))"
   ]
  },
  {
   "cell_type": "code",
   "execution_count": 204,
   "metadata": {
    "scrolled": true
   },
   "outputs": [
    {
     "name": "stdout",
     "output_type": "stream",
     "text": [
      "ROC score on validation data: 0.76\n"
     ]
    }
   ],
   "source": [
    "best_estimator_result = best_estimator.predict_proba(X_validation)[:,1]\n",
    "print(\"ROC score on validation data: {:.2f}\".format(roc_auc_score(y_validation, best_estimator_result)))"
   ]
  },
  {
   "cell_type": "code",
   "execution_count": 205,
   "metadata": {
    "scrolled": true
   },
   "outputs": [
    {
     "data": {
      "text/plain": [
       "<AxesSubplot:>"
      ]
     },
     "execution_count": 205,
     "metadata": {},
     "output_type": "execute_result"
    },
    {
     "data": {
      "image/png": "[encoded data removed]",
      "text/plain": [
       "<Figure size 864x432 with 1 Axes>"
      ]
     },
     "metadata": {
      "needs_background": "light"
     },
     "output_type": "display_data"
    }
   ],
   "source": [
    "feature_importances = pd.Series(best_estimator.feature_importances_, index = X_train.columns)\n",
    "feature_importances.nlargest(10).plot(kind = 'barh', figsize = (12, 6))"
   ]
  },
  {
   "cell_type": "markdown",
   "metadata": {},
   "source": [
    "## Part 3: Kaggle Competition\n",
    "\n",
    "Now that you've created a model to predict which individuals are most likely to respond to a mailout campaign, it's time to test that model in competition through Kaggle. If you click on the link [here](http://www.kaggle.com/t/21e6d45d4c574c7fa2d868f0e8c83140), you'll be taken to the competition page where, if you have a Kaggle account, you can enter.\n",
    "\n",
    "Your entry to the competition should be a CSV file with two columns. The first column should be a copy of \"LNR\", which acts as an ID number for each individual in the \"TEST\" partition. The second column, \"RESPONSE\", should be some measure of how likely each individual became a customer – this might not be a straightforward probability. As you should have found in Part 2, there is a large output class imbalance, where most individuals did not respond to the mailout. Thus, predicting individual classes and using accuracy does not seem to be an appropriate performance evaluation method. Instead, the competition will be using AUC to evaluate performance. The exact values of the \"RESPONSE\" column do not matter as much: only that the higher values try to capture as many of the actual customers as possible, early in the ROC curve sweep."
   ]
  },
  {
   "cell_type": "markdown",
   "metadata": {},
   "source": [
    "### Loading test data set"
   ]
  },
  {
   "cell_type": "markdown",
   "metadata": {},
   "source": [
    "Let's load the test data set..."
   ]
  },
  {
   "cell_type": "code",
   "execution_count": 233,
   "metadata": {
    "scrolled": true
   },
   "outputs": [],
   "source": [
    "mailout_test = pd.read_csv('data/Udacity_MAILOUT_052018_TEST.csv', sep=';')"
   ]
  },
  {
   "cell_type": "markdown",
   "metadata": {},
   "source": [
    "### Observing the data set"
   ]
  },
  {
   "cell_type": "markdown",
   "metadata": {},
   "source": [
    "We have to look at the data in this data set and find out if there are any missing values for example."
   ]
  },
  {
   "cell_type": "code",
   "execution_count": 234,
   "metadata": {
    "scrolled": true
   },
   "outputs": [
    {
     "data": {
      "text/plain": [
       "(42833, 366)"
      ]
     },
     "execution_count": 234,
     "metadata": {},
     "output_type": "execute_result"
    }
   ],
   "source": [
    "mailout_test.shape"
   ]
  },
  {
   "cell_type": "code",
   "execution_count": 235,
   "metadata": {
    "scrolled": true
   },
   "outputs": [
    {
     "data": {
      "text/html": [
       "<div>\n",
       "<style scoped>\n",
       "    .dataframe tbody tr th:only-of-type {\n",
       "        vertical-align: middle;\n",
       "    }\n",
       "\n",
       "    .dataframe tbody tr th {\n",
       "        vertical-align: top;\n",
       "    }\n",
       "\n",
       "    .dataframe thead th {\n",
       "        text-align: right;\n",
       "    }\n",
       "</style>\n",
       "<table border=\"1\" class=\"dataframe\">\n",
       "  <thead>\n",
       "    <tr style=\"text-align: right;\">\n",
       "      <th></th>\n",
       "      <th>LNR</th>\n",
       "      <th>AGER_TYP</th>\n",
       "      <th>AKT_DAT_KL</th>\n",
       "      <th>ALTER_HH</th>\n",
       "      <th>ALTER_KIND1</th>\n",
       "      <th>ALTER_KIND2</th>\n",
       "      <th>ALTER_KIND3</th>\n",
       "      <th>ALTER_KIND4</th>\n",
       "      <th>ALTERSKATEGORIE_FEIN</th>\n",
       "      <th>ANZ_HAUSHALTE_AKTIV</th>\n",
       "      <th>...</th>\n",
       "      <th>VHN</th>\n",
       "      <th>VK_DHT4A</th>\n",
       "      <th>VK_DISTANZ</th>\n",
       "      <th>VK_ZG11</th>\n",
       "      <th>W_KEIT_KIND_HH</th>\n",
       "      <th>WOHNDAUER_2008</th>\n",
       "      <th>WOHNLAGE</th>\n",
       "      <th>ZABEOTYP</th>\n",
       "      <th>ANREDE_KZ</th>\n",
       "      <th>ALTERSKATEGORIE_GROB</th>\n",
       "    </tr>\n",
       "  </thead>\n",
       "  <tbody>\n",
       "    <tr>\n",
       "      <th>0</th>\n",
       "      <td>1754</td>\n",
       "      <td>2</td>\n",
       "      <td>1.0</td>\n",
       "      <td>7.0</td>\n",
       "      <td>NaN</td>\n",
       "      <td>NaN</td>\n",
       "      <td>NaN</td>\n",
       "      <td>NaN</td>\n",
       "      <td>6.0</td>\n",
       "      <td>2.0</td>\n",
       "      <td>...</td>\n",
       "      <td>4.0</td>\n",
       "      <td>5.0</td>\n",
       "      <td>6.0</td>\n",
       "      <td>3.0</td>\n",
       "      <td>6.0</td>\n",
       "      <td>9.0</td>\n",
       "      <td>3.0</td>\n",
       "      <td>3</td>\n",
       "      <td>1</td>\n",
       "      <td>4</td>\n",
       "    </tr>\n",
       "    <tr>\n",
       "      <th>1</th>\n",
       "      <td>1770</td>\n",
       "      <td>-1</td>\n",
       "      <td>1.0</td>\n",
       "      <td>0.0</td>\n",
       "      <td>NaN</td>\n",
       "      <td>NaN</td>\n",
       "      <td>NaN</td>\n",
       "      <td>NaN</td>\n",
       "      <td>0.0</td>\n",
       "      <td>20.0</td>\n",
       "      <td>...</td>\n",
       "      <td>1.0</td>\n",
       "      <td>5.0</td>\n",
       "      <td>2.0</td>\n",
       "      <td>1.0</td>\n",
       "      <td>6.0</td>\n",
       "      <td>9.0</td>\n",
       "      <td>5.0</td>\n",
       "      <td>3</td>\n",
       "      <td>1</td>\n",
       "      <td>4</td>\n",
       "    </tr>\n",
       "    <tr>\n",
       "      <th>2</th>\n",
       "      <td>1465</td>\n",
       "      <td>2</td>\n",
       "      <td>9.0</td>\n",
       "      <td>16.0</td>\n",
       "      <td>NaN</td>\n",
       "      <td>NaN</td>\n",
       "      <td>NaN</td>\n",
       "      <td>NaN</td>\n",
       "      <td>11.0</td>\n",
       "      <td>2.0</td>\n",
       "      <td>...</td>\n",
       "      <td>3.0</td>\n",
       "      <td>9.0</td>\n",
       "      <td>6.0</td>\n",
       "      <td>3.0</td>\n",
       "      <td>2.0</td>\n",
       "      <td>9.0</td>\n",
       "      <td>4.0</td>\n",
       "      <td>3</td>\n",
       "      <td>2</td>\n",
       "      <td>4</td>\n",
       "    </tr>\n",
       "    <tr>\n",
       "      <th>3</th>\n",
       "      <td>1470</td>\n",
       "      <td>-1</td>\n",
       "      <td>7.0</td>\n",
       "      <td>0.0</td>\n",
       "      <td>NaN</td>\n",
       "      <td>NaN</td>\n",
       "      <td>NaN</td>\n",
       "      <td>NaN</td>\n",
       "      <td>0.0</td>\n",
       "      <td>1.0</td>\n",
       "      <td>...</td>\n",
       "      <td>2.0</td>\n",
       "      <td>6.0</td>\n",
       "      <td>6.0</td>\n",
       "      <td>3.0</td>\n",
       "      <td>NaN</td>\n",
       "      <td>9.0</td>\n",
       "      <td>2.0</td>\n",
       "      <td>3</td>\n",
       "      <td>2</td>\n",
       "      <td>4</td>\n",
       "    </tr>\n",
       "    <tr>\n",
       "      <th>4</th>\n",
       "      <td>1478</td>\n",
       "      <td>1</td>\n",
       "      <td>1.0</td>\n",
       "      <td>21.0</td>\n",
       "      <td>NaN</td>\n",
       "      <td>NaN</td>\n",
       "      <td>NaN</td>\n",
       "      <td>NaN</td>\n",
       "      <td>13.0</td>\n",
       "      <td>1.0</td>\n",
       "      <td>...</td>\n",
       "      <td>1.0</td>\n",
       "      <td>2.0</td>\n",
       "      <td>4.0</td>\n",
       "      <td>3.0</td>\n",
       "      <td>3.0</td>\n",
       "      <td>9.0</td>\n",
       "      <td>7.0</td>\n",
       "      <td>4</td>\n",
       "      <td>2</td>\n",
       "      <td>4</td>\n",
       "    </tr>\n",
       "  </tbody>\n",
       "</table>\n",
       "<p>5 rows × 366 columns</p>\n",
       "</div>"
      ],
      "text/plain": [
       "    LNR  AGER_TYP  AKT_DAT_KL  ALTER_HH  ALTER_KIND1  ALTER_KIND2  \\\n",
       "0  1754         2         1.0       7.0          NaN          NaN   \n",
       "1  1770        -1         1.0       0.0          NaN          NaN   \n",
       "2  1465         2         9.0      16.0          NaN          NaN   \n",
       "3  1470        -1         7.0       0.0          NaN          NaN   \n",
       "4  1478         1         1.0      21.0          NaN          NaN   \n",
       "\n",
       "   ALTER_KIND3  ALTER_KIND4  ALTERSKATEGORIE_FEIN  ANZ_HAUSHALTE_AKTIV  ...  \\\n",
       "0          NaN          NaN                   6.0                  2.0  ...   \n",
       "1          NaN          NaN                   0.0                 20.0  ...   \n",
       "2          NaN          NaN                  11.0                  2.0  ...   \n",
       "3          NaN          NaN                   0.0                  1.0  ...   \n",
       "4          NaN          NaN                  13.0                  1.0  ...   \n",
       "\n",
       "   VHN  VK_DHT4A  VK_DISTANZ  VK_ZG11  W_KEIT_KIND_HH  WOHNDAUER_2008  \\\n",
       "0  4.0       5.0         6.0      3.0             6.0             9.0   \n",
       "1  1.0       5.0         2.0      1.0             6.0             9.0   \n",
       "2  3.0       9.0         6.0      3.0             2.0             9.0   \n",
       "3  2.0       6.0         6.0      3.0             NaN             9.0   \n",
       "4  1.0       2.0         4.0      3.0             3.0             9.0   \n",
       "\n",
       "   WOHNLAGE ZABEOTYP ANREDE_KZ ALTERSKATEGORIE_GROB  \n",
       "0       3.0        3         1                    4  \n",
       "1       5.0        3         1                    4  \n",
       "2       4.0        3         2                    4  \n",
       "3       2.0        3         2                    4  \n",
       "4       7.0        4         2                    4  \n",
       "\n",
       "[5 rows x 366 columns]"
      ]
     },
     "execution_count": 235,
     "metadata": {},
     "output_type": "execute_result"
    }
   ],
   "source": [
    "mailout_test.head()"
   ]
  },
  {
   "cell_type": "markdown",
   "metadata": {},
   "source": [
    "Aparently, there are missing values. For that reason we will perform the same data cleaning steps. asin previous cases."
   ]
  },
  {
   "cell_type": "markdown",
   "metadata": {},
   "source": [
    "### Cleaning the test data set"
   ]
  },
  {
   "cell_type": "code",
   "execution_count": 236,
   "metadata": {
    "scrolled": true
   },
   "outputs": [
    {
     "data": {
      "text/html": [
       "<div>\n",
       "<style scoped>\n",
       "    .dataframe tbody tr th:only-of-type {\n",
       "        vertical-align: middle;\n",
       "    }\n",
       "\n",
       "    .dataframe tbody tr th {\n",
       "        vertical-align: top;\n",
       "    }\n",
       "\n",
       "    .dataframe thead th {\n",
       "        text-align: right;\n",
       "    }\n",
       "</style>\n",
       "<table border=\"1\" class=\"dataframe\">\n",
       "  <thead>\n",
       "    <tr style=\"text-align: right;\">\n",
       "      <th></th>\n",
       "      <th>AKT_DAT_KL</th>\n",
       "      <th>ALTER_HH</th>\n",
       "      <th>ALTERSKATEGORIE_FEIN</th>\n",
       "      <th>ANZ_HAUSHALTE_AKTIV</th>\n",
       "      <th>ANZ_KINDER</th>\n",
       "      <th>ANZ_PERSONEN</th>\n",
       "      <th>ANZ_STATISTISCHE_HAUSHALTE</th>\n",
       "      <th>ARBEIT</th>\n",
       "      <th>BALLRAUM</th>\n",
       "      <th>CAMEO_DEU_2015</th>\n",
       "      <th>...</th>\n",
       "      <th>VHN</th>\n",
       "      <th>VK_DHT4A</th>\n",
       "      <th>VK_DISTANZ</th>\n",
       "      <th>VK_ZG11</th>\n",
       "      <th>W_KEIT_KIND_HH</th>\n",
       "      <th>WOHNDAUER_2008</th>\n",
       "      <th>WOHNLAGE</th>\n",
       "      <th>ZABEOTYP</th>\n",
       "      <th>ANREDE_KZ</th>\n",
       "      <th>ALTERSKATEGORIE_GROB</th>\n",
       "    </tr>\n",
       "  </thead>\n",
       "  <tbody>\n",
       "    <tr>\n",
       "      <th>0</th>\n",
       "      <td>1.0</td>\n",
       "      <td>7.0</td>\n",
       "      <td>6.0</td>\n",
       "      <td>2.0</td>\n",
       "      <td>0.0</td>\n",
       "      <td>2.0</td>\n",
       "      <td>2.0</td>\n",
       "      <td>3.0</td>\n",
       "      <td>6.0</td>\n",
       "      <td>2B</td>\n",
       "      <td>...</td>\n",
       "      <td>4.0</td>\n",
       "      <td>5.0</td>\n",
       "      <td>6.0</td>\n",
       "      <td>3.0</td>\n",
       "      <td>6.0</td>\n",
       "      <td>9.0</td>\n",
       "      <td>3.0</td>\n",
       "      <td>3</td>\n",
       "      <td>NaN</td>\n",
       "      <td>4</td>\n",
       "    </tr>\n",
       "    <tr>\n",
       "      <th>1</th>\n",
       "      <td>1.0</td>\n",
       "      <td>NaN</td>\n",
       "      <td>0.0</td>\n",
       "      <td>20.0</td>\n",
       "      <td>0.0</td>\n",
       "      <td>1.0</td>\n",
       "      <td>21.0</td>\n",
       "      <td>4.0</td>\n",
       "      <td>7.0</td>\n",
       "      <td>5A</td>\n",
       "      <td>...</td>\n",
       "      <td>1.0</td>\n",
       "      <td>5.0</td>\n",
       "      <td>2.0</td>\n",
       "      <td>1.0</td>\n",
       "      <td>6.0</td>\n",
       "      <td>9.0</td>\n",
       "      <td>5.0</td>\n",
       "      <td>3</td>\n",
       "      <td>NaN</td>\n",
       "      <td>4</td>\n",
       "    </tr>\n",
       "    <tr>\n",
       "      <th>2</th>\n",
       "      <td>9.0</td>\n",
       "      <td>16.0</td>\n",
       "      <td>11.0</td>\n",
       "      <td>2.0</td>\n",
       "      <td>0.0</td>\n",
       "      <td>4.0</td>\n",
       "      <td>2.0</td>\n",
       "      <td>4.0</td>\n",
       "      <td>1.0</td>\n",
       "      <td>7A</td>\n",
       "      <td>...</td>\n",
       "      <td>3.0</td>\n",
       "      <td>9.0</td>\n",
       "      <td>6.0</td>\n",
       "      <td>3.0</td>\n",
       "      <td>2.0</td>\n",
       "      <td>9.0</td>\n",
       "      <td>4.0</td>\n",
       "      <td>3</td>\n",
       "      <td>1.0</td>\n",
       "      <td>4</td>\n",
       "    </tr>\n",
       "    <tr>\n",
       "      <th>3</th>\n",
       "      <td>7.0</td>\n",
       "      <td>NaN</td>\n",
       "      <td>0.0</td>\n",
       "      <td>1.0</td>\n",
       "      <td>0.0</td>\n",
       "      <td>0.0</td>\n",
       "      <td>1.0</td>\n",
       "      <td>4.0</td>\n",
       "      <td>1.0</td>\n",
       "      <td>2B</td>\n",
       "      <td>...</td>\n",
       "      <td>2.0</td>\n",
       "      <td>6.0</td>\n",
       "      <td>6.0</td>\n",
       "      <td>3.0</td>\n",
       "      <td>NaN</td>\n",
       "      <td>9.0</td>\n",
       "      <td>2.0</td>\n",
       "      <td>3</td>\n",
       "      <td>1.0</td>\n",
       "      <td>4</td>\n",
       "    </tr>\n",
       "    <tr>\n",
       "      <th>4</th>\n",
       "      <td>1.0</td>\n",
       "      <td>21.0</td>\n",
       "      <td>13.0</td>\n",
       "      <td>1.0</td>\n",
       "      <td>0.0</td>\n",
       "      <td>4.0</td>\n",
       "      <td>1.0</td>\n",
       "      <td>3.0</td>\n",
       "      <td>6.0</td>\n",
       "      <td>5A</td>\n",
       "      <td>...</td>\n",
       "      <td>1.0</td>\n",
       "      <td>2.0</td>\n",
       "      <td>4.0</td>\n",
       "      <td>3.0</td>\n",
       "      <td>3.0</td>\n",
       "      <td>9.0</td>\n",
       "      <td>7.0</td>\n",
       "      <td>4</td>\n",
       "      <td>1.0</td>\n",
       "      <td>4</td>\n",
       "    </tr>\n",
       "  </tbody>\n",
       "</table>\n",
       "<p>5 rows × 329 columns</p>\n",
       "</div>"
      ],
      "text/plain": [
       "   AKT_DAT_KL  ALTER_HH  ALTERSKATEGORIE_FEIN  ANZ_HAUSHALTE_AKTIV  \\\n",
       "0         1.0       7.0                   6.0                  2.0   \n",
       "1         1.0       NaN                   0.0                 20.0   \n",
       "2         9.0      16.0                  11.0                  2.0   \n",
       "3         7.0       NaN                   0.0                  1.0   \n",
       "4         1.0      21.0                  13.0                  1.0   \n",
       "\n",
       "   ANZ_KINDER  ANZ_PERSONEN  ANZ_STATISTISCHE_HAUSHALTE  ARBEIT  BALLRAUM  \\\n",
       "0         0.0           2.0                         2.0     3.0       6.0   \n",
       "1         0.0           1.0                        21.0     4.0       7.0   \n",
       "2         0.0           4.0                         2.0     4.0       1.0   \n",
       "3         0.0           0.0                         1.0     4.0       1.0   \n",
       "4         0.0           4.0                         1.0     3.0       6.0   \n",
       "\n",
       "  CAMEO_DEU_2015  ...  VHN  VK_DHT4A  VK_DISTANZ  VK_ZG11  W_KEIT_KIND_HH  \\\n",
       "0             2B  ...  4.0       5.0         6.0      3.0             6.0   \n",
       "1             5A  ...  1.0       5.0         2.0      1.0             6.0   \n",
       "2             7A  ...  3.0       9.0         6.0      3.0             2.0   \n",
       "3             2B  ...  2.0       6.0         6.0      3.0             NaN   \n",
       "4             5A  ...  1.0       2.0         4.0      3.0             3.0   \n",
       "\n",
       "   WOHNDAUER_2008  WOHNLAGE  ZABEOTYP  ANREDE_KZ  ALTERSKATEGORIE_GROB  \n",
       "0             9.0       3.0         3        NaN                     4  \n",
       "1             9.0       5.0         3        NaN                     4  \n",
       "2             9.0       4.0         3        1.0                     4  \n",
       "3             9.0       2.0         3        1.0                     4  \n",
       "4             9.0       7.0         4        1.0                     4  \n",
       "\n",
       "[5 rows x 329 columns]"
      ]
     },
     "execution_count": 236,
     "metadata": {},
     "output_type": "execute_result"
    }
   ],
   "source": [
    "mailout_test_reduced = clean_mailout_data(mailout_test, unknown_values_dict, columns_to_drop, hidden_missing_data)\n",
    "mailout_test_reduced.head()"
   ]
  },
  {
   "cell_type": "markdown",
   "metadata": {},
   "source": [
    "### Imputing missing values into the test data set"
   ]
  },
  {
   "cell_type": "code",
   "execution_count": 237,
   "metadata": {
    "scrolled": true
   },
   "outputs": [],
   "source": [
    "mailout_test_imputed, categorical_test_columns = impute_mailout_data(mailout_test_reduced, \n",
    "                                                                     columns_to_drop, \n",
    "                                                                     mail_nominal)"
   ]
  },
  {
   "cell_type": "code",
   "execution_count": 238,
   "metadata": {
    "scrolled": false
   },
   "outputs": [
    {
     "data": {
      "text/plain": [
       "False"
      ]
     },
     "execution_count": 238,
     "metadata": {},
     "output_type": "execute_result"
    }
   ],
   "source": [
    "mailout_test_imputed.isnull().values.any()"
   ]
  },
  {
   "cell_type": "markdown",
   "metadata": {},
   "source": [
    "After imputing some data there are no more missing values in the test data set."
   ]
  },
  {
   "cell_type": "markdown",
   "metadata": {},
   "source": [
    "### Scaling the test data set"
   ]
  },
  {
   "cell_type": "code",
   "execution_count": 239,
   "metadata": {
    "scrolled": false
   },
   "outputs": [
    {
     "data": {
      "text/plain": [
       "(42833, 458)"
      ]
     },
     "execution_count": 239,
     "metadata": {},
     "output_type": "execute_result"
    }
   ],
   "source": [
    "mailout_test_scaled_df = encode_and_scale_mailout_data(mailout_test_imputed, categorical_test_columns)\n",
    "mailout_test_scaled_df.shape"
   ]
  },
  {
   "cell_type": "markdown",
   "metadata": {},
   "source": [
    "### Making predictions for the test data set"
   ]
  },
  {
   "cell_type": "code",
   "execution_count": 240,
   "metadata": {
    "scrolled": true
   },
   "outputs": [],
   "source": [
    "mailout_test_lnr = mailout_test['LNR']"
   ]
  },
  {
   "cell_type": "code",
   "execution_count": 242,
   "metadata": {
    "scrolled": true
   },
   "outputs": [],
   "source": [
    "kaggle_grb = best_estimator.predict_proba(mailout_test_scaled_df)[:,1]"
   ]
  },
  {
   "cell_type": "code",
   "execution_count": 243,
   "metadata": {
    "scrolled": true
   },
   "outputs": [],
   "source": [
    "kaggle_grb_df = pd.DataFrame(data = kaggle_grb, index = mailout_test_lnr, columns = ['RESPONSE'])"
   ]
  },
  {
   "cell_type": "code",
   "execution_count": 244,
   "metadata": {
    "scrolled": false
   },
   "outputs": [
    {
     "data": {
      "text/html": [
       "<div>\n",
       "<style scoped>\n",
       "    .dataframe tbody tr th:only-of-type {\n",
       "        vertical-align: middle;\n",
       "    }\n",
       "\n",
       "    .dataframe tbody tr th {\n",
       "        vertical-align: top;\n",
       "    }\n",
       "\n",
       "    .dataframe thead th {\n",
       "        text-align: right;\n",
       "    }\n",
       "</style>\n",
       "<table border=\"1\" class=\"dataframe\">\n",
       "  <thead>\n",
       "    <tr style=\"text-align: right;\">\n",
       "      <th></th>\n",
       "      <th>RESPONSE</th>\n",
       "    </tr>\n",
       "    <tr>\n",
       "      <th>LNR</th>\n",
       "      <th></th>\n",
       "    </tr>\n",
       "  </thead>\n",
       "  <tbody>\n",
       "    <tr>\n",
       "      <th>1754</th>\n",
       "      <td>0.031588</td>\n",
       "    </tr>\n",
       "    <tr>\n",
       "      <th>1770</th>\n",
       "      <td>0.040468</td>\n",
       "    </tr>\n",
       "    <tr>\n",
       "      <th>1465</th>\n",
       "      <td>0.002991</td>\n",
       "    </tr>\n",
       "    <tr>\n",
       "      <th>1470</th>\n",
       "      <td>0.005107</td>\n",
       "    </tr>\n",
       "    <tr>\n",
       "      <th>1478</th>\n",
       "      <td>0.004093</td>\n",
       "    </tr>\n",
       "  </tbody>\n",
       "</table>\n",
       "</div>"
      ],
      "text/plain": [
       "      RESPONSE\n",
       "LNR           \n",
       "1754  0.031588\n",
       "1770  0.040468\n",
       "1465  0.002991\n",
       "1470  0.005107\n",
       "1478  0.004093"
      ]
     },
     "execution_count": 244,
     "metadata": {},
     "output_type": "execute_result"
    }
   ],
   "source": [
    "kaggle_grb_df.head()"
   ]
  },
  {
   "cell_type": "markdown",
   "metadata": {},
   "source": [
    "### Saving predictions to a file"
   ]
  },
  {
   "cell_type": "code",
   "execution_count": 245,
   "metadata": {
    "scrolled": true
   },
   "outputs": [],
   "source": [
    "kaggle_grb_df.to_csv(\"data/submission2.csv\")"
   ]
  },
  {
   "cell_type": "markdown",
   "metadata": {},
   "source": [
    "After making a submission to the Kaggle competition, the score of 0.78583 has been achieved with the 224th place on the score board."
   ]
  },
  {
   "cell_type": "code",
   "execution_count": null,
   "metadata": {
    "scrolled": true
   },
   "outputs": [],
   "source": []
  }
 ],
 "metadata": {
  "kernelspec": {
   "display_name": "Python 3",
   "language": "python",
   "name": "python3"
  },
  "language_info": {
   "codemirror_mode": {
    "name": "ipython",
    "version": 3
   },
   "file_extension": ".py",
   "mimetype": "text/x-python",
   "name": "python",
   "nbconvert_exporter": "python",
   "pygments_lexer": "ipython3",
   "version": "3.7.6"
  }
 },
 "nbformat": 4,
 "nbformat_minor": 2
}
